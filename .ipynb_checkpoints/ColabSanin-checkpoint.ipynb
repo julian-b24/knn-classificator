{
 "cells": [
  {
   "cell_type": "markdown",
   "metadata": {
    "id": "2fCttZG0opEs"
   },
   "source": [
    "# **Taller 3: clasificación de especies de iris usando K-vecinos más cercanos.**\n",
    "\n",
    "**Curso: 09481 - Inteligencia Artificial.**\n",
    "\n",
    "**Universidad Icesi.**\n",
    "\n",
    "**Profesor: Breyner Posso.**"
   ]
  },
  {
   "cell_type": "markdown",
   "metadata": {
    "id": "I-ADEbAe50_-"
   },
   "source": [
    "En este taller vamos a explorar el conjunto de datos iris que se usa desde hace varias décadas en estadística y reconocimiento de patrones. Este conjunto de datos fue utilizado por  Fisher en su artículo clásico de 1936, titulado \"The Use of Multiple Measurements in Taxonomic Problems\". El conjunto de datos muestra los atributos de tres especies de plantas que florecen, por ello, se presta para realizar un taller de clasificación. En esta sesión usted va a explorar el clasificador de k-vecinos más cercanos o KNN. Para ello va a explorar algunas de las etapas del flujo de proyectos de analítica que se han cubierto en el curso hasta el momento, entre ellos, el análisis exploratorio de datos incluyendo visualización, el escalado de los atributos de entrada, la división de los conjuntos de datos, y el cálculo y análisis de las métricas de desempeño de un clasificador. "
   ]
  },
  {
   "cell_type": "markdown",
   "metadata": {
    "id": "LQcNGMN07WXE"
   },
   "source": [
    "# 0. Importar librerías."
   ]
  },
  {
   "cell_type": "code",
   "execution_count": 1,
   "metadata": {
    "id": "6j2ZJQwUoqRD"
   },
   "outputs": [],
   "source": [
    "#Vamos a importar las librerías que vamos a utilizar.\n",
    "\n",
    "import pandas as pd                #Importamos la librería pandas. Nos va a servir para leer y manipular conjuntos de datos tabulares.\n",
    "import matplotlib.pyplot as plt    #Importamos pyplot de librería matplotlib. Lo vamos a utilizar para graficar.\n",
    "import seaborn as sns              #Importamos la librería Seaborn. La vamos a utilizar para graficar.\n",
    "import numpy as np                 #Importamos la librería numpy para manipular arreglos. \n",
    "from google.colab import files     #Esta librería nos sirve para cargar archivos desde el disco duro.\n",
    "\n",
    "from sklearn.model_selection import train_test_split #Útil para dividir los conjuntos de datos. \n",
    "from sklearn.preprocessing import MinMaxScaler       #Útil para escalar los atributos de entrada.\n",
    "from sklearn import neighbors  #Permite usar KNN.\n",
    "from sklearn import metrics    #Permite calcular algunas métricas de desempeño.\n",
    "\n",
    "from copy import deepcopy      #Permite hacer copias profundas. "
   ]
  },
  {
   "cell_type": "markdown",
   "metadata": {
    "id": "7QBXi-bV7u0k"
   },
   "source": [
    "# 1. Cargar datos."
   ]
  },
  {
   "cell_type": "code",
   "execution_count": 2,
   "metadata": {
    "colab": {
     "base_uri": "https://localhost:8080/",
     "height": 750
    },
    "id": "l-qV7OutoyML",
    "outputId": "a05383d2-cb08-40ca-9ba5-b98a64839b6f"
   },
   "outputs": [
    {
     "data": {
      "text/html": [
       "\n",
       "     <input type=\"file\" id=\"files-111b2e46-df4a-4f0a-a7a6-98c36d4d4182\" name=\"files[]\" multiple disabled\n",
       "        style=\"border:none\" />\n",
       "     <output id=\"result-111b2e46-df4a-4f0a-a7a6-98c36d4d4182\">\n",
       "      Upload widget is only available when the cell has been executed in the\n",
       "      current browser session. Please rerun this cell to enable.\n",
       "      </output>\n",
       "      <script>// Copyright 2017 Google LLC\n",
       "//\n",
       "// Licensed under the Apache License, Version 2.0 (the \"License\");\n",
       "// you may not use this file except in compliance with the License.\n",
       "// You may obtain a copy of the License at\n",
       "//\n",
       "//      http://www.apache.org/licenses/LICENSE-2.0\n",
       "//\n",
       "// Unless required by applicable law or agreed to in writing, software\n",
       "// distributed under the License is distributed on an \"AS IS\" BASIS,\n",
       "// WITHOUT WARRANTIES OR CONDITIONS OF ANY KIND, either express or implied.\n",
       "// See the License for the specific language governing permissions and\n",
       "// limitations under the License.\n",
       "\n",
       "/**\n",
       " * @fileoverview Helpers for google.colab Python module.\n",
       " */\n",
       "(function(scope) {\n",
       "function span(text, styleAttributes = {}) {\n",
       "  const element = document.createElement('span');\n",
       "  element.textContent = text;\n",
       "  for (const key of Object.keys(styleAttributes)) {\n",
       "    element.style[key] = styleAttributes[key];\n",
       "  }\n",
       "  return element;\n",
       "}\n",
       "\n",
       "// Max number of bytes which will be uploaded at a time.\n",
       "const MAX_PAYLOAD_SIZE = 100 * 1024;\n",
       "\n",
       "function _uploadFiles(inputId, outputId) {\n",
       "  const steps = uploadFilesStep(inputId, outputId);\n",
       "  const outputElement = document.getElementById(outputId);\n",
       "  // Cache steps on the outputElement to make it available for the next call\n",
       "  // to uploadFilesContinue from Python.\n",
       "  outputElement.steps = steps;\n",
       "\n",
       "  return _uploadFilesContinue(outputId);\n",
       "}\n",
       "\n",
       "// This is roughly an async generator (not supported in the browser yet),\n",
       "// where there are multiple asynchronous steps and the Python side is going\n",
       "// to poll for completion of each step.\n",
       "// This uses a Promise to block the python side on completion of each step,\n",
       "// then passes the result of the previous step as the input to the next step.\n",
       "function _uploadFilesContinue(outputId) {\n",
       "  const outputElement = document.getElementById(outputId);\n",
       "  const steps = outputElement.steps;\n",
       "\n",
       "  const next = steps.next(outputElement.lastPromiseValue);\n",
       "  return Promise.resolve(next.value.promise).then((value) => {\n",
       "    // Cache the last promise value to make it available to the next\n",
       "    // step of the generator.\n",
       "    outputElement.lastPromiseValue = value;\n",
       "    return next.value.response;\n",
       "  });\n",
       "}\n",
       "\n",
       "/**\n",
       " * Generator function which is called between each async step of the upload\n",
       " * process.\n",
       " * @param {string} inputId Element ID of the input file picker element.\n",
       " * @param {string} outputId Element ID of the output display.\n",
       " * @return {!Iterable<!Object>} Iterable of next steps.\n",
       " */\n",
       "function* uploadFilesStep(inputId, outputId) {\n",
       "  const inputElement = document.getElementById(inputId);\n",
       "  inputElement.disabled = false;\n",
       "\n",
       "  const outputElement = document.getElementById(outputId);\n",
       "  outputElement.innerHTML = '';\n",
       "\n",
       "  const pickedPromise = new Promise((resolve) => {\n",
       "    inputElement.addEventListener('change', (e) => {\n",
       "      resolve(e.target.files);\n",
       "    });\n",
       "  });\n",
       "\n",
       "  const cancel = document.createElement('button');\n",
       "  inputElement.parentElement.appendChild(cancel);\n",
       "  cancel.textContent = 'Cancel upload';\n",
       "  const cancelPromise = new Promise((resolve) => {\n",
       "    cancel.onclick = () => {\n",
       "      resolve(null);\n",
       "    };\n",
       "  });\n",
       "\n",
       "  // Wait for the user to pick the files.\n",
       "  const files = yield {\n",
       "    promise: Promise.race([pickedPromise, cancelPromise]),\n",
       "    response: {\n",
       "      action: 'starting',\n",
       "    }\n",
       "  };\n",
       "\n",
       "  cancel.remove();\n",
       "\n",
       "  // Disable the input element since further picks are not allowed.\n",
       "  inputElement.disabled = true;\n",
       "\n",
       "  if (!files) {\n",
       "    return {\n",
       "      response: {\n",
       "        action: 'complete',\n",
       "      }\n",
       "    };\n",
       "  }\n",
       "\n",
       "  for (const file of files) {\n",
       "    const li = document.createElement('li');\n",
       "    li.append(span(file.name, {fontWeight: 'bold'}));\n",
       "    li.append(span(\n",
       "        `(${file.type || 'n/a'}) - ${file.size} bytes, ` +\n",
       "        `last modified: ${\n",
       "            file.lastModifiedDate ? file.lastModifiedDate.toLocaleDateString() :\n",
       "                                    'n/a'} - `));\n",
       "    const percent = span('0% done');\n",
       "    li.appendChild(percent);\n",
       "\n",
       "    outputElement.appendChild(li);\n",
       "\n",
       "    const fileDataPromise = new Promise((resolve) => {\n",
       "      const reader = new FileReader();\n",
       "      reader.onload = (e) => {\n",
       "        resolve(e.target.result);\n",
       "      };\n",
       "      reader.readAsArrayBuffer(file);\n",
       "    });\n",
       "    // Wait for the data to be ready.\n",
       "    let fileData = yield {\n",
       "      promise: fileDataPromise,\n",
       "      response: {\n",
       "        action: 'continue',\n",
       "      }\n",
       "    };\n",
       "\n",
       "    // Use a chunked sending to avoid message size limits. See b/62115660.\n",
       "    let position = 0;\n",
       "    do {\n",
       "      const length = Math.min(fileData.byteLength - position, MAX_PAYLOAD_SIZE);\n",
       "      const chunk = new Uint8Array(fileData, position, length);\n",
       "      position += length;\n",
       "\n",
       "      const base64 = btoa(String.fromCharCode.apply(null, chunk));\n",
       "      yield {\n",
       "        response: {\n",
       "          action: 'append',\n",
       "          file: file.name,\n",
       "          data: base64,\n",
       "        },\n",
       "      };\n",
       "\n",
       "      let percentDone = fileData.byteLength === 0 ?\n",
       "          100 :\n",
       "          Math.round((position / fileData.byteLength) * 100);\n",
       "      percent.textContent = `${percentDone}% done`;\n",
       "\n",
       "    } while (position < fileData.byteLength);\n",
       "  }\n",
       "\n",
       "  // All done.\n",
       "  yield {\n",
       "    response: {\n",
       "      action: 'complete',\n",
       "    }\n",
       "  };\n",
       "}\n",
       "\n",
       "scope.google = scope.google || {};\n",
       "scope.google.colab = scope.google.colab || {};\n",
       "scope.google.colab._files = {\n",
       "  _uploadFiles,\n",
       "  _uploadFilesContinue,\n",
       "};\n",
       "})(self);\n",
       "</script> "
      ],
      "text/plain": [
       "<IPython.core.display.HTML object>"
      ]
     },
     "metadata": {},
     "output_type": "display_data"
    },
    {
     "name": "stdout",
     "output_type": "stream",
     "text": [
      "Saving iris.csv to iris.csv\n"
     ]
    },
    {
     "data": {
      "text/plain": [
       "{'iris.csv': b'Id,SepalLengthCm,SepalWidthCm,PetalLengthCm,PetalWidthCm,Species\\n1,5.1,3.5,1.4,0.2,Iris-setosa\\n2,4.9,3.0,1.4,0.2,Iris-setosa\\n3,4.7,3.2,1.3,0.2,Iris-setosa\\n4,4.6,3.1,1.5,0.2,Iris-setosa\\n5,5.0,3.6,1.4,0.2,Iris-setosa\\n6,5.4,3.9,1.7,0.4,Iris-setosa\\n7,4.6,3.4,1.4,0.3,Iris-setosa\\n8,5.0,3.4,1.5,0.2,Iris-setosa\\n9,4.4,2.9,1.4,0.2,Iris-setosa\\n10,4.9,3.1,1.5,0.1,Iris-setosa\\n11,5.4,3.7,1.5,0.2,Iris-setosa\\n12,4.8,3.4,1.6,0.2,Iris-setosa\\n13,4.8,3.0,1.4,0.1,Iris-setosa\\n14,4.3,3.0,1.1,0.1,Iris-setosa\\n15,5.8,4.0,1.2,0.2,Iris-setosa\\n16,5.7,4.4,1.5,0.4,Iris-setosa\\n17,5.4,3.9,1.3,0.4,Iris-setosa\\n18,5.1,3.5,1.4,0.3,Iris-setosa\\n19,5.7,3.8,1.7,0.3,Iris-setosa\\n20,5.1,3.8,1.5,0.3,Iris-setosa\\n21,5.4,3.4,1.7,0.2,Iris-setosa\\n22,5.1,3.7,1.5,0.4,Iris-setosa\\n23,4.6,3.6,1.0,0.2,Iris-setosa\\n24,5.1,3.3,1.7,0.5,Iris-setosa\\n25,4.8,3.4,1.9,0.2,Iris-setosa\\n26,5.0,3.0,1.6,0.2,Iris-setosa\\n27,5.0,3.4,1.6,0.4,Iris-setosa\\n28,5.2,3.5,1.5,0.2,Iris-setosa\\n29,5.2,3.4,1.4,0.2,Iris-setosa\\n30,4.7,3.2,1.6,0.2,Iris-setosa\\n31,4.8,3.1,1.6,0.2,Iris-setosa\\n32,5.4,3.4,1.5,0.4,Iris-setosa\\n33,5.2,4.1,1.5,0.1,Iris-setosa\\n34,5.5,4.2,1.4,0.2,Iris-setosa\\n35,4.9,3.1,1.5,0.1,Iris-setosa\\n36,5.0,3.2,1.2,0.2,Iris-setosa\\n37,5.5,3.5,1.3,0.2,Iris-setosa\\n38,4.9,3.1,1.5,0.1,Iris-setosa\\n39,4.4,3.0,1.3,0.2,Iris-setosa\\n40,5.1,3.4,1.5,0.2,Iris-setosa\\n41,5.0,3.5,1.3,0.3,Iris-setosa\\n42,4.5,2.3,1.3,0.3,Iris-setosa\\n43,4.4,3.2,1.3,0.2,Iris-setosa\\n44,5.0,3.5,1.6,0.6,Iris-setosa\\n45,5.1,3.8,1.9,0.4,Iris-setosa\\n46,4.8,3.0,1.4,0.3,Iris-setosa\\n47,5.1,3.8,1.6,0.2,Iris-setosa\\n48,4.6,3.2,1.4,0.2,Iris-setosa\\n49,5.3,3.7,1.5,0.2,Iris-setosa\\n50,5.0,3.3,1.4,0.2,Iris-setosa\\n51,7.0,3.2,4.7,1.4,Iris-versicolor\\n52,6.4,3.2,4.5,1.5,Iris-versicolor\\n53,6.9,3.1,4.9,1.5,Iris-versicolor\\n54,5.5,2.3,4.0,1.3,Iris-versicolor\\n55,6.5,2.8,4.6,1.5,Iris-versicolor\\n56,5.7,2.8,4.5,1.3,Iris-versicolor\\n57,6.3,3.3,4.7,1.6,Iris-versicolor\\n58,4.9,2.4,3.3,1.0,Iris-versicolor\\n59,6.6,2.9,4.6,1.3,Iris-versicolor\\n60,5.2,2.7,3.9,1.4,Iris-versicolor\\n61,5.0,2.0,3.5,1.0,Iris-versicolor\\n62,5.9,3.0,4.2,1.5,Iris-versicolor\\n63,6.0,2.2,4.0,1.0,Iris-versicolor\\n64,6.1,2.9,4.7,1.4,Iris-versicolor\\n65,5.6,2.9,3.6,1.3,Iris-versicolor\\n66,6.7,3.1,4.4,1.4,Iris-versicolor\\n67,5.6,3.0,4.5,1.5,Iris-versicolor\\n68,5.8,2.7,4.1,1.0,Iris-versicolor\\n69,6.2,2.2,4.5,1.5,Iris-versicolor\\n70,5.6,2.5,3.9,1.1,Iris-versicolor\\n71,5.9,3.2,4.8,1.8,Iris-versicolor\\n72,6.1,2.8,4.0,1.3,Iris-versicolor\\n73,6.3,2.5,4.9,1.5,Iris-versicolor\\n74,6.1,2.8,4.7,1.2,Iris-versicolor\\n75,6.4,2.9,4.3,1.3,Iris-versicolor\\n76,6.6,3.0,4.4,1.4,Iris-versicolor\\n77,6.8,2.8,4.8,1.4,Iris-versicolor\\n78,6.7,3.0,5.0,1.7,Iris-versicolor\\n79,6.0,2.9,4.5,1.5,Iris-versicolor\\n80,5.7,2.6,3.5,1.0,Iris-versicolor\\n81,5.5,2.4,3.8,1.1,Iris-versicolor\\n82,5.5,2.4,3.7,1.0,Iris-versicolor\\n83,5.8,2.7,3.9,1.2,Iris-versicolor\\n84,6.0,2.7,5.1,1.6,Iris-versicolor\\n85,5.4,3.0,4.5,1.5,Iris-versicolor\\n86,6.0,3.4,4.5,1.6,Iris-versicolor\\n87,6.7,3.1,4.7,1.5,Iris-versicolor\\n88,6.3,2.3,4.4,1.3,Iris-versicolor\\n89,5.6,3.0,4.1,1.3,Iris-versicolor\\n90,5.5,2.5,4.0,1.3,Iris-versicolor\\n91,5.5,2.6,4.4,1.2,Iris-versicolor\\n92,6.1,3.0,4.6,1.4,Iris-versicolor\\n93,5.8,2.6,4.0,1.2,Iris-versicolor\\n94,5.0,2.3,3.3,1.0,Iris-versicolor\\n95,5.6,2.7,4.2,1.3,Iris-versicolor\\n96,5.7,3.0,4.2,1.2,Iris-versicolor\\n97,5.7,2.9,4.2,1.3,Iris-versicolor\\n98,6.2,2.9,4.3,1.3,Iris-versicolor\\n99,5.1,2.5,3.0,1.1,Iris-versicolor\\n100,5.7,2.8,4.1,1.3,Iris-versicolor\\n101,6.3,3.3,6.0,2.5,Iris-virginica\\n102,5.8,2.7,5.1,1.9,Iris-virginica\\n103,7.1,3.0,5.9,2.1,Iris-virginica\\n104,6.3,2.9,5.6,1.8,Iris-virginica\\n105,6.5,3.0,5.8,2.2,Iris-virginica\\n106,7.6,3.0,6.6,2.1,Iris-virginica\\n107,4.9,2.5,4.5,1.7,Iris-virginica\\n108,7.3,2.9,6.3,1.8,Iris-virginica\\n109,6.7,2.5,5.8,1.8,Iris-virginica\\n110,7.2,3.6,6.1,2.5,Iris-virginica\\n111,6.5,3.2,5.1,2.0,Iris-virginica\\n112,6.4,2.7,5.3,1.9,Iris-virginica\\n113,6.8,3.0,5.5,2.1,Iris-virginica\\n114,5.7,2.5,5.0,2.0,Iris-virginica\\n115,5.8,2.8,5.1,2.4,Iris-virginica\\n116,6.4,3.2,5.3,2.3,Iris-virginica\\n117,6.5,3.0,5.5,1.8,Iris-virginica\\n118,7.7,3.8,6.7,2.2,Iris-virginica\\n119,7.7,2.6,6.9,2.3,Iris-virginica\\n120,6.0,2.2,5.0,1.5,Iris-virginica\\n121,6.9,3.2,5.7,2.3,Iris-virginica\\n122,5.6,2.8,4.9,2.0,Iris-virginica\\n123,7.7,2.8,6.7,2.0,Iris-virginica\\n124,6.3,2.7,4.9,1.8,Iris-virginica\\n125,6.7,3.3,5.7,2.1,Iris-virginica\\n126,7.2,3.2,6.0,1.8,Iris-virginica\\n127,6.2,2.8,4.8,1.8,Iris-virginica\\n128,6.1,3.0,4.9,1.8,Iris-virginica\\n129,6.4,2.8,5.6,2.1,Iris-virginica\\n130,7.2,3.0,5.8,1.6,Iris-virginica\\n131,7.4,2.8,6.1,1.9,Iris-virginica\\n132,7.9,3.8,6.4,2.0,Iris-virginica\\n133,6.4,2.8,5.6,2.2,Iris-virginica\\n134,6.3,2.8,5.1,1.5,Iris-virginica\\n135,6.1,2.6,5.6,1.4,Iris-virginica\\n136,7.7,3.0,6.1,2.3,Iris-virginica\\n137,6.3,3.4,5.6,2.4,Iris-virginica\\n138,6.4,3.1,5.5,1.8,Iris-virginica\\n139,6.0,3.0,4.8,1.8,Iris-virginica\\n140,6.9,3.1,5.4,2.1,Iris-virginica\\n141,6.7,3.1,5.6,2.4,Iris-virginica\\n142,6.9,3.1,5.1,2.3,Iris-virginica\\n143,5.8,2.7,5.1,1.9,Iris-virginica\\n144,6.8,3.2,5.9,2.3,Iris-virginica\\n145,6.7,3.3,5.7,2.5,Iris-virginica\\n146,6.7,3.0,5.2,2.3,Iris-virginica\\n147,6.3,2.5,5.0,1.9,Iris-virginica\\n148,6.5,3.0,5.2,2.0,Iris-virginica\\n149,6.2,3.4,5.4,2.3,Iris-virginica\\n150,5.9,3.0,5.1,1.8,Iris-virginica\\n'}"
      ]
     },
     "execution_count": 2,
     "metadata": {},
     "output_type": "execute_result"
    }
   ],
   "source": [
    "#Primero vamos a descargar el archivo \"iris.csv\" en nuestra máquina local desde Moodle o desde esta ruta: https://www.kaggle.com/uciml/iris\n",
    "\n",
    "#Ahora cargamos en Google Colab el archivo que tiene el conjunto de datos \"iris.csv\"\n",
    "files.upload()  #Nota: si este comando falla, revise que su navegador permite el almacenamiento de cookies. \n"
   ]
  },
  {
   "cell_type": "code",
   "execution_count": 4,
   "metadata": {
    "id": "yX_iHKcG2JC0"
   },
   "outputs": [],
   "source": [
    "#Vamos a utilizar el dataset iris (https://www.kaggle.com/datasets/uciml/iris)\n",
    "# Vamos a leer el conjunto de datos en un dataframe de pandas.\n",
    "df = pd.read_csv('iris.csv') #Ruta completa a la ubicación del archivo de interés."
   ]
  },
  {
   "cell_type": "markdown",
   "metadata": {
    "id": "8NHHdbhh7Q0p"
   },
   "source": [
    "# 2. Análisis exploratorio de datos."
   ]
  },
  {
   "cell_type": "code",
   "execution_count": null,
   "metadata": {
    "colab": {
     "base_uri": "https://localhost:8080/"
    },
    "id": "_JCq5jBP2JC1",
    "outputId": "e12494d3-eb5a-47d3-a40b-c9013e9d0b6a"
   },
   "outputs": [
    {
     "name": "stdout",
     "output_type": "stream",
     "text": [
      "Número de filas: 150\n",
      "Número de columnas: 6\n"
     ]
    }
   ],
   "source": [
    "n_obs,n_atr = df.shape\n",
    "print('Número de filas:' , n_obs)\n",
    "print('Número de columnas:', n_atr)"
   ]
  },
  {
   "cell_type": "markdown",
   "metadata": {
    "id": "893OJro02JC4"
   },
   "source": [
    "#### **Pregunta 2.1**\n",
    "\n",
    "Indique los dipos de datos para cada uno de los atributos."
   ]
  },
  {
   "cell_type": "code",
   "execution_count": null,
   "metadata": {
    "colab": {
     "base_uri": "https://localhost:8080/"
    },
    "id": "Ty8mm_ED2JC4",
    "outputId": "ccb91c29-5581-4daf-cf2d-4afa79c8305e"
   },
   "outputs": [
    {
     "name": "stdout",
     "output_type": "stream",
     "text": [
      "Id                 int64\n",
      "SepalLengthCm    float64\n",
      "SepalWidthCm     float64\n",
      "PetalLengthCm    float64\n",
      "PetalWidthCm     float64\n",
      "Species           object\n",
      "dtype: object\n"
     ]
    }
   ],
   "source": [
    "#Respuesta Pregunta 2.1\n",
    "\n",
    "type(df)\n",
    "print(df.dtypes)"
   ]
  },
  {
   "cell_type": "markdown",
   "metadata": {
    "id": "pkbG-vPc4hlG"
   },
   "source": []
  },
  {
   "cell_type": "code",
   "execution_count": null,
   "metadata": {
    "id": "Fd2aCea23ykz"
   },
   "outputs": [],
   "source": []
  },
  {
   "cell_type": "markdown",
   "metadata": {
    "id": "eoS10ruV2JC5"
   },
   "source": [
    "#### **Pregunta 2.2**\n",
    "\n",
    "Indique si el dataset tiene valores nulos."
   ]
  },
  {
   "cell_type": "code",
   "execution_count": null,
   "metadata": {
    "colab": {
     "base_uri": "https://localhost:8080/"
    },
    "id": "z0seW81U2JC6",
    "outputId": "7299b9e1-f59f-4e65-84b9-4af7801f5eeb"
   },
   "outputs": [
    {
     "name": "stdout",
     "output_type": "stream",
     "text": [
      "<class 'pandas.core.frame.DataFrame'>\n",
      "RangeIndex: 150 entries, 0 to 149\n",
      "Data columns (total 6 columns):\n",
      " #   Column         Non-Null Count  Dtype  \n",
      "---  ------         --------------  -----  \n",
      " 0   Id             150 non-null    int64  \n",
      " 1   SepalLengthCm  150 non-null    float64\n",
      " 2   SepalWidthCm   150 non-null    float64\n",
      " 3   PetalLengthCm  150 non-null    float64\n",
      " 4   PetalWidthCm   150 non-null    float64\n",
      " 5   Species        150 non-null    object \n",
      "dtypes: float64(4), int64(1), object(1)\n",
      "memory usage: 7.2+ KB\n"
     ]
    }
   ],
   "source": [
    "#Respuesta Pregunta 2.2\n",
    "df.info()\n"
   ]
  },
  {
   "cell_type": "markdown",
   "metadata": {
    "id": "1xilFhdA4owi"
   },
   "source": [
    "Podemos ver que el dataset no tiene nulos ya que todas las columnas tienen 150 non-null que indica que los valores están completos."
   ]
  },
  {
   "cell_type": "code",
   "execution_count": null,
   "metadata": {
    "colab": {
     "base_uri": "https://localhost:8080/",
     "height": 300
    },
    "id": "Kerjjy5x2JC7",
    "outputId": "ad5bdc1b-a2fe-46f4-886c-f634fd34e818"
   },
   "outputs": [
    {
     "data": {
      "text/html": [
       "\n",
       "  <div id=\"df-d7fb8695-b28d-4a18-8b0c-c362e50ef4f3\">\n",
       "    <div class=\"colab-df-container\">\n",
       "      <div>\n",
       "<style scoped>\n",
       "    .dataframe tbody tr th:only-of-type {\n",
       "        vertical-align: middle;\n",
       "    }\n",
       "\n",
       "    .dataframe tbody tr th {\n",
       "        vertical-align: top;\n",
       "    }\n",
       "\n",
       "    .dataframe thead th {\n",
       "        text-align: right;\n",
       "    }\n",
       "</style>\n",
       "<table border=\"1\" class=\"dataframe\">\n",
       "  <thead>\n",
       "    <tr style=\"text-align: right;\">\n",
       "      <th></th>\n",
       "      <th>Id</th>\n",
       "      <th>SepalLengthCm</th>\n",
       "      <th>SepalWidthCm</th>\n",
       "      <th>PetalLengthCm</th>\n",
       "      <th>PetalWidthCm</th>\n",
       "    </tr>\n",
       "  </thead>\n",
       "  <tbody>\n",
       "    <tr>\n",
       "      <th>count</th>\n",
       "      <td>150.000000</td>\n",
       "      <td>150.000000</td>\n",
       "      <td>150.000000</td>\n",
       "      <td>150.000000</td>\n",
       "      <td>150.000000</td>\n",
       "    </tr>\n",
       "    <tr>\n",
       "      <th>mean</th>\n",
       "      <td>75.500000</td>\n",
       "      <td>5.843333</td>\n",
       "      <td>3.054000</td>\n",
       "      <td>3.758667</td>\n",
       "      <td>1.198667</td>\n",
       "    </tr>\n",
       "    <tr>\n",
       "      <th>std</th>\n",
       "      <td>43.445368</td>\n",
       "      <td>0.828066</td>\n",
       "      <td>0.433594</td>\n",
       "      <td>1.764420</td>\n",
       "      <td>0.763161</td>\n",
       "    </tr>\n",
       "    <tr>\n",
       "      <th>min</th>\n",
       "      <td>1.000000</td>\n",
       "      <td>4.300000</td>\n",
       "      <td>2.000000</td>\n",
       "      <td>1.000000</td>\n",
       "      <td>0.100000</td>\n",
       "    </tr>\n",
       "    <tr>\n",
       "      <th>25%</th>\n",
       "      <td>38.250000</td>\n",
       "      <td>5.100000</td>\n",
       "      <td>2.800000</td>\n",
       "      <td>1.600000</td>\n",
       "      <td>0.300000</td>\n",
       "    </tr>\n",
       "    <tr>\n",
       "      <th>50%</th>\n",
       "      <td>75.500000</td>\n",
       "      <td>5.800000</td>\n",
       "      <td>3.000000</td>\n",
       "      <td>4.350000</td>\n",
       "      <td>1.300000</td>\n",
       "    </tr>\n",
       "    <tr>\n",
       "      <th>75%</th>\n",
       "      <td>112.750000</td>\n",
       "      <td>6.400000</td>\n",
       "      <td>3.300000</td>\n",
       "      <td>5.100000</td>\n",
       "      <td>1.800000</td>\n",
       "    </tr>\n",
       "    <tr>\n",
       "      <th>max</th>\n",
       "      <td>150.000000</td>\n",
       "      <td>7.900000</td>\n",
       "      <td>4.400000</td>\n",
       "      <td>6.900000</td>\n",
       "      <td>2.500000</td>\n",
       "    </tr>\n",
       "  </tbody>\n",
       "</table>\n",
       "</div>\n",
       "      <button class=\"colab-df-convert\" onclick=\"convertToInteractive('df-d7fb8695-b28d-4a18-8b0c-c362e50ef4f3')\"\n",
       "              title=\"Convert this dataframe to an interactive table.\"\n",
       "              style=\"display:none;\">\n",
       "        \n",
       "  <svg xmlns=\"http://www.w3.org/2000/svg\" height=\"24px\"viewBox=\"0 0 24 24\"\n",
       "       width=\"24px\">\n",
       "    <path d=\"M0 0h24v24H0V0z\" fill=\"none\"/>\n",
       "    <path d=\"M18.56 5.44l.94 2.06.94-2.06 2.06-.94-2.06-.94-.94-2.06-.94 2.06-2.06.94zm-11 1L8.5 8.5l.94-2.06 2.06-.94-2.06-.94L8.5 2.5l-.94 2.06-2.06.94zm10 10l.94 2.06.94-2.06 2.06-.94-2.06-.94-.94-2.06-.94 2.06-2.06.94z\"/><path d=\"M17.41 7.96l-1.37-1.37c-.4-.4-.92-.59-1.43-.59-.52 0-1.04.2-1.43.59L10.3 9.45l-7.72 7.72c-.78.78-.78 2.05 0 2.83L4 21.41c.39.39.9.59 1.41.59.51 0 1.02-.2 1.41-.59l7.78-7.78 2.81-2.81c.8-.78.8-2.07 0-2.86zM5.41 20L4 18.59l7.72-7.72 1.47 1.35L5.41 20z\"/>\n",
       "  </svg>\n",
       "      </button>\n",
       "      \n",
       "  <style>\n",
       "    .colab-df-container {\n",
       "      display:flex;\n",
       "      flex-wrap:wrap;\n",
       "      gap: 12px;\n",
       "    }\n",
       "\n",
       "    .colab-df-convert {\n",
       "      background-color: #E8F0FE;\n",
       "      border: none;\n",
       "      border-radius: 50%;\n",
       "      cursor: pointer;\n",
       "      display: none;\n",
       "      fill: #1967D2;\n",
       "      height: 32px;\n",
       "      padding: 0 0 0 0;\n",
       "      width: 32px;\n",
       "    }\n",
       "\n",
       "    .colab-df-convert:hover {\n",
       "      background-color: #E2EBFA;\n",
       "      box-shadow: 0px 1px 2px rgba(60, 64, 67, 0.3), 0px 1px 3px 1px rgba(60, 64, 67, 0.15);\n",
       "      fill: #174EA6;\n",
       "    }\n",
       "\n",
       "    [theme=dark] .colab-df-convert {\n",
       "      background-color: #3B4455;\n",
       "      fill: #D2E3FC;\n",
       "    }\n",
       "\n",
       "    [theme=dark] .colab-df-convert:hover {\n",
       "      background-color: #434B5C;\n",
       "      box-shadow: 0px 1px 3px 1px rgba(0, 0, 0, 0.15);\n",
       "      filter: drop-shadow(0px 1px 2px rgba(0, 0, 0, 0.3));\n",
       "      fill: #FFFFFF;\n",
       "    }\n",
       "  </style>\n",
       "\n",
       "      <script>\n",
       "        const buttonEl =\n",
       "          document.querySelector('#df-d7fb8695-b28d-4a18-8b0c-c362e50ef4f3 button.colab-df-convert');\n",
       "        buttonEl.style.display =\n",
       "          google.colab.kernel.accessAllowed ? 'block' : 'none';\n",
       "\n",
       "        async function convertToInteractive(key) {\n",
       "          const element = document.querySelector('#df-d7fb8695-b28d-4a18-8b0c-c362e50ef4f3');\n",
       "          const dataTable =\n",
       "            await google.colab.kernel.invokeFunction('convertToInteractive',\n",
       "                                                     [key], {});\n",
       "          if (!dataTable) return;\n",
       "\n",
       "          const docLinkHtml = 'Like what you see? Visit the ' +\n",
       "            '<a target=\"_blank\" href=https://colab.research.google.com/notebooks/data_table.ipynb>data table notebook</a>'\n",
       "            + ' to learn more about interactive tables.';\n",
       "          element.innerHTML = '';\n",
       "          dataTable['output_type'] = 'display_data';\n",
       "          await google.colab.output.renderOutput(dataTable, element);\n",
       "          const docLink = document.createElement('div');\n",
       "          docLink.innerHTML = docLinkHtml;\n",
       "          element.appendChild(docLink);\n",
       "        }\n",
       "      </script>\n",
       "    </div>\n",
       "  </div>\n",
       "  "
      ],
      "text/plain": [
       "               Id  SepalLengthCm  SepalWidthCm  PetalLengthCm  PetalWidthCm\n",
       "count  150.000000     150.000000    150.000000     150.000000    150.000000\n",
       "mean    75.500000       5.843333      3.054000       3.758667      1.198667\n",
       "std     43.445368       0.828066      0.433594       1.764420      0.763161\n",
       "min      1.000000       4.300000      2.000000       1.000000      0.100000\n",
       "25%     38.250000       5.100000      2.800000       1.600000      0.300000\n",
       "50%     75.500000       5.800000      3.000000       4.350000      1.300000\n",
       "75%    112.750000       6.400000      3.300000       5.100000      1.800000\n",
       "max    150.000000       7.900000      4.400000       6.900000      2.500000"
      ]
     },
     "execution_count": 16,
     "metadata": {},
     "output_type": "execute_result"
    }
   ],
   "source": [
    "#Vamos a ver algunas estadísticas básicas del dataset\n",
    "df.describe()"
   ]
  },
  {
   "cell_type": "code",
   "execution_count": null,
   "metadata": {
    "colab": {
     "base_uri": "https://localhost:8080/"
    },
    "id": "UnBtX3fzpKKz",
    "outputId": "655d06be-2bf5-44c3-c46f-717963a9d173",
    "scrolled": false
   },
   "outputs": [
    {
     "name": "stdout",
     "output_type": "stream",
     "text": [
      "-----------------------------------------------------------------------\n",
      "Primeras filas del dataframe:\n",
      "-----------------------------------------------------------------------\n",
      "   Id  SepalLengthCm  SepalWidthCm  PetalLengthCm  PetalWidthCm      Species\n",
      "0   1            5.1           3.5            1.4           0.2  Iris-setosa\n",
      "1   2            4.9           3.0            1.4           0.2  Iris-setosa\n",
      "2   3            4.7           3.2            1.3           0.2  Iris-setosa\n",
      "3   4            4.6           3.1            1.5           0.2  Iris-setosa\n",
      "4   5            5.0           3.6            1.4           0.2  Iris-setosa \n",
      "\n",
      "\n"
     ]
    }
   ],
   "source": [
    "# Inspeccionemos el dataframe:\n",
    "print('-----------------------------------------------------------------------')\n",
    "print('Primeras filas del dataframe:')  \n",
    "print('-----------------------------------------------------------------------')\n",
    "print(df.head(),'\\n\\n')"
   ]
  },
  {
   "cell_type": "markdown",
   "metadata": {
    "id": "4suN1Gyn2JC8"
   },
   "source": [
    "### Así se ven las flores\n",
    "\n",
    "![Flores](../img/flores.jpg)\n",
    "\n",
    "### Y sus partes\n",
    "\n",
    "\n",
    "![Partes de las flores](img/partes.jpg)"
   ]
  },
  {
   "cell_type": "code",
   "execution_count": null,
   "metadata": {
    "colab": {
     "base_uri": "https://localhost:8080/"
    },
    "id": "yJb7TCgSsPZz",
    "outputId": "39aa138c-d75b-4b8b-b625-8c9be49294ed"
   },
   "outputs": [
    {
     "name": "stdout",
     "output_type": "stream",
     "text": [
      "El nuevo dtype de la columna Species es:  category \n",
      "\n"
     ]
    }
   ],
   "source": [
    "#Necesitamos cambiar el dtype de la columna 'Species' a category.\n",
    "df['Species'] = df['Species'].astype('category')\n",
    "print('El nuevo dtype de la columna Species es: ',df['Species'].dtypes, '\\n')\n"
   ]
  },
  {
   "cell_type": "code",
   "execution_count": null,
   "metadata": {
    "colab": {
     "base_uri": "https://localhost:8080/"
    },
    "id": "ZL1iu2ZY2JC-",
    "outputId": "4d121890-4b5e-497e-c7e9-e5d00a56e650"
   },
   "outputs": [
    {
     "name": "stdout",
     "output_type": "stream",
     "text": [
      "0         Iris-setosa\n",
      "1         Iris-setosa\n",
      "2         Iris-setosa\n",
      "3         Iris-setosa\n",
      "4         Iris-setosa\n",
      "            ...      \n",
      "145    Iris-virginica\n",
      "146    Iris-virginica\n",
      "147    Iris-virginica\n",
      "148    Iris-virginica\n",
      "149    Iris-virginica\n",
      "Name: Species, Length: 150, dtype: category\n",
      "Categories (3, object): ['Iris-setosa', 'Iris-versicolor', 'Iris-virginica']\n",
      "\n",
      "\n",
      "<class 'pandas.core.series.Series'>\n"
     ]
    }
   ],
   "source": [
    "print(df['Species'])\n",
    "print('\\n')\n",
    "print(type(df['Species']))"
   ]
  },
  {
   "cell_type": "markdown",
   "metadata": {
    "id": "rdyZhMsf2JC_"
   },
   "source": [
    "### Distribución de la variable Target"
   ]
  },
  {
   "cell_type": "code",
   "execution_count": null,
   "metadata": {
    "colab": {
     "base_uri": "https://localhost:8080/",
     "height": 787
    },
    "id": "4qNqG8EC7OsU",
    "outputId": "157b7dc1-90ba-452e-efc0-a100118ad5b8",
    "scrolled": true
   },
   "outputs": [
    {
     "name": "stdout",
     "output_type": "stream",
     "text": [
      "La lista de especies es:  ['Iris-setosa', 'Iris-versicolor', 'Iris-virginica'] \n",
      "\n",
      "Conteo de objetos por especie:\n",
      "Iris-setosa        50\n",
      "Iris-versicolor    50\n",
      "Iris-virginica     50\n",
      "Name: Species, dtype: int64\n",
      "\n",
      "El tipo de este objeto es:  <class 'pandas.core.series.Series'> \n",
      "\n"
     ]
    },
    {
     "data": {
      "image/png": "[encoded data removed]",
      "text/plain": [
       "<Figure size 360x360 with 1 Axes>"
      ]
     },
     "metadata": {},
     "output_type": "display_data"
    },
    {
     "data": {
      "image/png": "[encoded data removed]",
      "text/plain": [
       "<Figure size 432x288 with 1 Axes>"
      ]
     },
     "metadata": {
      "needs_background": "light"
     },
     "output_type": "display_data"
    }
   ],
   "source": [
    "#Revisemos las categorías del conjunto de datos.\n",
    "lista_de_especies = df['Species'].unique().to_list()\n",
    "print('La lista de especies es: ',lista_de_especies, '\\n')\n",
    "\n",
    "#Econtremos cómo están repartidas las categorías en el conjunto de datos. \n",
    "conteo_de_ejemplos_por_especie = df['Species'].value_counts()\n",
    "print('Conteo de objetos por especie:\\n', conteo_de_ejemplos_por_especie, '\\n',sep='')\n",
    "print('El tipo de este objeto es: ', type(conteo_de_ejemplos_por_especie),'\\n')\n",
    "\n",
    "#Revisemos esta información de forma gráfica.\n",
    "#-------------------------------------------------------------------------------\n",
    "#Opción 1: usemos un gráfico tipo pastel desde pandas. \n",
    "#-------------------------------------------------------------------------------\n",
    "conteo_de_ejemplos_por_especie.plot(kind='pie', \n",
    "                                    figsize=(5, 5),\n",
    "                                    #autopct='%1.1f%%',  #Esto muestra úicamente el porcentaje de ejemplos de cada categoría en el gráfico. \n",
    "                                    autopct=lambda pct: '{:.1f}%\\n({:d})'.format(pct, int(pct/100.*conteo_de_ejemplos_por_especie.sum())), #Con esta función lambda se puede mostrar el porcentaje y el número absoluto de ejemplos en cada categoría. \n",
    "                                    startangle=90,       #Esto define la orientación de la línea vertical inicial de las divisiones del pie chart.\n",
    "                                    fontsize=14,         #Tamaño de los textos.         \n",
    "                                    cmap='Pastel1')      #Para otros color maps visite: https://matplotlib.org/stable/tutorials/colors/colormaps.html\n",
    "titulo = 'Distribución del número de ejemplos de cada\\ncategoría en el conjunto de datos'\n",
    "plt.title(titulo) \n",
    "plt.ylabel('') #Esto es para evitar un texto en el eje y que diría Species.\n",
    "plt.show()\n",
    "\n",
    "#-------------------------------------------------------------------------------\n",
    "#Opción 2: usemos un gráfico de barras. \n",
    "#-------------------------------------------------------------------------------\n",
    "ax = conteo_de_ejemplos_por_especie.plot.bar(x='Species', rot=0, color='gray')\n",
    "plt.title(titulo) \n",
    "plt.ylabel('Número de ejemplos')\n",
    "plt.show()\n",
    "\n"
   ]
  },
  {
   "cell_type": "markdown",
   "metadata": {
    "id": "3w12YoOR2JDA"
   },
   "source": [
    "### Valores indeseados (ceros, outliers, etc.)"
   ]
  },
  {
   "cell_type": "code",
   "execution_count": null,
   "metadata": {
    "colab": {
     "base_uri": "https://localhost:8080/",
     "height": 1000
    },
    "id": "S2SGuIHh2JDA",
    "outputId": "62faf4c9-effa-4107-d232-1a6fe1f26bcd",
    "scrolled": true
   },
   "outputs": [
    {
     "name": "stdout",
     "output_type": "stream",
     "text": [
      "Atributo: SepalLengthCm\n",
      "Número de valores 0:  0\n",
      "Porcentaje de valores cero: 0.00\n"
     ]
    },
    {
     "data": {
      "image/png": "[encoded data removed]",
      "text/plain": [
       "<Figure size 432x288 with 1 Axes>"
      ]
     },
     "metadata": {},
     "output_type": "display_data"
    },
    {
     "name": "stdout",
     "output_type": "stream",
     "text": [
      "Atributo: SepalWidthCm\n",
      "Número de valores 0:  0\n",
      "Porcentaje de valores cero: 0.00\n"
     ]
    },
    {
     "data": {
      "image/png": "[encoded data removed]",
      "text/plain": [
       "<Figure size 432x288 with 1 Axes>"
      ]
     },
     "metadata": {},
     "output_type": "display_data"
    },
    {
     "name": "stdout",
     "output_type": "stream",
     "text": [
      "Atributo: PetalLengthCm\n",
      "Número de valores 0:  0\n",
      "Porcentaje de valores cero: 0.00\n"
     ]
    },
    {
     "data": {
      "image/png": "[encoded data removed]",
      "text/plain": [
       "<Figure size 432x288 with 1 Axes>"
      ]
     },
     "metadata": {},
     "output_type": "display_data"
    },
    {
     "name": "stdout",
     "output_type": "stream",
     "text": [
      "Atributo: PetalWidthCm\n",
      "Número de valores 0:  0\n",
      "Porcentaje de valores cero: 0.00\n"
     ]
    },
    {
     "data": {
      "image/png": "[encoded data removed]",
      "text/plain": [
       "<Figure size 432x288 with 1 Axes>"
      ]
     },
     "metadata": {},
     "output_type": "display_data"
    }
   ],
   "source": [
    "#atributo = \"Id\"\n",
    "#atributo = \"SepalLengthCm\" \n",
    "#atributo = \"SepalWidthCm\"\n",
    "#atributo = \"PetalLengthCm\"\n",
    "#atributo = \"PetalWidthCm\"\n",
    "\n",
    "sns.set_theme(style=\"whitegrid\")     \n",
    "n_rows, n_cols = df.shape\n",
    "\n",
    "for i in range(1,n_cols-1):\n",
    "    atributo_de_interes = df.columns[i]\n",
    "    count = (df[atributo_de_interes] == 0).sum()\n",
    "    print('Atributo: ' + atributo_de_interes)\n",
    "    print(\"Número de valores 0: \", count)\n",
    "    print(\"Porcentaje de valores cero: %.2f\" % (100*count/n_rows))\n",
    "    ax = sns.violinplot(x=\"Species\", y=atributo_de_interes, data=df, palette=\"muted\", split=True)\n",
    "    plt.show()"
   ]
  },
  {
   "cell_type": "markdown",
   "metadata": {
    "id": "3Ll3TgHf2JDB"
   },
   "source": [
    "### Histogramas"
   ]
  },
  {
   "cell_type": "code",
   "execution_count": null,
   "metadata": {
    "colab": {
     "base_uri": "https://localhost:8080/",
     "height": 410
    },
    "id": "VH10wam32JDB",
    "outputId": "11dafe24-e682-426f-aab5-65a35f59a5fb",
    "scrolled": true
   },
   "outputs": [
    {
     "data": {
      "image/png": "[encoded data removed]",
      "text/plain": [
       "<Figure size 432x432 with 1 Axes>"
      ]
     },
     "metadata": {},
     "output_type": "display_data"
    }
   ],
   "source": [
    "#atributo = \"Id\"\n",
    "atributo = \"SepalLengthCm\" \n",
    "#atributo = \"SepalWidthCm\"\n",
    "#atributo = \"PetalLengthCm\"\n",
    "#atributo = \"PetalWidthCm\"\n",
    "\n",
    "#Qué tal si coloreamos el histograma de acuerdo con el número de cilindros de los vehículos?\n",
    "plt.figure(figsize=(6,6))\n",
    "sns.histplot(data     = df, \n",
    "             x        = atributo,\n",
    "             bins     = 30,\n",
    "             hue      = 'Species',\n",
    "             fill     = True,\n",
    "             stat     = 'count')  #'count' muestra el número de observaciones.\n",
    "                              #'frequency' muestra el número de observaciones dividida por el ancho del bin.\n",
    "                              #'density' normaliza las cuentas tal que el área del histograma es 1.\n",
    "                              #'probability' normaliza las cuentas tal que la suma de la altura de las barras es 1.\n",
    "\n",
    "plt.xlabel(atributo) #Texto en el eje x.\n",
    "plt.ylabel('Cuentas')              #Texto en el eje y.\n",
    "plt.title('Histograma')             #Título del gráfico. \n",
    "plt.show()"
   ]
  },
  {
   "cell_type": "markdown",
   "metadata": {
    "id": "lVj2BLWR2JDC"
   },
   "source": [
    "#### **Pregunta 2.3**\n",
    "\n",
    "Construya histogramas para el resto de atributos y consigne las observaciones que considere pertinentes."
   ]
  },
  {
   "cell_type": "markdown",
   "metadata": {
    "id": "Kxln_T127rof"
   },
   "source": [
    "Histograma SepalLengthCm"
   ]
  },
  {
   "cell_type": "code",
   "execution_count": null,
   "metadata": {
    "colab": {
     "base_uri": "https://localhost:8080/",
     "height": 302
    },
    "id": "Pcpv6mqz2JDC",
    "outputId": "c5886c47-3ab1-4972-936d-e155ac1188e9"
   },
   "outputs": [
    {
     "data": {
      "text/plain": [
       "<matplotlib.axes._subplots.AxesSubplot at 0x7fbc94ec3bd0>"
      ]
     },
     "execution_count": 23,
     "metadata": {},
     "output_type": "execute_result"
    },
    {
     "data": {
      "image/png": "[encoded data removed]",
      "text/plain": [
       "<Figure size 432x288 with 1 Axes>"
      ]
     },
     "metadata": {},
     "output_type": "display_data"
    }
   ],
   "source": [
    "#Respuesta Pregunta 2.3\n",
    "atr = \"SepalLengthCm\" \n",
    "sns.histplot(data=df,\n",
    "             x=atr,\n",
    "             kde=True)\n"
   ]
  },
  {
   "cell_type": "markdown",
   "metadata": {
    "id": "1sXz6x60HXZk"
   },
   "source": [
    "*   Para SepalLengthCm: Iris setosa se encuentra en los mínimos mientras que Iris Virginica se encuentra en los máximos, sin embargo todas se solapan en el medio. En el histograma específico podemos ver que existe una mayor concentración entre 5.0 y 7.0 cm "
   ]
  },
  {
   "cell_type": "code",
   "execution_count": null,
   "metadata": {
    "colab": {
     "base_uri": "https://localhost:8080/",
     "height": 410
    },
    "id": "z5QNeVi891mV",
    "outputId": "e03c70f5-4c47-43ac-9be3-de4d84e24301"
   },
   "outputs": [
    {
     "data": {
      "image/png": "[encoded data removed]",
      "text/plain": [
       "<Figure size 432x432 with 1 Axes>"
      ]
     },
     "metadata": {},
     "output_type": "display_data"
    }
   ],
   "source": [
    "#atributo = \"Id\"\n",
    "#atributo = \"SepalLengthCm\" \n",
    "atributo = \"SepalWidthCm\"\n",
    "#atributo = \"PetalLengthCm\"\n",
    "#atributo = \"PetalWidthCm\"\n",
    "\n",
    "#Qué tal si coloreamos el histograma de acuerdo con el número de cilindros de los vehículos?\n",
    "plt.figure(figsize=(6,6))\n",
    "sns.histplot(data     = df, \n",
    "             x        = atributo,\n",
    "             bins     = 30,\n",
    "             hue      = 'Species',\n",
    "             fill     = True,\n",
    "             stat     = 'count')  #'count' muestra el número de observaciones.\n",
    "                              #'frequency' muestra el número de observaciones dividida por el ancho del bin.\n",
    "                              #'density' normaliza las cuentas tal que el área del histograma es 1.\n",
    "                              #'probability' normaliza las cuentas tal que la suma de la altura de las barras es 1.\n",
    "\n",
    "plt.xlabel(atributo) #Texto en el eje x.\n",
    "plt.ylabel('Cuentas')              #Texto en el eje y.\n",
    "plt.title('Histograma')             #Título del gráfico. \n",
    "plt.show()"
   ]
  },
  {
   "cell_type": "markdown",
   "metadata": {
    "id": "iimI4brG8iCX"
   },
   "source": [
    "Histograma SepalWidthCm"
   ]
  },
  {
   "cell_type": "code",
   "execution_count": null,
   "metadata": {
    "colab": {
     "base_uri": "https://localhost:8080/",
     "height": 302
    },
    "id": "a0jvzI0F8C8I",
    "outputId": "ee7d6b23-445f-4f96-abf9-6aed06ca5203"
   },
   "outputs": [
    {
     "data": {
      "text/plain": [
       "<matplotlib.axes._subplots.AxesSubplot at 0x7fbc94eda450>"
      ]
     },
     "execution_count": 25,
     "metadata": {},
     "output_type": "execute_result"
    },
    {
     "data": {
      "image/png": "[encoded data removed]",
      "text/plain": [
       "<Figure size 432x288 with 1 Axes>"
      ]
     },
     "metadata": {},
     "output_type": "display_data"
    }
   ],
   "source": [
    "atr = \"SepalWidthCm\"\n",
    "#atributo = \"PetalLengthCm\"\n",
    "#atributo = \"PetalWidthCm\"\n",
    "sns.histplot(data=df,\n",
    "             x=atr,\n",
    "             kde=True)"
   ]
  },
  {
   "cell_type": "markdown",
   "metadata": {
    "id": "81i2ppZYHkKl"
   },
   "source": [
    "*   Para SepalWidthCm: Se puede ver un comportamiento simétrico para el sepal width en general, ya cuando entramos a ver las especies podemos ver que los está mezclado en este sentido.  "
   ]
  },
  {
   "cell_type": "code",
   "execution_count": null,
   "metadata": {
    "colab": {
     "base_uri": "https://localhost:8080/",
     "height": 410
    },
    "id": "d2ti6qpt99Rv",
    "outputId": "24dfd08b-3887-42f4-e755-8fcf3bb8bd50"
   },
   "outputs": [
    {
     "data": {
      "image/png": "[encoded data removed]",
      "text/plain": [
       "<Figure size 432x432 with 1 Axes>"
      ]
     },
     "metadata": {},
     "output_type": "display_data"
    }
   ],
   "source": [
    "#atributo = \"Id\"\n",
    "#atributo = \"SepalLengthCm\" \n",
    "#atributo = \"SepalWidthCm\"\n",
    "atributo = \"PetalLengthCm\"\n",
    "#atributo = \"PetalWidthCm\"\n",
    "\n",
    "#Qué tal si coloreamos el histograma de acuerdo con el número de cilindros de los vehículos?\n",
    "plt.figure(figsize=(6,6))\n",
    "sns.histplot(data     = df, \n",
    "             x        = atributo,\n",
    "             bins     = 30,\n",
    "             hue      = 'Species',\n",
    "             fill     = True,\n",
    "             stat     = 'count')  #'count' muestra el número de observaciones.\n",
    "                              #'frequency' muestra el número de observaciones dividida por el ancho del bin.\n",
    "                              #'density' normaliza las cuentas tal que el área del histograma es 1.\n",
    "                              #'probability' normaliza las cuentas tal que la suma de la altura de las barras es 1.\n",
    "\n",
    "plt.xlabel(atributo) #Texto en el eje x.\n",
    "plt.ylabel('Cuentas')              #Texto en el eje y.\n",
    "plt.title('Histograma')             #Título del gráfico. \n",
    "plt.show()"
   ]
  },
  {
   "cell_type": "markdown",
   "metadata": {
    "id": "DuX3pbM78r0W"
   },
   "source": [
    "Histograma PetalLengthCm"
   ]
  },
  {
   "cell_type": "code",
   "execution_count": null,
   "metadata": {
    "colab": {
     "base_uri": "https://localhost:8080/",
     "height": 302
    },
    "id": "F7RR8EUo8wO-",
    "outputId": "bad8135e-d8bb-4dc5-d501-5c384b197603"
   },
   "outputs": [
    {
     "data": {
      "text/plain": [
       "<matplotlib.axes._subplots.AxesSubplot at 0x7fbc95070f90>"
      ]
     },
     "execution_count": 27,
     "metadata": {},
     "output_type": "execute_result"
    },
    {
     "data": {
      "image/png": "[encoded data removed]",
      "text/plain": [
       "<Figure size 432x288 with 1 Axes>"
      ]
     },
     "metadata": {},
     "output_type": "display_data"
    }
   ],
   "source": [
    "atr = \"PetalLengthCm\"\n",
    "sns.histplot(data=df,\n",
    "             x=atr,\n",
    "             kde=True)"
   ]
  },
  {
   "cell_type": "markdown",
   "metadata": {
    "id": "HYmNhzlbJoYG"
   },
   "source": [
    "*   Para PetalLengthCm: Podemos ver una clara distinción entre iris setosa y las demás espcesies, esta es menor que las otras. Iris versicolor es menor en longitud que iris virginica, sin embargo se solapan un poco en el medio"
   ]
  },
  {
   "cell_type": "code",
   "execution_count": null,
   "metadata": {
    "colab": {
     "base_uri": "https://localhost:8080/",
     "height": 410
    },
    "id": "orXIg21T-GXo",
    "outputId": "3411c358-6cb5-413c-c03e-4ea999d9d8d5"
   },
   "outputs": [
    {
     "data": {
      "image/png": "[encoded data removed]",
      "text/plain": [
       "<Figure size 432x432 with 1 Axes>"
      ]
     },
     "metadata": {},
     "output_type": "display_data"
    }
   ],
   "source": [
    "#atributo = \"Id\"\n",
    "#atributo = \"SepalLengthCm\" \n",
    "#atributo = \"SepalWidthCm\"\n",
    "#atributo = \"PetalLengthCm\"\n",
    "atributo = \"PetalWidthCm\"\n",
    "\n",
    "#Qué tal si coloreamos el histograma de acuerdo con el número de cilindros de los vehículos?\n",
    "plt.figure(figsize=(6,6))\n",
    "sns.histplot(data     = df, \n",
    "             x        = atributo,\n",
    "             bins     = 30,\n",
    "             hue      = 'Species',\n",
    "             fill     = True,\n",
    "             stat     = 'count')  #'count' muestra el número de observaciones.\n",
    "                              #'frequency' muestra el número de observaciones dividida por el ancho del bin.\n",
    "                              #'density' normaliza las cuentas tal que el área del histograma es 1.\n",
    "                              #'probability' normaliza las cuentas tal que la suma de la altura de las barras es 1.\n",
    "\n",
    "plt.xlabel(atributo) #Texto en el eje x.\n",
    "plt.ylabel('Cuentas')              #Texto en el eje y.\n",
    "plt.title('Histograma')             #Título del gráfico. \n",
    "plt.show()"
   ]
  },
  {
   "cell_type": "markdown",
   "metadata": {
    "id": "0oGH8lyl89TT"
   },
   "source": [
    "Histograma PetalWidthCm"
   ]
  },
  {
   "cell_type": "code",
   "execution_count": null,
   "metadata": {
    "colab": {
     "base_uri": "https://localhost:8080/",
     "height": 302
    },
    "id": "90Gm7dyp81C9",
    "outputId": "9351d73b-1ab9-41d9-8bd8-f57161236103"
   },
   "outputs": [
    {
     "data": {
      "text/plain": [
       "<matplotlib.axes._subplots.AxesSubplot at 0x7fbc94b53b90>"
      ]
     },
     "execution_count": 29,
     "metadata": {},
     "output_type": "execute_result"
    },
    {
     "data": {
      "image/png": "[encoded data removed]",
      "text/plain": [
       "<Figure size 432x288 with 1 Axes>"
      ]
     },
     "metadata": {},
     "output_type": "display_data"
    }
   ],
   "source": [
    "atr = \"PetalWidthCm\"\n",
    "sns.histplot(data=df,\n",
    "             x=atr,\n",
    "             kde=True)"
   ]
  },
  {
   "cell_type": "markdown",
   "metadata": {
    "id": "zBtg1AQB9NB4"
   },
   "source": [
    "**Observaciones:**\n",
    "\n"
   ]
  },
  {
   "cell_type": "markdown",
   "metadata": {
    "id": "x-6kReidDK75"
   },
   "source": [
    "*   Para PetalWidthCm: Podemos ver que el petal width tiene un comportamiento similar al petal length, iris setosa es menor que las otras especies en este sentido. Para las otras dos especies iris versicolor es menor que iris virginica, sin embargo se solapan en el medio un poco.\n",
    "\n",
    "\n",
    "\n"
   ]
  },
  {
   "cell_type": "markdown",
   "metadata": {
    "id": "xzNIG6D52JDC"
   },
   "source": [
    "### Correlaciones"
   ]
  },
  {
   "cell_type": "code",
   "execution_count": null,
   "metadata": {
    "colab": {
     "base_uri": "https://localhost:8080/",
     "height": 724
    },
    "id": "TqEOpcyR2JDC",
    "outputId": "f00d88ce-f141-49f0-e8f4-b5887ab2a1e2",
    "scrolled": true
   },
   "outputs": [
    {
     "data": {
      "image/png": "[encoded data removed]",
      "text/plain": [
       "<Figure size 834.35x720 with 20 Axes>"
      ]
     },
     "metadata": {},
     "output_type": "display_data"
    }
   ],
   "source": [
    "sns.set(style='white')\n",
    "sns.set_palette('Set2')\n",
    "\n",
    "g = sns.PairGrid(data=df.iloc[:,1:],hue='Species',diag_sharey=False, corner=False)  #Note que no graficamos la columna 0 correspondiente a Id, \n",
    "                                                                     #pues no aporta información. Usamos las categorías de la columna de\n",
    "                                                                     #'Species' para colorear las gráficas.\n",
    "\n",
    "g.map_diag(sns.histplot) #Muestra el histograma en la diagonal principal.\n",
    "g.map_lower(sns.scatterplot) #Muestra gráficos de dispersión en la sección inferior izquierda de la matriz.\n",
    "\n",
    "g.add_legend()\n",
    "\n",
    "plt.show()"
   ]
  },
  {
   "cell_type": "markdown",
   "metadata": {
    "id": "0LyxdTyN2JDD"
   },
   "source": [
    "#### **Pregunta 2.4**\n",
    "\n",
    "Observe la figura anterior e indique qué hipótesis puede realizar."
   ]
  },
  {
   "cell_type": "markdown",
   "metadata": {
    "id": "ZVdfQbG2K3Ge"
   },
   "source": [
    "De acuerdo a la figura podemos tener la hipotésis de que se tendrán más predicciones para iris-setosa ya que es más fácil de distinguir de las demás. Podemos ver los  clusters pertenecientes a esta categoria más juntos."
   ]
  },
  {
   "cell_type": "markdown",
   "metadata": {
    "id": "mAarBWYS2JDD"
   },
   "source": [
    "# 3. Modelo"
   ]
  },
  {
   "cell_type": "markdown",
   "metadata": {
    "id": "QvrmxhzK2JDE"
   },
   "source": [
    "### 3.1. Problema: Clasificación"
   ]
  },
  {
   "cell_type": "markdown",
   "metadata": {
    "id": "eOgWRiD22JDE"
   },
   "source": [
    "### 3.2. Modelo: KNN\n",
    "\n",
    "![knn](img/knn_algorithm.png)"
   ]
  },
  {
   "cell_type": "markdown",
   "metadata": {
    "id": "Zi1yVjtQ85Xg"
   },
   "source": [
    "### 3.3. Selección de atributos (predictores)."
   ]
  },
  {
   "cell_type": "code",
   "execution_count": 5,
   "metadata": {
    "id": "367gwKJd83qw"
   },
   "outputs": [],
   "source": [
    "#Nombre de la salida deseada:\n",
    "nombre_de_la_variable_de_salida='Species' \n",
    "\n",
    "#Nombre de los posibles atributos de entrada:\n",
    "# 'SepalLengthCm'\n",
    "# 'SepalWidthCm'\n",
    "# 'PetalLengthCm'\n",
    "# 'PetalWidthCm'\n",
    "\n",
    "#En este primer ejemplo vamos a utilizar 4 variables:\n",
    "nombre_de_las_variables_de_entrada = ['SepalLengthCm','SepalWidthCm','PetalLengthCm','PetalWidthCm']"
   ]
  },
  {
   "cell_type": "code",
   "execution_count": null,
   "metadata": {
    "colab": {
     "base_uri": "https://localhost:8080/"
    },
    "id": "bxBcQnJk2JDF",
    "outputId": "2cbb33e7-ea72-4cef-a44b-8fc99c138d3d"
   },
   "outputs": [
    {
     "name": "stdout",
     "output_type": "stream",
     "text": [
      "0         Iris-setosa\n",
      "1         Iris-setosa\n",
      "2         Iris-setosa\n",
      "3         Iris-setosa\n",
      "4         Iris-setosa\n",
      "            ...      \n",
      "145    Iris-virginica\n",
      "146    Iris-virginica\n",
      "147    Iris-virginica\n",
      "148    Iris-virginica\n",
      "149    Iris-virginica\n",
      "Name: Species, Length: 150, dtype: category\n",
      "Categories (3, object): ['Iris-setosa', 'Iris-versicolor', 'Iris-virginica']\n"
     ]
    }
   ],
   "source": [
    "#La variable Target (Species) es categórica pero los valores no son apropiados para entrenar\n",
    "#un modelo de Machine Learning\n",
    "\n",
    "print(df[nombre_de_la_variable_de_salida])"
   ]
  },
  {
   "cell_type": "code",
   "execution_count": 6,
   "metadata": {
    "colab": {
     "base_uri": "https://localhost:8080/"
    },
    "id": "5vcZ13kAKUBp",
    "outputId": "a58cc3d2-38d0-4e2f-d215-8fa4c2856259",
    "scrolled": true
   },
   "outputs": [
    {
     "name": "stdout",
     "output_type": "stream",
     "text": [
      "Nombres de las nuevas columnas:  ['Iris-setosa', 'Iris-versicolor', 'Iris-virginica'] \n",
      "\n",
      "Dataframe de salida:\n",
      "     Iris-setosa  Iris-versicolor  Iris-virginica\n",
      "0              1                0               0\n",
      "1              1                0               0\n",
      "2              1                0               0\n",
      "3              1                0               0\n",
      "4              1                0               0\n",
      "..           ...              ...             ...\n",
      "145            0                0               1\n",
      "146            0                0               1\n",
      "147            0                0               1\n",
      "148            0                0               1\n",
      "149            0                0               1\n",
      "\n",
      "[150 rows x 3 columns]\n",
      "\n",
      "Dataframe de entrada:\n",
      "     SepalLengthCm  SepalWidthCm  PetalLengthCm  PetalWidthCm\n",
      "0              5.1           3.5            1.4           0.2\n",
      "1              4.9           3.0            1.4           0.2\n",
      "2              4.7           3.2            1.3           0.2\n",
      "3              4.6           3.1            1.5           0.2\n",
      "4              5.0           3.6            1.4           0.2\n",
      "..             ...           ...            ...           ...\n",
      "145            6.7           3.0            5.2           2.3\n",
      "146            6.3           2.5            5.0           1.9\n",
      "147            6.5           3.0            5.2           2.0\n",
      "148            6.2           3.4            5.4           2.3\n",
      "149            5.9           3.0            5.1           1.8\n",
      "\n",
      "[150 rows x 4 columns]\n"
     ]
    }
   ],
   "source": [
    "#Vamos a aplicar una codificación one-hot a la variable de salida categórica, \n",
    "#para obtener un dataframe con las nuevas variables dummy de salida.\n",
    "#(https://pandas.pydata.org/pandas-docs/stable/reference/api/pandas.get_dummies.html)\n",
    "\n",
    "df_y = pd.get_dummies(df[nombre_de_la_variable_de_salida])\n",
    "nombres_de_las_variables_de_salida = df_y.columns.to_list()\n",
    "print('Nombres de las nuevas columnas: ',nombres_de_las_variables_de_salida,'\\n')\n",
    "print('Dataframe de salida:')\n",
    "print(df_y)\n",
    "\n",
    "#Ahora, obtenemos un dataframe con las variables de entrada que vamos a utilizar.\n",
    "df_x = deepcopy(df[nombre_de_las_variables_de_entrada])\n",
    "print('\\nDataframe de entrada:')\n",
    "print(df_x)"
   ]
  },
  {
   "cell_type": "markdown",
   "metadata": {
    "id": "gfDNMdAizVAa"
   },
   "source": [
    "### 3.4. División del conjunto de datos.\n",
    "\n",
    "![division_datos](img/division_datos.png)"
   ]
  },
  {
   "cell_type": "code",
   "execution_count": null,
   "metadata": {
    "colab": {
     "base_uri": "https://localhost:8080/"
    },
    "id": "XlXNSXEj2JDG",
    "outputId": "b7088eda-86d5-4959-f4aa-30e27649155b",
    "scrolled": true
   },
   "outputs": [
    {
     "name": "stdout",
     "output_type": "stream",
     "text": [
      "-----------------------------------------------------------------------\n",
      "Conjunto de datos de entrenamiento 80%\n",
      "-----------------------------------------------------------------------\n",
      "<class 'pandas.core.frame.DataFrame'>\n",
      "Int64Index: 120 entries, 39 to 99\n",
      "Data columns (total 4 columns):\n",
      " #   Column         Non-Null Count  Dtype  \n",
      "---  ------         --------------  -----  \n",
      " 0   SepalLengthCm  120 non-null    float64\n",
      " 1   SepalWidthCm   120 non-null    float64\n",
      " 2   PetalLengthCm  120 non-null    float64\n",
      " 3   PetalWidthCm   120 non-null    float64\n",
      "dtypes: float64(4)\n",
      "memory usage: 4.7 KB\n",
      "None \n",
      "\n",
      "-----------------------------------------------------------------------\n",
      "Conjunto de datos de prueba 20%\n",
      "-----------------------------------------------------------------------\n",
      "<class 'pandas.core.frame.DataFrame'>\n",
      "Int64Index: 30 entries, 82 to 132\n",
      "Data columns (total 4 columns):\n",
      " #   Column         Non-Null Count  Dtype  \n",
      "---  ------         --------------  -----  \n",
      " 0   SepalLengthCm  30 non-null     float64\n",
      " 1   SepalWidthCm   30 non-null     float64\n",
      " 2   PetalLengthCm  30 non-null     float64\n",
      " 3   PetalWidthCm   30 non-null     float64\n",
      "dtypes: float64(4)\n",
      "memory usage: 1.2 KB\n",
      "None\n",
      "\n"
     ]
    }
   ],
   "source": [
    "# Vamos a dividir los datos en un conjunto de entrenamiento y un conjunto de pruebas.\n",
    "mezclar_los_datos       = True #Vamos a mezclar de forma aleatoria los datos antes de particionarlos. \n",
    "valor_semilla_aleatoria = 5   #Esto es útil si se quiere garantizar la repetibilidad \n",
    "                               #de la partición de datos en ejecuciones sucesivas de su notebook o script. \n",
    "\n",
    "#Porcentajes de división de datos. \n",
    "particion_para_entrenamiento = 0.8  #Dejamos el 60% de los datos para el conjunto de entrenamiento (training set).\n",
    "particion_para_pruebas       = 1.0-particion_para_entrenamiento #Dejamos los otros datos, correspondiente al 20%, para el conjunto de pruebas. \n",
    "\n",
    "#Hacemos la partición para obtener el conjunto de pruebas y el \"resto\" (i.e.: entrenamiento y desarrollo).\n",
    "df_x_train, df_x_test, df_y_train, df_y_test = train_test_split(df_x,                                         #100% de los datos de entrada. \n",
    "                                                              df_y,                                         #100% de los datos de salida. \n",
    "                                                              test_size=particion_para_pruebas, \n",
    "                                                              random_state=valor_semilla_aleatoria, \n",
    "                                                              shuffle=mezclar_los_datos)\n",
    "\n",
    "print('-----------------------------------------------------------------------')\n",
    "print('Conjunto de datos de entrenamiento {:1.0f}%'.format(particion_para_entrenamiento*100))\n",
    "print('-----------------------------------------------------------------------')\n",
    "print(df_x_train.info(),'\\n')\n",
    "\n",
    "print('-----------------------------------------------------------------------')\n",
    "print('Conjunto de datos de prueba {:1.0f}%'.format(particion_para_pruebas*100))\n",
    "print('-----------------------------------------------------------------------')\n",
    "print(df_x_test.info(),'\\n',sep='')"
   ]
  },
  {
   "cell_type": "markdown",
   "metadata": {
    "id": "Y-750gSB2JDG"
   },
   "source": [
    "#### **Pregunta 3.1**\n",
    "\n",
    "Obtenga estadísticas básicas de los conjuntos de entrenamiento y prueba (puede usar df.describe()) y comparelas ¿qué puede concluir al respecto?"
   ]
  },
  {
   "cell_type": "code",
   "execution_count": null,
   "metadata": {
    "colab": {
     "base_uri": "https://localhost:8080/"
    },
    "id": "mgiPY8xf2JDH",
    "outputId": "20ca965d-9164-4086-8fd2-517623bc8850"
   },
   "outputs": [
    {
     "name": "stdout",
     "output_type": "stream",
     "text": [
      "       SepalLengthCm  SepalWidthCm  PetalLengthCm  PetalWidthCm\n",
      "count     120.000000    120.000000     120.000000    120.000000\n",
      "mean        5.838333      3.069167       3.690833      1.170833\n",
      "std         0.841186      0.456659       1.780709      0.770506\n",
      "min         4.300000      2.000000       1.000000      0.100000\n",
      "25%         5.100000      2.800000       1.500000      0.300000\n",
      "50%         5.750000      3.000000       4.250000      1.300000\n",
      "75%         6.500000      3.400000       5.100000      1.800000\n",
      "max         7.900000      4.400000       6.900000      2.500000 \n",
      "\n"
     ]
    }
   ],
   "source": [
    "#Respuesta Pregunta 3.1\n",
    "print(df_x_train.describe(),'\\n')\n"
   ]
  },
  {
   "cell_type": "code",
   "execution_count": null,
   "metadata": {
    "colab": {
     "base_uri": "https://localhost:8080/"
    },
    "id": "FhYSAQkYLQPn",
    "outputId": "7871e561-dcc4-4170-8924-6c1c9404cf34"
   },
   "outputs": [
    {
     "name": "stdout",
     "output_type": "stream",
     "text": [
      "       SepalLengthCm  SepalWidthCm  PetalLengthCm  PetalWidthCm\n",
      "count      30.000000     30.000000      30.000000     30.000000\n",
      "mean        5.863333      2.993333       4.030000      1.310000\n",
      "std         0.786736      0.324763       1.699523      0.735011\n",
      "min         4.400000      2.400000       1.300000      0.100000\n",
      "25%         5.150000      2.800000       2.100000      0.625000\n",
      "50%         5.850000      2.950000       4.500000      1.400000\n",
      "75%         6.300000      3.150000       5.325000      1.800000\n",
      "max         7.400000      3.700000       6.300000      2.500000 \n",
      "\n"
     ]
    }
   ],
   "source": [
    "print(df_x_test.describe(),'\\n')"
   ]
  },
  {
   "cell_type": "markdown",
   "metadata": {
    "id": "tKuD6dbYLhMe"
   },
   "source": [
    "Podemos decir que tenemos comportamientos similares en ambos conjuntos, sin embargo existen algunas diferencias en las medias y cuartiles. Esto nos va permitir entrenar el modelo y probarlo con un conjunto similar, pero no igual, logrando así unos resultados positivos."
   ]
  },
  {
   "cell_type": "markdown",
   "metadata": {
    "id": "oKrJ1V4U2JDH"
   },
   "source": [
    "#### **Pregunta 3.2**\n",
    "\n",
    "Obtenga la distribución en número y porcentaje de cada una de las clases tanto en el conjunto de entrenamiento como en el de prueba y comparelas ¿qué puede concluir al respecto?"
   ]
  },
  {
   "cell_type": "code",
   "execution_count": null,
   "metadata": {
    "colab": {
     "base_uri": "https://localhost:8080/"
    },
    "id": "DLTLrV-b2JDH",
    "outputId": "419ec786-430e-4292-fdd6-bb3b3f68a6f4"
   },
   "outputs": [
    {
     "name": "stdout",
     "output_type": "stream",
     "text": [
      "Distribución en el conjunto de entrenamiento\n",
      "Número de Iris-setosa: 42\n",
      "Porcentaje de Iris-setosa: 35.0\n",
      "Número de Iris-versicolor: 39\n",
      "Porcentaje de Iris-versicolor: 32.5\n",
      "Número de Iris-virginica: 39\n",
      "Porcentaje de Iris-virginica: 32.5\n",
      "----------------------------------\n",
      "Distribución en el conjunto de prueba\n",
      "Número de Iris-setosa: 8\n",
      "Porcentaje de Iris-setosa: 26.666666666666668\n",
      "Número de Iris-versicolor: 11\n",
      "Porcentaje de Iris-versicolor: 36.666666666666664\n",
      "Número de Iris-virginica: 11\n",
      "Porcentaje de Iris-virginica: 36.666666666666664\n"
     ]
    }
   ],
   "source": [
    "#Respuesta Pregunta 3.2\n",
    "print(\"Distribución en el conjunto de entrenamiento\")\n",
    "attributes=['Iris-setosa', 'Iris-versicolor', 'Iris-virginica']\n",
    "for c in range(0,len(attributes)):\n",
    "  count= df_y_train[attributes[c]].sum()\n",
    "  percent = count/len(df_y_train)*100\n",
    "  print(\"Número de \"+attributes[c]+\":\",count)\n",
    "  print(\"Porcentaje de \"+attributes[c]+\":\",percent)\n",
    "\n",
    "print(\"----------------------------------\")\n",
    "\n",
    "print(\"Distribución en el conjunto de prueba\")\n",
    "attributes=['Iris-setosa', 'Iris-versicolor', 'Iris-virginica']\n",
    "for c in range(0,len(attributes)):\n",
    "  count= df_y_test[attributes[c]].sum()\n",
    "  percent = count/len(df_y_test)*100\n",
    "  print(\"Número de \"+attributes[c]+\":\",count)\n",
    "  print(\"Porcentaje de \"+attributes[c]+\":\",percent)\n",
    "  \n",
    "\n"
   ]
  },
  {
   "cell_type": "markdown",
   "metadata": {
    "id": "vIrlzFkfPOJ0"
   },
   "source": [
    "Luego de ver los resultados podemos ver que para iris-versicolor e iris-virginica los porcentajes son similares. Pero, para iris-setosa los porcentajes están un poco más separados, se presenta una diferencia de 11. Además pasa de ser la especie con mayor porcentaje a la especie con menor porcentaje. "
   ]
  },
  {
   "cell_type": "markdown",
   "metadata": {
    "id": "PEoWzsCE6tPa"
   },
   "source": [
    "### 3.5. Escalado de atributos."
   ]
  },
  {
   "cell_type": "markdown",
   "metadata": {
    "id": "7OJ3qGeUUJWB"
   },
   "source": [
    "### 3.6. Contrucción del modelo."
   ]
  },
  {
   "cell_type": "code",
   "execution_count": null,
   "metadata": {
    "colab": {
     "base_uri": "https://localhost:8080/"
    },
    "id": "x25B494jFmGC",
    "outputId": "1a3f9cce-873a-4b9a-cfb0-520bb80eb4e0",
    "scrolled": true
   },
   "outputs": [
    {
     "data": {
      "text/plain": [
       "KNeighborsClassifier()"
      ]
     },
     "execution_count": 38,
     "metadata": {},
     "output_type": "execute_result"
    }
   ],
   "source": [
    "#-------------------------------------------------------------------------------\n",
    "#K-vecinos más cercanos (K-nearest neighbors o simplemente KNN).\n",
    "#-------------------------------------------------------------------------------\n",
    "k   = 5  #Número de vecinos cercanos.\n",
    "knn = neighbors.KNeighborsClassifier(n_neighbors=k) #Instanciamos el clasificador KNN.\n",
    "knn.fit(df_x_train, df_y_train)                #Ajustamos el clasificador. \n"
   ]
  },
  {
   "cell_type": "markdown",
   "metadata": {
    "id": "8DjcyZb2Xpu5"
   },
   "source": [
    "### 3.7. Predicción."
   ]
  },
  {
   "cell_type": "markdown",
   "metadata": {
    "id": "-5tmabFl2JDI"
   },
   "source": [
    "#### 3.7.1. Conjunto de entrenamiento."
   ]
  },
  {
   "cell_type": "code",
   "execution_count": null,
   "metadata": {
    "colab": {
     "base_uri": "https://localhost:8080/"
    },
    "id": "jEVQxuXhl9-S",
    "outputId": "7becdc4f-34ab-4b18-8bab-d35750f2d7d7"
   },
   "outputs": [
    {
     "name": "stdout",
     "output_type": "stream",
     "text": [
      "¿Qué retorna knn.predict?  Tipo de dato:  <class 'numpy.ndarray'> dimensiones:  (120, 3)\n",
      "¿Cómo están las salidas deseadas?  Tipo de dato:  <class 'numpy.ndarray'> dimensiones:  (120, 3)\n"
     ]
    }
   ],
   "source": [
    "y_pred_train = knn.predict(df_x_train)       #Realizamos predicciones sobre el conjunto de entrenamiento. \n",
    "                                                    #Note que knn.predict retorna un arreglo numpy NO un dataframe.\n",
    "print('¿Qué retorna knn.predict? ','Tipo de dato: ',type(y_pred_train),'dimensiones: ', y_pred_train.shape)\n",
    "\n",
    "#-------------------------------------------------------------------------------\n",
    "###Nota: si usted necesitara o deseara convertir el arreglo numpy a un dataframe podría hacerlo fácilmente:\n",
    "##df_y_pred_train = pd.DataFrame(data=y_pred,columns=nombres_de_las_variables_de_salida)\n",
    "#-------------------------------------------------------------------------------\n",
    "\n",
    "#Ahora, debemos convertir los valores \"deseados\" que tenemos como dataframes \n",
    "#en arreglos numpy para aprovechar las herramientas que nos ofrece scikit-learn.\n",
    "y_train = df_y_train.values\n",
    "print('¿Cómo están las salidas deseadas? ','Tipo de dato: ',type(y_train),'dimensiones: ', y_train.shape)"
   ]
  },
  {
   "cell_type": "code",
   "execution_count": null,
   "metadata": {
    "colab": {
     "base_uri": "https://localhost:8080/"
    },
    "id": "PmsHPzgX2JDJ",
    "outputId": "cfbedc5a-03ef-4921-9642-65670acbc871",
    "scrolled": true
   },
   "outputs": [
    {
     "name": "stdout",
     "output_type": "stream",
     "text": [
      "Veamos el contenido de y_pred_train: \n",
      "\n",
      "[[1 0 0]\n",
      " [0 1 0]\n",
      " [0 1 0]\n",
      " [1 0 0]\n",
      " [0 1 0]\n",
      " [1 0 0]\n",
      " [1 0 0]\n",
      " [0 0 1]\n",
      " [1 0 0]\n",
      " [0 0 1]\n",
      " [0 0 1]\n",
      " [0 1 0]\n",
      " [1 0 0]\n",
      " [1 0 0]\n",
      " [0 1 0]\n",
      " [0 0 1]\n",
      " [0 1 0]\n",
      " [0 0 1]\n",
      " [0 0 1]\n",
      " [1 0 0]\n",
      " [0 0 1]\n",
      " [1 0 0]\n",
      " [1 0 0]\n",
      " [1 0 0]\n",
      " [1 0 0]\n",
      " [0 1 0]\n",
      " [0 1 0]\n",
      " [0 1 0]\n",
      " [0 1 0]\n",
      " [0 0 1]\n",
      " [0 1 0]\n",
      " [0 0 1]\n",
      " [0 0 1]\n",
      " [0 1 0]\n",
      " [1 0 0]\n",
      " [0 1 0]\n",
      " [1 0 0]\n",
      " [0 1 0]\n",
      " [0 0 1]\n",
      " [0 1 0]\n",
      " [0 0 1]\n",
      " [0 1 0]\n",
      " [0 0 1]\n",
      " [0 1 0]\n",
      " [0 1 0]\n",
      " [0 1 0]\n",
      " [0 0 1]\n",
      " [0 1 0]\n",
      " [1 0 0]\n",
      " [0 0 1]\n",
      " [1 0 0]\n",
      " [1 0 0]\n",
      " [0 1 0]\n",
      " [1 0 0]\n",
      " [1 0 0]\n",
      " [0 0 1]\n",
      " [0 1 0]\n",
      " [1 0 0]\n",
      " [0 0 1]\n",
      " [1 0 0]\n",
      " [0 0 1]\n",
      " [0 1 0]\n",
      " [1 0 0]\n",
      " [1 0 0]\n",
      " [0 0 1]\n",
      " [0 1 0]\n",
      " [0 1 0]\n",
      " [1 0 0]\n",
      " [1 0 0]\n",
      " [0 0 1]\n",
      " [0 1 0]\n",
      " [0 1 0]\n",
      " [1 0 0]\n",
      " [0 1 0]\n",
      " [0 0 1]\n",
      " [0 1 0]\n",
      " [1 0 0]\n",
      " [0 1 0]\n",
      " [0 0 1]\n",
      " [0 0 1]\n",
      " [0 0 1]\n",
      " [0 0 1]\n",
      " [1 0 0]\n",
      " [1 0 0]\n",
      " [0 0 1]\n",
      " [0 0 1]\n",
      " [1 0 0]\n",
      " [0 1 0]\n",
      " [1 0 0]\n",
      " [1 0 0]\n",
      " [0 0 1]\n",
      " [0 1 0]\n",
      " [0 0 1]\n",
      " [1 0 0]\n",
      " [0 0 1]\n",
      " [1 0 0]\n",
      " [0 0 1]\n",
      " [1 0 0]\n",
      " [0 1 0]\n",
      " [1 0 0]\n",
      " [0 0 1]\n",
      " [0 0 1]\n",
      " [1 0 0]\n",
      " [0 1 0]\n",
      " [0 0 1]\n",
      " [0 0 1]\n",
      " [0 1 0]\n",
      " [1 0 0]\n",
      " [0 1 0]\n",
      " [1 0 0]\n",
      " [1 0 0]\n",
      " [0 1 0]\n",
      " [0 0 1]\n",
      " [1 0 0]\n",
      " [0 0 1]\n",
      " [1 0 0]\n",
      " [0 1 0]\n",
      " [0 0 1]\n",
      " [0 0 1]\n",
      " [0 1 0]]\n"
     ]
    }
   ],
   "source": [
    "print('Veamos el contenido de y_pred_train: \\n')\n",
    "print(y_pred_train)"
   ]
  },
  {
   "cell_type": "code",
   "execution_count": null,
   "metadata": {
    "colab": {
     "base_uri": "https://localhost:8080/"
    },
    "id": "3XOdGGBW2JDJ",
    "outputId": "0520bfa3-ab0a-4f81-af00-e359aacd9af7"
   },
   "outputs": [
    {
     "name": "stdout",
     "output_type": "stream",
     "text": [
      "Veamos el contenido de y_train: \n",
      "\n",
      "[[1 0 0]\n",
      " [0 1 0]\n",
      " [0 1 0]\n",
      " [1 0 0]\n",
      " [0 1 0]\n",
      " [1 0 0]\n",
      " [1 0 0]\n",
      " [0 0 1]\n",
      " [1 0 0]\n",
      " [0 0 1]\n",
      " [0 0 1]\n",
      " [0 1 0]\n",
      " [1 0 0]\n",
      " [1 0 0]\n",
      " [0 1 0]\n",
      " [0 0 1]\n",
      " [0 1 0]\n",
      " [0 0 1]\n",
      " [0 0 1]\n",
      " [1 0 0]\n",
      " [0 0 1]\n",
      " [1 0 0]\n",
      " [1 0 0]\n",
      " [1 0 0]\n",
      " [1 0 0]\n",
      " [0 1 0]\n",
      " [0 1 0]\n",
      " [0 1 0]\n",
      " [0 1 0]\n",
      " [0 0 1]\n",
      " [0 1 0]\n",
      " [0 0 1]\n",
      " [0 0 1]\n",
      " [0 1 0]\n",
      " [1 0 0]\n",
      " [0 1 0]\n",
      " [1 0 0]\n",
      " [0 1 0]\n",
      " [0 0 1]\n",
      " [0 1 0]\n",
      " [0 0 1]\n",
      " [0 1 0]\n",
      " [0 0 1]\n",
      " [0 1 0]\n",
      " [0 1 0]\n",
      " [0 1 0]\n",
      " [0 0 1]\n",
      " [0 1 0]\n",
      " [1 0 0]\n",
      " [0 0 1]\n",
      " [1 0 0]\n",
      " [1 0 0]\n",
      " [0 1 0]\n",
      " [1 0 0]\n",
      " [1 0 0]\n",
      " [0 0 1]\n",
      " [0 1 0]\n",
      " [1 0 0]\n",
      " [0 0 1]\n",
      " [1 0 0]\n",
      " [0 0 1]\n",
      " [0 1 0]\n",
      " [1 0 0]\n",
      " [1 0 0]\n",
      " [0 0 1]\n",
      " [0 1 0]\n",
      " [0 1 0]\n",
      " [1 0 0]\n",
      " [1 0 0]\n",
      " [0 0 1]\n",
      " [0 1 0]\n",
      " [0 1 0]\n",
      " [1 0 0]\n",
      " [0 1 0]\n",
      " [0 0 1]\n",
      " [0 1 0]\n",
      " [1 0 0]\n",
      " [0 1 0]\n",
      " [0 0 1]\n",
      " [0 0 1]\n",
      " [0 0 1]\n",
      " [0 0 1]\n",
      " [1 0 0]\n",
      " [1 0 0]\n",
      " [0 1 0]\n",
      " [0 0 1]\n",
      " [1 0 0]\n",
      " [0 1 0]\n",
      " [1 0 0]\n",
      " [1 0 0]\n",
      " [0 0 1]\n",
      " [0 1 0]\n",
      " [0 0 1]\n",
      " [1 0 0]\n",
      " [0 0 1]\n",
      " [1 0 0]\n",
      " [0 0 1]\n",
      " [1 0 0]\n",
      " [0 1 0]\n",
      " [1 0 0]\n",
      " [0 0 1]\n",
      " [0 0 1]\n",
      " [1 0 0]\n",
      " [0 0 1]\n",
      " [0 0 1]\n",
      " [0 0 1]\n",
      " [0 1 0]\n",
      " [1 0 0]\n",
      " [0 1 0]\n",
      " [1 0 0]\n",
      " [1 0 0]\n",
      " [0 1 0]\n",
      " [0 0 1]\n",
      " [1 0 0]\n",
      " [0 0 1]\n",
      " [1 0 0]\n",
      " [0 1 0]\n",
      " [0 0 1]\n",
      " [0 0 1]\n",
      " [0 1 0]]\n"
     ]
    }
   ],
   "source": [
    "print('Veamos el contenido de y_train: \\n')\n",
    "print(y_train)"
   ]
  },
  {
   "cell_type": "markdown",
   "metadata": {
    "id": "P9q2j5j42JDK"
   },
   "source": [
    "#### 3.7.1. Conjunto de entrenamiento."
   ]
  },
  {
   "cell_type": "markdown",
   "metadata": {
    "id": "Z1GQH9bJ2JDK"
   },
   "source": [
    "#### **Pregunta 3.3**\n",
    "\n",
    "Obtenga la predicción para el conjunto de prueba y guardela en la variable y_pred_test y muestre sus dimensiones"
   ]
  },
  {
   "cell_type": "code",
   "execution_count": null,
   "metadata": {
    "colab": {
     "base_uri": "https://localhost:8080/"
    },
    "id": "sxkGt2i02JDK",
    "outputId": "88077c5e-cd16-4114-cb2e-9755ec114719"
   },
   "outputs": [
    {
     "name": "stdout",
     "output_type": "stream",
     "text": [
      "Tipo de dato:  <class 'numpy.ndarray'> dimensiones:  (30, 3)\n",
      "Tipo de dato:  <class 'numpy.ndarray'> dimensiones:  (30, 3)\n"
     ]
    }
   ],
   "source": [
    "#Respuesta Pregunta 3.3\n",
    "y_pred_test = knn.predict(df_x_test)       \n",
    "                                                   \n",
    "print('Tipo de dato: ',type(y_pred_test),'dimensiones: ', y_pred_test.shape)\n",
    "\n",
    "y_test = df_y_test.values\n",
    "\n",
    "print('Tipo de dato: ',type(y_test),'dimensiones: ', y_test.shape)"
   ]
  },
  {
   "cell_type": "code",
   "execution_count": null,
   "metadata": {
    "colab": {
     "base_uri": "https://localhost:8080/"
    },
    "id": "7w2K5NFAR0cK",
    "outputId": "2fee8187-609b-434d-8356-5067c3acf62b"
   },
   "outputs": [
    {
     "name": "stdout",
     "output_type": "stream",
     "text": [
      "y_pred_test: \n",
      "\n",
      "[[0 1 0]\n",
      " [0 0 1]\n",
      " [0 0 1]\n",
      " [1 0 0]\n",
      " [0 0 1]\n",
      " [0 1 0]\n",
      " [1 0 0]\n",
      " [0 0 1]\n",
      " [1 0 0]\n",
      " [0 1 0]\n",
      " [0 1 0]\n",
      " [0 0 1]\n",
      " [0 0 1]\n",
      " [0 0 1]\n",
      " [1 0 0]\n",
      " [1 0 0]\n",
      " [0 0 1]\n",
      " [0 0 1]\n",
      " [1 0 0]\n",
      " [1 0 0]\n",
      " [0 1 0]\n",
      " [0 0 1]\n",
      " [1 0 0]\n",
      " [0 0 1]\n",
      " [0 1 0]\n",
      " [0 0 1]\n",
      " [0 1 0]\n",
      " [0 1 0]\n",
      " [0 1 0]\n",
      " [0 0 1]]\n"
     ]
    }
   ],
   "source": [
    "print('y_pred_test: \\n')\n",
    "print(y_pred_test)"
   ]
  },
  {
   "cell_type": "markdown",
   "metadata": {
    "id": "pJduLstymDLJ"
   },
   "source": [
    "# 4. Evaluación"
   ]
  },
  {
   "cell_type": "markdown",
   "metadata": {
    "id": "P_Fiwse82JDK"
   },
   "source": [
    "### 4.1. Conjunto de entrenamiento."
   ]
  },
  {
   "cell_type": "markdown",
   "metadata": {
    "id": "n-HePemO2JDL"
   },
   "source": [
    "### 4.2. Conjunto de prueba."
   ]
  },
  {
   "cell_type": "markdown",
   "metadata": {
    "id": "73p01CMG2JDL"
   },
   "source": [
    "#### **Pregunta 4.1**\n",
    "\n",
    "Cree la función cm_multi que reciba dos matrices y(mxn), y_pred(mxn) y devuelva la matriz de confusión\n",
    "cm_m(nxn).\n",
    "\n",
    "    def cm_multi(y, y_pred):\n",
    "      cm_m= np.zeros((3,3))\n",
    "      y=one_hot_to_label_encoding(y)\n",
    "      y_pred=one_hot_to_label_encoding(y_pred)\n",
    " \n",
    "      for i in range(len(y)):\n",
    "        if(y[i][0]==y_pred[i][0]):\n",
    "          index=int(y[i][0])\n",
    "          cm_m[index][index]+=1\n",
    "        else: \n",
    "          index1=int(y[i][0])\n",
    "          indexPred= int(y_pred[i][0])\n",
    "          cm_m[index1][indexPred]+=1\n",
    "     \n",
    "      return cm_m\n",
    "\n",
    "Use esta función para obtener e imprimir la matriz de confusión del clasificador KNN, tanto para el conjunto de entrenamiento como de prueba ¿qué se puede concluir de los resultados obtenidos?"
   ]
  },
  {
   "cell_type": "code",
   "execution_count": null,
   "metadata": {
    "id": "eu8f0DsiOF9Y"
   },
   "outputs": [],
   "source": [
    "#-------------------------------------------------------------------------------\n",
    "#Función auxiliar:\n",
    "#-------------------------------------------------------------------------------\n",
    "def one_hot_to_label_encoding(y_one_hot):\n",
    "  \"\"\"\n",
    "  Esta función convierte un arreglo numpy y_one_hot, correspondiente a una matriz de \n",
    "  m observaciones por n clases de tipo binario, en un vector columna y_label_encoded\n",
    "  de m filas cuyos elementos pueden tomar valores entre 0 y n-1. En ese caso\n",
    "  0 corresponde a la primera categoría, 1 a la segunda categoría, y así\n",
    "  sucesivamente. \n",
    "  \"\"\"\n",
    "  rows,cols=y_one_hot.shape            #Obtengo las dimensiones del arreglo.\n",
    "  y_label_encoded = np.zeros((rows,1)) #Inicializo el arreglo de salida en ceros. \n",
    "  for i in range(cols): #Para todas las categorías (aunque estrictamente esto puede dejarse como range(1,cols,1), pues i=0 no hace nada. )\n",
    "    y_label_encoded += i*y_one_hot[:,i].reshape((-1,1))  #Esto presume que la primera categoría se codifica como 0, \n",
    "                                                         #la siguiente como 1, etc...\n",
    "  return y_label_encoded\n",
    "#-------------------------------------------------------------------------------"
   ]
  },
  {
   "cell_type": "code",
   "execution_count": null,
   "metadata": {
    "id": "OpbkJ3hOnYPS"
   },
   "outputs": [],
   "source": [
    "def cm_multi(y, y_pred):\n",
    "  cm_m= np.zeros((3,3))\n",
    "  y=one_hot_to_label_encoding(y)\n",
    "  y_pred=one_hot_to_label_encoding(y_pred)\n",
    " \n",
    "  for i in range(len(y)):\n",
    "    if(y[i][0]==y_pred[i][0]):\n",
    "      index=int(y[i][0])\n",
    "      cm_m[index][index]+=1\n",
    "    else: \n",
    "      index1=int(y[i][0])\n",
    "      indexPred= int(y_pred[i][0])\n",
    "      cm_m[index1][indexPred]+=1\n",
    "  return cm_m"
   ]
  },
  {
   "cell_type": "markdown",
   "metadata": {
    "id": "T7JmavXKtOtm"
   },
   "source": [
    "**Matrices usando scikit-learn**"
   ]
  },
  {
   "cell_type": "code",
   "execution_count": null,
   "metadata": {
    "colab": {
     "base_uri": "https://localhost:8080/",
     "height": 493
    },
    "id": "gJTO12uj2JDM",
    "outputId": "e2ebb606-0480-4e8f-dc26-89ea42a0f737"
   },
   "outputs": [
    {
     "name": "stdout",
     "output_type": "stream",
     "text": [
      "Matriz de confusión para K=5 usando los datos del conjunto de entrenamiento:\n",
      " [[42  0  0]\n",
      " [ 0 38  1]\n",
      " [ 0  1 38]]\n",
      "\n",
      "\n",
      "Clase 0:\n",
      "Iris-setosa\n",
      "Clase 1:\n",
      "Iris-versicolor\n",
      "Clase 2:\n",
      "Iris-virginica\n"
     ]
    },
    {
     "data": {
      "image/png": "[encoded data removed]",
      "text/plain": [
       "<Figure size 432x288 with 2 Axes>"
      ]
     },
     "metadata": {},
     "output_type": "display_data"
    }
   ],
   "source": [
    "#Ahora vamos a obtener la matriz de confusión para el conjunto de datos de entrenamiento.\n",
    "#Note que la función confusion_matrix de scikit-learn espera vectores no matrices.\n",
    "#Por eso se debe cambiar la codificación de one-hot a otra apropiada, en este caso\n",
    "#usamos label encoding por comodidad:\n",
    "cm = metrics.confusion_matrix(one_hot_to_label_encoding(y_train),one_hot_to_label_encoding(y_pred_train))  #Una matriz de confusión para todas las categorías.  \n",
    "print('Matriz de confusión para K={} usando los datos del conjunto de entrenamiento:\\n'.format(k), cm)\n",
    "print('\\n')\n",
    "disp_1 = metrics.ConfusionMatrixDisplay(confusion_matrix = cm)\n",
    "disp_1.plot()\n",
    "\n",
    "for i in range(len(nombres_de_las_variables_de_salida)):\n",
    "    print('Clase %d:' % i)\n",
    "    print(nombres_de_las_variables_de_salida[i])\n",
    "\n",
    "def cm_multi(y, y_pred):\n",
    "  cm_m= metrics.confusion_matrix(one_hot_to_label_encoding(y),one_hot_to_label_encoding(y_pred))\n",
    "  return cm_m\n",
    "\n"
   ]
  },
  {
   "cell_type": "code",
   "execution_count": null,
   "metadata": {
    "colab": {
     "base_uri": "https://localhost:8080/",
     "height": 493
    },
    "id": "tLl-REy5l83U",
    "outputId": "6c4fb8af-6cf8-4a1d-b2a9-4c69d380e4ec"
   },
   "outputs": [
    {
     "name": "stdout",
     "output_type": "stream",
     "text": [
      "Matriz de confusión para K=5 usando los datos del conjunto de prueba:\n",
      " [[42  0  0]\n",
      " [ 0 38  1]\n",
      " [ 0  1 38]]\n",
      "\n",
      "\n",
      "Clase 0:\n",
      "Iris-setosa\n",
      "Clase 1:\n",
      "Iris-versicolor\n",
      "Clase 2:\n",
      "Iris-virginica\n"
     ]
    },
    {
     "data": {
      "image/png": "[encoded data removed]",
      "text/plain": [
       "<Figure size 432x288 with 2 Axes>"
      ]
     },
     "metadata": {},
     "output_type": "display_data"
    }
   ],
   "source": [
    "cm_test= metrics.confusion_matrix(one_hot_to_label_encoding(y_test),one_hot_to_label_encoding(y_pred_test)) \n",
    "\n",
    "print('Matriz de confusión para K={} usando los datos del conjunto de prueba:\\n'.format(k), cm)\n",
    "print('\\n')\n",
    "disp_1 = metrics.ConfusionMatrixDisplay(confusion_matrix = cm_test)\n",
    "disp_1.plot()\n",
    "\n",
    "for i in range(len(nombres_de_las_variables_de_salida)):\n",
    "    print('Clase %d:' % i)\n",
    "    print(nombres_de_las_variables_de_salida[i])"
   ]
  },
  {
   "cell_type": "markdown",
   "metadata": {
    "id": "ojcyu7sZtVE8"
   },
   "source": [
    "**Matrices usando método propio**"
   ]
  },
  {
   "cell_type": "code",
   "execution_count": null,
   "metadata": {
    "colab": {
     "base_uri": "https://localhost:8080/",
     "height": 493
    },
    "id": "kioBTJKjtp3L",
    "outputId": "e68f85bf-9802-46b3-c2ec-db1bbb322d07"
   },
   "outputs": [
    {
     "name": "stdout",
     "output_type": "stream",
     "text": [
      "Matriz de confusión para K=5 usando los datos del conjunto de entrenamiento usando método propio:\n",
      " [[42  0  0]\n",
      " [ 0 38  1]\n",
      " [ 0  1 38]]\n",
      "\n",
      "\n",
      "Clase 0:\n",
      "Iris-setosa\n",
      "Clase 1:\n",
      "Iris-versicolor\n",
      "Clase 2:\n",
      "Iris-virginica\n"
     ]
    },
    {
     "data": {
      "image/png": "[encoded data removed]",
      "text/plain": [
       "<Figure size 432x288 with 2 Axes>"
      ]
     },
     "metadata": {},
     "output_type": "display_data"
    }
   ],
   "source": [
    "own_cm_train=cm_multi(y_train, y_pred_train)\n",
    "print('Matriz de confusión para K={} usando los datos del conjunto de entrenamiento usando método propio:\\n'.format(k), cm)\n",
    "print('\\n')\n",
    "disp_1 = metrics.ConfusionMatrixDisplay(confusion_matrix = own_cm_train)\n",
    "disp_1.plot()\n",
    "\n",
    "for i in range(len(nombres_de_las_variables_de_salida)):\n",
    "    print('Clase %d:' % i)\n",
    "    print(nombres_de_las_variables_de_salida[i])"
   ]
  },
  {
   "cell_type": "code",
   "execution_count": null,
   "metadata": {
    "colab": {
     "base_uri": "https://localhost:8080/",
     "height": 493
    },
    "id": "nPQuc6BHtYsK",
    "outputId": "0bcf54dc-9953-415c-8943-5e3797d30f65"
   },
   "outputs": [
    {
     "name": "stdout",
     "output_type": "stream",
     "text": [
      "Matriz de confusión para K=5 usando los datos del conjunto de prueba usando método propio:\n",
      " [[42  0  0]\n",
      " [ 0 38  1]\n",
      " [ 0  1 38]]\n",
      "\n",
      "\n",
      "Clase 0:\n",
      "Iris-setosa\n",
      "Clase 1:\n",
      "Iris-versicolor\n",
      "Clase 2:\n",
      "Iris-virginica\n"
     ]
    },
    {
     "data": {
      "image/png": "[encoded data removed]",
      "text/plain": [
       "<Figure size 432x288 with 2 Axes>"
      ]
     },
     "metadata": {},
     "output_type": "display_data"
    }
   ],
   "source": [
    "own_cm_test=cm_multi(y_test, y_pred_test)\n",
    "\n",
    "print('Matriz de confusión para K={} usando los datos del conjunto de prueba usando método propio:\\n'.format(k), cm)\n",
    "print('\\n')\n",
    "disp_1 = metrics.ConfusionMatrixDisplay(confusion_matrix = own_cm_test)\n",
    "disp_1.plot()\n",
    "\n",
    "for i in range(len(nombres_de_las_variables_de_salida)):\n",
    "    print('Clase %d:' % i)\n",
    "    print(nombres_de_las_variables_de_salida[i])"
   ]
  },
  {
   "cell_type": "markdown",
   "metadata": {
    "id": "_SdbMsMTuJsB"
   },
   "source": [
    "Con las matrices de confusión podemos decir que para los datos de entrenamiento, acertó en su mayoría excepto en dos ocasiones. En la primera ocasión predijo que era iris-virginica cuando en realidad era iris-versicolor. En la segunda ocasión predijo que era iris-versicolor y en realidad era iris virginica.\n",
    "\n",
    "Por el lado de prueba, acertó en su mayoría también, sin embargo falló en dos ocasiónes. En este caso fueron el mismo fallo, predijo dos veces que era iris-virginica cuando en realidad era iris-versicolor. "
   ]
  },
  {
   "cell_type": "markdown",
   "metadata": {
    "id": "6_0MKSNk2JDM"
   },
   "source": [
    "#### **Pregunta 4.2**\n",
    "\n",
    "Compare los resultados obtenidos con su función cm_multi(y,y_pred) y los obtenidos mediante las dos celdas anteriores, tanto para los datos de entrenamiento como de prueba."
   ]
  },
  {
   "cell_type": "code",
   "execution_count": null,
   "metadata": {
    "colab": {
     "base_uri": "https://localhost:8080/"
    },
    "id": "M2emlFSZ2JDM",
    "outputId": "31f8dc72-4ebb-4031-a1cf-9442bfb5b2aa"
   },
   "outputs": [
    {
     "name": "stdout",
     "output_type": "stream",
     "text": [
      "True\n",
      "True\n"
     ]
    }
   ],
   "source": [
    "#Respuesta Pregunta 4.2\n",
    "if((cm==own_cm_train).all()):\n",
    "  print(True)\n",
    "\n",
    "if((cm_test==own_cm_test).all()):\n",
    "  print(True)"
   ]
  },
  {
   "cell_type": "markdown",
   "metadata": {
    "id": "JVNPAn__wTQU"
   },
   "source": [
    "Los resultados de ambas matrices son iguales"
   ]
  },
  {
   "cell_type": "markdown",
   "metadata": {
    "id": "b5_k_oLn2JDN"
   },
   "source": [
    "#### **Pregunta 4.3**\n",
    "\n",
    "Usando la matriz de confusión calcule y muestre, para cada una de las clases, las siguientes métricas: exactitud, precision, sensibilidad, especificidad y F1. Interprete el resultado obtenido para cada una de las métricas. Calcule la exactitud para el desempeño general del clasificador."
   ]
  },
  {
   "cell_type": "markdown",
   "metadata": {
    "id": "mRgGpTh41CC1"
   },
   "source": [
    "Manual metrics"
   ]
  },
  {
   "cell_type": "code",
   "execution_count": null,
   "metadata": {
    "colab": {
     "base_uri": "https://localhost:8080/"
    },
    "id": "78-598Ot2JDN",
    "outputId": "4358e5d1-d70c-471f-c57b-5e15ba293266"
   },
   "outputs": [
    {
     "name": "stdout",
     "output_type": "stream",
     "text": [
      "Accuracy for train data is:  0.9833333333333333\n",
      "Accuracy for test data is:  0.9333333333333333\n"
     ]
    }
   ],
   "source": [
    "#Respuesta 4.3\n",
    "\n",
    "#Exactitud\n",
    "\n",
    "#True Trues\n",
    "setosa= own_cm_train[0][0]\n",
    "versicolor= own_cm_train[1][1]\n",
    "virginica= own_cm_train[2][2]\n",
    "\n",
    "#Falses\n",
    "setosa_versi= own_cm_train[0][1]\n",
    "setosa_virginica= own_cm_train[0][2]\n",
    "versi_setosa= own_cm_train[1][0]\n",
    "versi_virginica= own_cm_train[1][2]\n",
    "virginica_setosa= own_cm_train[2][0]\n",
    "virginica_versi= own_cm_train[2][1]\n",
    "\n",
    "total= len(y_train)\n",
    "\n",
    "#True trues\n",
    "setosa1= own_cm_test[0][0]\n",
    "versicolor1= own_cm_test[1][1]\n",
    "virginica1= own_cm_test[2][2]\n",
    "\n",
    "#Falses\n",
    "setosa_versi1= own_cm_test[0][1]\n",
    "setosa_virginica1= own_cm_test[0][2]\n",
    "versi_setosa1= own_cm_test[1][0]\n",
    "versi_virginica1= own_cm_test[1][2]\n",
    "virginica_setosa1= own_cm_test[2][0]\n",
    "virginica_versi1= own_cm_test[2][1]\n",
    "\n",
    "\n",
    "total1= len(y_test)\n",
    "\n",
    "accuracy = (setosa+versicolor+virginica)/total\n",
    "print(\"Accuracy for train data is: \", accuracy)\n",
    "\n",
    "accuracy1 = (setosa1+versicolor1+virginica1)/total1\n",
    "print(\"Accuracy for test data is: \", accuracy1)\n"
   ]
  },
  {
   "cell_type": "code",
   "execution_count": null,
   "metadata": {
    "colab": {
     "base_uri": "https://localhost:8080/"
    },
    "id": "wei6XqBy1mNB",
    "outputId": "7a4b2b38-6fcb-4a13-a6f5-800b932542f3"
   },
   "outputs": [
    {
     "name": "stdout",
     "output_type": "stream",
     "text": [
      "Precision for setosa on train data is:  1.0\n",
      "Precision for versicolor on train data is:  0.9743589743589743\n",
      "Precision for virginica on train data is:  0.9743589743589743\n",
      "---------------------------------------\n",
      "Precision for setosa on test data is:  1.0\n",
      "Precision for versicolor on test data is:  1.0\n",
      "Precision for virginica on test data is:  0.8461538461538461\n"
     ]
    }
   ],
   "source": [
    "#Precisión\n",
    "precision_setosa = setosa/(setosa+versi_setosa+virginica_setosa)\n",
    "print(\"Precision for setosa on train data is: \", precision_setosa)\n",
    "\n",
    "precision_versi = versicolor/(versicolor+setosa_versi+virginica_versi)\n",
    "print(\"Precision for versicolor on train data is: \", precision_versi)\n",
    "\n",
    "precision_virginica = virginica/(virginica+setosa_virginica+versi_virginica)\n",
    "print(\"Precision for virginica on train data is: \", precision_virginica)\n",
    "\n",
    "\n",
    "print(\"---------------------------------------\")\n",
    "\n",
    "precision_setosa1 = setosa1/(setosa1+versi_setosa1+virginica_setosa1)\n",
    "print(\"Precision for setosa on test data is: \", precision_setosa1)\n",
    "\n",
    "precision_versi1 =  versicolor1/(versicolor1+setosa_versi1+virginica_versi1)\n",
    "print(\"Precision for versicolor on test data is: \", precision_versi1)\n",
    "\n",
    "precision_virginica1 = virginica1/(virginica1+setosa_virginica1+versi_virginica1)\n",
    "print(\"Precision for virginica on test data is: \", precision_virginica1)\n"
   ]
  },
  {
   "cell_type": "code",
   "execution_count": null,
   "metadata": {
    "colab": {
     "base_uri": "https://localhost:8080/"
    },
    "id": "63lv_r0L4PKk",
    "outputId": "fb7ae286-b332-463d-ae04-ad4b2c361d17"
   },
   "outputs": [
    {
     "name": "stdout",
     "output_type": "stream",
     "text": [
      "Recall for setosa on train data is:  1.0\n",
      "Recall for versicolor on train data is:  0.9743589743589743\n",
      "Recall for virginica on train data is:  0.9743589743589743\n",
      "---------------------------------------\n",
      "Recall for setosa on test data is:  1.0\n",
      "Recall for versicolor on test data is:  0.8181818181818182\n",
      "Recall for virginica on test data is:  1.0\n"
     ]
    }
   ],
   "source": [
    "#Sensibilidad\n",
    "sens_setosa = setosa/(setosa+setosa_versi+setosa_virginica)\n",
    "print(\"Recall for setosa on train data is: \", sens_setosa)\n",
    "\n",
    "sens_versi = versicolor/(versicolor+versi_setosa+versi_virginica)\n",
    "print(\"Recall for versicolor on train data is: \", sens_versi)\n",
    "\n",
    "sens_virginica = virginica/(virginica+virginica_setosa+virginica_versi)\n",
    "print(\"Recall for virginica on train data is: \", sens_virginica)\n",
    "\n",
    "\n",
    "print(\"---------------------------------------\")\n",
    "\n",
    "sens_setosa1 = setosa1/(setosa1+setosa_versi1+setosa_virginica1)\n",
    "print(\"Recall for setosa on test data is: \", sens_setosa1)\n",
    "\n",
    "sens_versi1 =  versicolor1/(versicolor1+versi_setosa1+versi_virginica1)\n",
    "print(\"Recall for versicolor on test data is: \", sens_versi1)\n",
    "\n",
    "sens_virginica1 = virginica1/(virginica1+virginica_setosa1+virginica_versi1)\n",
    "print(\"Recall for virginica on test data is: \", sens_virginica1)\n",
    "\n",
    "\n"
   ]
  },
  {
   "cell_type": "code",
   "execution_count": null,
   "metadata": {
    "colab": {
     "base_uri": "https://localhost:8080/"
    },
    "id": "EITlgMue5Po2",
    "outputId": "26d03765-65ab-406d-a75b-8bb98dcecc15"
   },
   "outputs": [
    {
     "name": "stdout",
     "output_type": "stream",
     "text": [
      "Specificity for setosa on train data is:  1.0\n",
      "Specificity for versicolor on train data is:  0.9876543209876543\n",
      "Specificity for virginica on train data is:  0.9876543209876543\n",
      "---------------------------------------\n",
      "Specificity for setosa on test data is:  1.0\n",
      "Specificity for versicolor on test data is:  1.0\n",
      "Specificity for virginica on test data is:  0.8947368421052632\n"
     ]
    }
   ],
   "source": [
    "#Especificidad\n",
    "esp_setosa = (versicolor+virginica)/(versicolor+virginica+versi_setosa+virginica_setosa)\n",
    "print(\"Specificity for setosa on train data is: \", esp_setosa)\n",
    "\n",
    "esp_versi = (setosa+virginica)/(setosa+virginica+setosa_versi+ virginica_versi)\n",
    "print(\"Specificity for versicolor on train data is: \", esp_versi)\n",
    "\n",
    "esp_virginica = (setosa+versicolor)/(setosa+versicolor+setosa_virginica+ versi_virginica)\n",
    "print(\"Specificity for virginica on train data is: \", esp_virginica)\n",
    "\n",
    "\n",
    "print(\"---------------------------------------\")\n",
    "\n",
    "esp_setosa1 = (versicolor1+virginica1)/(versicolor1+virginica1+versi_setosa1+virginica_setosa1)\n",
    "print(\"Specificity for setosa on test data is: \", esp_setosa1)\n",
    "\n",
    "esp_versi1 =  (setosa1+virginica1)/(setosa1+virginica1+setosa_versi1+ virginica_versi1)\n",
    "print(\"Specificity for versicolor on test data is: \", esp_versi1)\n",
    "\n",
    "esp_virginica1 =(setosa1+versicolor1)/(setosa1+versicolor1+setosa_virginica1+ versi_virginica1)\n",
    "print(\"Specificity for virginica on test data is: \", esp_virginica1)\n"
   ]
  },
  {
   "cell_type": "code",
   "execution_count": null,
   "metadata": {
    "colab": {
     "base_uri": "https://localhost:8080/"
    },
    "id": "vrepEa3l7L_M",
    "outputId": "92f74982-fec7-47e5-caa3-dc4e2686d7ae"
   },
   "outputs": [
    {
     "name": "stdout",
     "output_type": "stream",
     "text": [
      "f1 for setosa on train data is:  1.0\n",
      "f1 for versicolor on train data is:  0.9743589743589743\n",
      "f1 for virginica on train data is:  0.9743589743589743\n",
      "---------------------------------------\n",
      "f1 for setosa on test data is:  1.0\n",
      "f1 for versicolor on test data is:  0.9\n",
      "f1 for virginica on test data is:  0.9166666666666666\n"
     ]
    }
   ],
   "source": [
    "#F1\n",
    "f1_setosa = 2*((precision_setosa*sens_setosa)/(precision_setosa+sens_setosa))\n",
    "print(\"f1 for setosa on train data is: \", f1_setosa)\n",
    "\n",
    "f1_versi = 2*((precision_versi*sens_versi)/(precision_versi+sens_versi))\n",
    "print(\"f1 for versicolor on train data is: \", f1_versi)\n",
    "\n",
    "f1_virginica = 2*((precision_virginica*sens_virginica)/(precision_virginica+sens_virginica))\n",
    "print(\"f1 for virginica on train data is: \", f1_virginica)\n",
    "\n",
    "\n",
    "print(\"---------------------------------------\")\n",
    "\n",
    "f1_setosa1 = 2*((precision_setosa1*sens_setosa1)/(precision_setosa1+sens_setosa1))\n",
    "print(\"f1 for setosa on test data is: \", f1_setosa1)\n",
    "\n",
    "f1_versi1 =  2*((precision_versi1*sens_versi1)/(precision_versi1+sens_versi1))\n",
    "print(\"f1 for versicolor on test data is: \", f1_versi1)\n",
    "\n",
    "f1_virginica1 = 2*((precision_virginica1*sens_virginica1)/(precision_virginica1+sens_virginica1))\n",
    "print(\"f1 for virginica on test data is: \", f1_virginica1)\n"
   ]
  },
  {
   "cell_type": "markdown",
   "metadata": {
    "id": "T95VT2lM05ZA"
   },
   "source": [
    "**Scikit learn report**"
   ]
  },
  {
   "cell_type": "code",
   "execution_count": null,
   "metadata": {
    "colab": {
     "base_uri": "https://localhost:8080/"
    },
    "id": "M7ZRdYSalFOq",
    "outputId": "c7a63790-d00e-4aed-c7e6-90c16ad9c3cb",
    "scrolled": true
   },
   "outputs": [
    {
     "name": "stdout",
     "output_type": "stream",
     "text": [
      "                 precision    recall  f1-score   support\n",
      "\n",
      "    Iris-setosa       1.00      1.00      1.00        42\n",
      "Iris-versicolor       0.97      0.97      0.97        39\n",
      " Iris-virginica       0.97      0.97      0.97        39\n",
      "\n",
      "       accuracy                           0.98       120\n",
      "      macro avg       0.98      0.98      0.98       120\n",
      "   weighted avg       0.98      0.98      0.98       120\n",
      "\n"
     ]
    }
   ],
   "source": [
    "#Ahora vamos a generar un reporte de scikit-learn que contiene algunas de las métricas de desempeño más comunes. \n",
    "print(metrics.classification_report(one_hot_to_label_encoding(y_train),\n",
    "                                    one_hot_to_label_encoding(y_pred_train),\n",
    "                                    target_names = nombres_de_las_variables_de_salida))\n"
   ]
  },
  {
   "cell_type": "code",
   "execution_count": null,
   "metadata": {
    "colab": {
     "base_uri": "https://localhost:8080/"
    },
    "id": "ghrxXSO80hrq",
    "outputId": "ed0186a6-27da-431c-dcd1-1d02858a2585"
   },
   "outputs": [
    {
     "name": "stdout",
     "output_type": "stream",
     "text": [
      "                 precision    recall  f1-score   support\n",
      "\n",
      "    Iris-setosa       1.00      1.00      1.00         8\n",
      "Iris-versicolor       1.00      0.82      0.90        11\n",
      " Iris-virginica       0.85      1.00      0.92        11\n",
      "\n",
      "       accuracy                           0.93        30\n",
      "      macro avg       0.95      0.94      0.94        30\n",
      "   weighted avg       0.94      0.93      0.93        30\n",
      "\n"
     ]
    }
   ],
   "source": [
    "#Ahora vamos a generar un reporte de scikit-learn que contiene algunas de las métricas de desempeño más comunes. \n",
    "print(metrics.classification_report(one_hot_to_label_encoding(y_test),\n",
    "                                    one_hot_to_label_encoding(y_pred_test),\n",
    "                                    target_names = nombres_de_las_variables_de_salida))"
   ]
  },
  {
   "cell_type": "markdown",
   "metadata": {
    "id": "8idA7veL2JDN"
   },
   "source": [
    "#### **Pregunta 4.4**\n",
    "\n",
    "Compare los resultados obtenidos al calcular las métricas manualmente y usando la función de sklearn."
   ]
  },
  {
   "cell_type": "markdown",
   "metadata": {
    "id": "eJeWJLur8Q1H"
   },
   "source": [
    "Los resultados de scikit learn son iguales a los resultados manuales, sin embargo, el reporte scikit learn no tiene un valor para la exactitud del modelo ni para la especificidad. "
   ]
  },
  {
   "cell_type": "markdown",
   "metadata": {
    "id": "GgKSrY0ac_oG"
   },
   "source": [
    "# **EJERCICIOS PROPUESTOS TALLER 3.**"
   ]
  },
  {
   "cell_type": "markdown",
   "metadata": {
    "id": "UayKVzQU2JDO"
   },
   "source": [
    "## **Ejercicio 1.**\n",
    "\n",
    "Para el conjunto de datos iris, ¿cuál sería la exactitud (accuracy) de línea base (baseline)?"
   ]
  },
  {
   "cell_type": "markdown",
   "metadata": {
    "id": "Ef_lMKpKq804"
   },
   "source": [
    "En vista de que nuestros datos se encuentran distribuidos de manera uniforme, nuetsro **accuaracy baseline es de 33.33%.**"
   ]
  },
  {
   "cell_type": "markdown",
   "metadata": {
    "id": "_XnM4ssZ2JDO"
   },
   "source": [
    "## **Ejercicio 2.**\n",
    "\n",
    "Para la función metrics.classification_report consulte qué representan los valores entregados."
   ]
  },
  {
   "cell_type": "markdown",
   "metadata": {
    "id": "vhMmYIajD7Lq"
   },
   "source": [
    "<h2> La función metrics.classification_report entrega 4 columnas, precision, recall f1-score y support. <h2/>\n",
    "\n"
   ]
  },
  {
   "cell_type": "markdown",
   "metadata": {
    "id": "B-UT-rUJGlYv"
   },
   "source": [
    "Para los ejemplos se utilizará el retorno de las métricas de prueba."
   ]
  },
  {
   "cell_type": "markdown",
   "metadata": {
    "id": "1wbDbewtFOUF"
   },
   "source": [
    "La precisión del modelo hace referencia a ¿qué proporción de todas las predicciones de pertenencia a la clase que hizo el clasificador fueron correctas? Es el resultado de los Verdaderos Positivos/(Verdaderos Positivos+Falsos Positivos) En otras palabras es la estadística que nos dice la calidad del modelo en términos de predecir correctamente para esa clase.\n",
    "\n",
    "Para el caso que tenemos, podemos observar que para la iris-setosa e iris versicolor la precisión es de 1.00 es decir que el modelo acertó en su totalilad. Finalmente para iris-virginica fue de 0.85, esto nos indica que tuvimos falsos positivos en un 15%."
   ]
  },
  {
   "cell_type": "markdown",
   "metadata": {
    "id": "WwdqtAuHFUcv"
   },
   "source": [
    "El recall del modelo o sensibilidad hace referencia a ¿qué proporción de todos los ejemplos que pertenecían a la clase en la realidad, identificó el clasificador? Es el resultado de Verdaderos Positivos/(Verdaderos Positivos+Falsos Negativos) En otras palabras es la estadística que nos informa sobre la cantidad que el modelo es capaz de identificar para esa clase.\n",
    "\n",
    "Para el caso que tenemos podemos observar que para iris-setosa e iris-virginica es 1.00 es decir que fue capaz de identificar el 100% de los datos pertenecientes a la clase, en ninguna ocasión predijo que no pertenecía cuando en realidad si. Para iris-versicolor el recall fue de 0.82 que nos indica que 18% de los datos fueron identificados como no pertenecientes a esta clase cuando en realidad sí."
   ]
  },
  {
   "cell_type": "markdown",
   "metadata": {
    "id": "WPWxz27SFpfu"
   },
   "source": [
    "La métrica F1-Score del modelo hace referencia a un puntaje que toma en cuenta la precisión y el recall. Este valor esta entre 0 y 1, toma en cuenta los falsos positivos y los falsos negativos. Entre más cercano a 1 mejor será nuestro modelo.\n",
    "\n",
    "Para el caso que tenemos podemos ver que iris-setosa cuenta con un f1-score de 1.00 es decir que fue perfecto, no identifico ningún falso positivo o negativo. Para iris-virginica e iris-versicolor, su puntaje f1 fue de 0.90 y 0.92 respectivamente."
   ]
  },
  {
   "cell_type": "markdown",
   "metadata": {
    "id": "QePFwv4fHBOR"
   },
   "source": [
    "El support que entrega está función hace referencia a el conteo de datos pertenecientes a cada clase."
   ]
  },
  {
   "cell_type": "markdown",
   "metadata": {
    "id": "vXCaa2oCHLvc"
   },
   "source": [
    "<h2> Accuracy <h2/>"
   ]
  },
  {
   "cell_type": "markdown",
   "metadata": {
    "id": "l7GL2ICbHOLy"
   },
   "source": [
    "El accuracy o exactitud del modelo hace referencia a el porcentaje de caso que acertó el modelo. Es de las métricas más usadas y favoritas, sin embargo, se debe tener cuidado porque no necesariamente indica qué tan bueno es el modelo.\n",
    "\n",
    "Es el resultado de Verdaderos Positivos + Verdaderos Negativos /(Verdaderos Positivos+ Verdaderos Negativos+ Falsos Positivos + Falsos Negativos)\n",
    "\n",
    "En nuestro caso, la exactitud es de 0.93, que nos indica que el modelo acierta el 93% de las veces, esto es muy bueno. Sin embargo debemos tener cuidado cuando las clases están desbalanceadas."
   ]
  },
  {
   "cell_type": "markdown",
   "metadata": {
    "id": "o2bbzPkW2JDO"
   },
   "source": [
    "## **Ejercicio 3.**\n",
    "\n",
    "Normalice los atributos, entrene un modelo con los atributos normalizados, pruebe este modelo tanto con los datos de entrenamiento y prueba, obtenga las métricas de desempeño por clase (matriz de confusión, exactitud, precisión, sensibilidad, especificidad y F1), obtenga la exactitud general y compare con los resultados obtenidos mediante el clasificador entrenado en la sesión de Taller."
   ]
  },
  {
   "cell_type": "markdown",
   "metadata": {
    "id": "k8G4JhqaSr1Y"
   },
   "source": [
    "### Separación atributo-target\n",
    "\n",
    "Se separan las columnas de nuestro dataframe para tener los atributos en una variable y nuestro target en otra"
   ]
  },
  {
   "cell_type": "code",
   "execution_count": 7,
   "metadata": {
    "id": "CJPrzU0hSwNS"
   },
   "outputs": [],
   "source": [
    "#Separación de atributos y target\n",
    "nombre_de_la_variable_de_salida='Species'\n",
    "nombre_de_las_variables_de_entrada = ['SepalLengthCm','SepalWidthCm','PetalLengthCm','PetalWidthCm']\n",
    "\n",
    "\n",
    "df_y = pd.get_dummies(df[nombre_de_la_variable_de_salida])\n",
    "df_x = deepcopy(df[nombre_de_las_variables_de_entrada])"
   ]
  },
  {
   "cell_type": "markdown",
   "metadata": {
    "id": "v1eiLdTAS2HR"
   },
   "source": [
    "### Normalización\n",
    "\n",
    "Ahora, se pasa al proceso de normalización de los diferentes atributos. Se empleará la técnica de: ***min - max scaling***\n",
    "\n",
    "Descripción del método: https://deepchecks.com/glossary/normalization-in-machine-learning/"
   ]
  },
  {
   "cell_type": "code",
   "execution_count": 8,
   "metadata": {
    "colab": {
     "base_uri": "https://localhost:8080/",
     "height": 423
    },
    "id": "eKTUGH3tS7mA",
    "outputId": "ef425513-003d-42ff-87f5-dd27d9ea1339"
   },
   "outputs": [
    {
     "data": {
      "text/html": [
       "\n",
       "  <div id=\"df-bfcdba95-8910-4ac7-9cd8-b651471fe14c\">\n",
       "    <div class=\"colab-df-container\">\n",
       "      <div>\n",
       "<style scoped>\n",
       "    .dataframe tbody tr th:only-of-type {\n",
       "        vertical-align: middle;\n",
       "    }\n",
       "\n",
       "    .dataframe tbody tr th {\n",
       "        vertical-align: top;\n",
       "    }\n",
       "\n",
       "    .dataframe thead th {\n",
       "        text-align: right;\n",
       "    }\n",
       "</style>\n",
       "<table border=\"1\" class=\"dataframe\">\n",
       "  <thead>\n",
       "    <tr style=\"text-align: right;\">\n",
       "      <th></th>\n",
       "      <th>SepalLengthCm</th>\n",
       "      <th>SepalWidthCm</th>\n",
       "      <th>PetalLengthCm</th>\n",
       "      <th>PetalWidthCm</th>\n",
       "    </tr>\n",
       "  </thead>\n",
       "  <tbody>\n",
       "    <tr>\n",
       "      <th>0</th>\n",
       "      <td>0.222222</td>\n",
       "      <td>0.625000</td>\n",
       "      <td>0.067797</td>\n",
       "      <td>0.041667</td>\n",
       "    </tr>\n",
       "    <tr>\n",
       "      <th>1</th>\n",
       "      <td>0.166667</td>\n",
       "      <td>0.416667</td>\n",
       "      <td>0.067797</td>\n",
       "      <td>0.041667</td>\n",
       "    </tr>\n",
       "    <tr>\n",
       "      <th>2</th>\n",
       "      <td>0.111111</td>\n",
       "      <td>0.500000</td>\n",
       "      <td>0.050847</td>\n",
       "      <td>0.041667</td>\n",
       "    </tr>\n",
       "    <tr>\n",
       "      <th>3</th>\n",
       "      <td>0.083333</td>\n",
       "      <td>0.458333</td>\n",
       "      <td>0.084746</td>\n",
       "      <td>0.041667</td>\n",
       "    </tr>\n",
       "    <tr>\n",
       "      <th>4</th>\n",
       "      <td>0.194444</td>\n",
       "      <td>0.666667</td>\n",
       "      <td>0.067797</td>\n",
       "      <td>0.041667</td>\n",
       "    </tr>\n",
       "    <tr>\n",
       "      <th>...</th>\n",
       "      <td>...</td>\n",
       "      <td>...</td>\n",
       "      <td>...</td>\n",
       "      <td>...</td>\n",
       "    </tr>\n",
       "    <tr>\n",
       "      <th>145</th>\n",
       "      <td>0.666667</td>\n",
       "      <td>0.416667</td>\n",
       "      <td>0.711864</td>\n",
       "      <td>0.916667</td>\n",
       "    </tr>\n",
       "    <tr>\n",
       "      <th>146</th>\n",
       "      <td>0.555556</td>\n",
       "      <td>0.208333</td>\n",
       "      <td>0.677966</td>\n",
       "      <td>0.750000</td>\n",
       "    </tr>\n",
       "    <tr>\n",
       "      <th>147</th>\n",
       "      <td>0.611111</td>\n",
       "      <td>0.416667</td>\n",
       "      <td>0.711864</td>\n",
       "      <td>0.791667</td>\n",
       "    </tr>\n",
       "    <tr>\n",
       "      <th>148</th>\n",
       "      <td>0.527778</td>\n",
       "      <td>0.583333</td>\n",
       "      <td>0.745763</td>\n",
       "      <td>0.916667</td>\n",
       "    </tr>\n",
       "    <tr>\n",
       "      <th>149</th>\n",
       "      <td>0.444444</td>\n",
       "      <td>0.416667</td>\n",
       "      <td>0.694915</td>\n",
       "      <td>0.708333</td>\n",
       "    </tr>\n",
       "  </tbody>\n",
       "</table>\n",
       "<p>150 rows × 4 columns</p>\n",
       "</div>\n",
       "      <button class=\"colab-df-convert\" onclick=\"convertToInteractive('df-bfcdba95-8910-4ac7-9cd8-b651471fe14c')\"\n",
       "              title=\"Convert this dataframe to an interactive table.\"\n",
       "              style=\"display:none;\">\n",
       "        \n",
       "  <svg xmlns=\"http://www.w3.org/2000/svg\" height=\"24px\"viewBox=\"0 0 24 24\"\n",
       "       width=\"24px\">\n",
       "    <path d=\"M0 0h24v24H0V0z\" fill=\"none\"/>\n",
       "    <path d=\"M18.56 5.44l.94 2.06.94-2.06 2.06-.94-2.06-.94-.94-2.06-.94 2.06-2.06.94zm-11 1L8.5 8.5l.94-2.06 2.06-.94-2.06-.94L8.5 2.5l-.94 2.06-2.06.94zm10 10l.94 2.06.94-2.06 2.06-.94-2.06-.94-.94-2.06-.94 2.06-2.06.94z\"/><path d=\"M17.41 7.96l-1.37-1.37c-.4-.4-.92-.59-1.43-.59-.52 0-1.04.2-1.43.59L10.3 9.45l-7.72 7.72c-.78.78-.78 2.05 0 2.83L4 21.41c.39.39.9.59 1.41.59.51 0 1.02-.2 1.41-.59l7.78-7.78 2.81-2.81c.8-.78.8-2.07 0-2.86zM5.41 20L4 18.59l7.72-7.72 1.47 1.35L5.41 20z\"/>\n",
       "  </svg>\n",
       "      </button>\n",
       "      \n",
       "  <style>\n",
       "    .colab-df-container {\n",
       "      display:flex;\n",
       "      flex-wrap:wrap;\n",
       "      gap: 12px;\n",
       "    }\n",
       "\n",
       "    .colab-df-convert {\n",
       "      background-color: #E8F0FE;\n",
       "      border: none;\n",
       "      border-radius: 50%;\n",
       "      cursor: pointer;\n",
       "      display: none;\n",
       "      fill: #1967D2;\n",
       "      height: 32px;\n",
       "      padding: 0 0 0 0;\n",
       "      width: 32px;\n",
       "    }\n",
       "\n",
       "    .colab-df-convert:hover {\n",
       "      background-color: #E2EBFA;\n",
       "      box-shadow: 0px 1px 2px rgba(60, 64, 67, 0.3), 0px 1px 3px 1px rgba(60, 64, 67, 0.15);\n",
       "      fill: #174EA6;\n",
       "    }\n",
       "\n",
       "    [theme=dark] .colab-df-convert {\n",
       "      background-color: #3B4455;\n",
       "      fill: #D2E3FC;\n",
       "    }\n",
       "\n",
       "    [theme=dark] .colab-df-convert:hover {\n",
       "      background-color: #434B5C;\n",
       "      box-shadow: 0px 1px 3px 1px rgba(0, 0, 0, 0.15);\n",
       "      filter: drop-shadow(0px 1px 2px rgba(0, 0, 0, 0.3));\n",
       "      fill: #FFFFFF;\n",
       "    }\n",
       "  </style>\n",
       "\n",
       "      <script>\n",
       "        const buttonEl =\n",
       "          document.querySelector('#df-bfcdba95-8910-4ac7-9cd8-b651471fe14c button.colab-df-convert');\n",
       "        buttonEl.style.display =\n",
       "          google.colab.kernel.accessAllowed ? 'block' : 'none';\n",
       "\n",
       "        async function convertToInteractive(key) {\n",
       "          const element = document.querySelector('#df-bfcdba95-8910-4ac7-9cd8-b651471fe14c');\n",
       "          const dataTable =\n",
       "            await google.colab.kernel.invokeFunction('convertToInteractive',\n",
       "                                                     [key], {});\n",
       "          if (!dataTable) return;\n",
       "\n",
       "          const docLinkHtml = 'Like what you see? Visit the ' +\n",
       "            '<a target=\"_blank\" href=https://colab.research.google.com/notebooks/data_table.ipynb>data table notebook</a>'\n",
       "            + ' to learn more about interactive tables.';\n",
       "          element.innerHTML = '';\n",
       "          dataTable['output_type'] = 'display_data';\n",
       "          await google.colab.output.renderOutput(dataTable, element);\n",
       "          const docLink = document.createElement('div');\n",
       "          docLink.innerHTML = docLinkHtml;\n",
       "          element.appendChild(docLink);\n",
       "        }\n",
       "      </script>\n",
       "    </div>\n",
       "  </div>\n",
       "  "
      ],
      "text/plain": [
       "     SepalLengthCm  SepalWidthCm  PetalLengthCm  PetalWidthCm\n",
       "0         0.222222      0.625000       0.067797      0.041667\n",
       "1         0.166667      0.416667       0.067797      0.041667\n",
       "2         0.111111      0.500000       0.050847      0.041667\n",
       "3         0.083333      0.458333       0.084746      0.041667\n",
       "4         0.194444      0.666667       0.067797      0.041667\n",
       "..             ...           ...            ...           ...\n",
       "145       0.666667      0.416667       0.711864      0.916667\n",
       "146       0.555556      0.208333       0.677966      0.750000\n",
       "147       0.611111      0.416667       0.711864      0.791667\n",
       "148       0.527778      0.583333       0.745763      0.916667\n",
       "149       0.444444      0.416667       0.694915      0.708333\n",
       "\n",
       "[150 rows x 4 columns]"
      ]
     },
     "execution_count": 8,
     "metadata": {},
     "output_type": "execute_result"
    }
   ],
   "source": [
    "#Normalización de atributos\n",
    "df_x_normalized = (df_x-df_x.min())/(df_x.max()-df_x.min())\n",
    "df_x_normalized"
   ]
  },
  {
   "cell_type": "markdown",
   "metadata": {
    "id": "yI1VDEnlS-VD"
   },
   "source": [
    "### División datos de prueba\n",
    "\n",
    "Con los atributos normalizados se pasa a dividir los mismos en datos de entrenamiento para el modelo y datos de prueba."
   ]
  },
  {
   "cell_type": "code",
   "execution_count": 9,
   "metadata": {
    "id": "Uf36NMjbTBJQ"
   },
   "outputs": [],
   "source": [
    "#División de datos en conjunto de entrenamiento y prueba\n",
    "mezclar_los_datos       = True \n",
    "valor_semilla_aleatoria = 5\n",
    "\n",
    "#Porcentajes de división de datos. \n",
    "particion_para_entrenamiento = 0.8  \n",
    "particion_para_pruebas       = 1.0-particion_para_entrenamiento \n",
    "\n",
    "df_x_normalized_train, df_x_normalized_test, df_y_train, df_y_test = train_test_split(df_x_normalized, \n",
    "                             df_y,\n",
    "                             test_size=particion_para_pruebas, \n",
    "                             random_state=valor_semilla_aleatoria, \n",
    "                             shuffle=mezclar_los_datos)"
   ]
  },
  {
   "cell_type": "markdown",
   "metadata": {
    "id": "7DPitYH2TFFy"
   },
   "source": [
    "### Entrenamiento con datos normalizados\n",
    "\n",
    "Se pasa a entrenar un modelo usando los datos recientemente normalizados"
   ]
  },
  {
   "cell_type": "code",
   "execution_count": null,
   "metadata": {
    "id": "ltqB-Qa_TJzQ"
   },
   "outputs": [],
   "source": [
    "k   = 5\n",
    "knn = neighbors.KNeighborsClassifier(n_neighbors=k)\n",
    "knn.fit(df_x_normalized_train, df_y_train)"
   ]
  },
  {
   "cell_type": "code",
   "execution_count": null,
   "metadata": {
    "id": "bnKn1pHWTTfo"
   },
   "outputs": [],
   "source": [
    "#Predicción para datos de entrenamiento\n",
    "y_pred_train = knn.predict(df_x_normalized_train)\n",
    "y_pred_train"
   ]
  },
  {
   "cell_type": "code",
   "execution_count": null,
   "metadata": {
    "id": "xgdB-W5mTVU4"
   },
   "outputs": [],
   "source": [
    "#Predicción para datos de prueba\n",
    "y_pred_test = knn.predict(df_x_normalized_test)\n",
    "y_pred_test"
   ]
  },
  {
   "cell_type": "markdown",
   "metadata": {
    "id": "8dnKaaDqTZvq"
   },
   "source": [
    "### Métricas\n",
    "\n",
    "A continuación se plantean métricas de desempeño por clase para el modelo entrenado con datos normalizados.\n",
    "\n",
    "Primero se definen una serie de funciones que nos permitirán general mas métricas con mayor facilidad."
   ]
  },
  {
   "cell_type": "code",
   "execution_count": null,
   "metadata": {
    "id": "GUU76n85TbJt"
   },
   "outputs": [],
   "source": [
    "y_train = df_y_train.values\n",
    "\n",
    "def cm_multi (y,y_pred):\n",
    "  cm_m = metrics.confusion_matrix(one_hot_to_label_encoding(y), one_hot_to_label_encoding(y_pred))\n",
    "  return cm_m\n",
    "\n",
    "def one_hot_to_label_encoding(y_one_hot):\n",
    "  \"\"\"\n",
    "  Esta función convierte un arreglo numpy y_one_hot, correspondiente a una matriz de \n",
    "  m observaciones por n clases de tipo binario, en un vector columna y_label_encoded\n",
    "  de m filas cuyos elementos pueden tomar valores entre 0 y n-1. En ese caso\n",
    "  0 corresponde a la primera categoría, 1 a la segunda categoría, y así\n",
    "  sucesivamente. \n",
    "  \"\"\"\n",
    "  rows,cols=y_one_hot.shape            #Obtengo las dimensiones del arreglo.\n",
    "  y_label_encoded = np.zeros((rows,1)) #Inicializo el arreglo de salida en ceros. \n",
    "  for i in range(cols): #Para todas las categorías (aunque estrictamente esto puede dejarse como range(1,cols,1), pues i=0 no hace nada. )\n",
    "    y_label_encoded += i*y_one_hot[:,i].reshape((-1,1))  #Esto presume que la primera categoría se codifica como 0, \n",
    "                                                         #la siguiente como 1, etc...\n",
    "  return y_label_encoded"
   ]
  },
  {
   "cell_type": "markdown",
   "metadata": {
    "id": "ERZTRF6YTlIg"
   },
   "source": [
    "#### 1. Matriz de Confusión"
   ]
  },
  {
   "cell_type": "code",
   "execution_count": null,
   "metadata": {
    "id": "Wb01gf8UTqpY"
   },
   "outputs": [],
   "source": [
    "#Matriz de confusión para datos de entrenamiento\n",
    "cm_train = cm_multi(y_train, y_pred_train)\n",
    "disp_1 = metrics.ConfusionMatrixDisplay(confusion_matrix = cm_train)\n",
    "disp_1.plot()\n",
    "\n",
    "for i in range(len(df_y.columns)):\n",
    "    print('Clase %d:' % i)\n",
    "    print(df_y.columns[i])"
   ]
  },
  {
   "cell_type": "code",
   "execution_count": null,
   "metadata": {
    "id": "NIfWDxj2TuOY"
   },
   "outputs": [],
   "source": [
    "#Matriz de confusión para datos de prueba\n",
    "y_test = df_y_test.values\n",
    "cm_test = cm_multi(y_test, y_pred_test)\n",
    "disp_1 = metrics.ConfusionMatrixDisplay(confusion_matrix = cm_test)\n",
    "disp_1.plot()\n",
    "\n",
    "for i in range(len(df_y.columns)):\n",
    "    print('Clase %d:' % i)\n",
    "    print(df_y.columns[i])"
   ]
  },
  {
   "cell_type": "markdown",
   "metadata": {
    "id": "2hbHU-QATxQl"
   },
   "source": [
    "#### 2. Métricas estadísticas"
   ]
  },
  {
   "cell_type": "code",
   "execution_count": null,
   "metadata": {
    "id": "sdbl_qrJTyex"
   },
   "outputs": [],
   "source": [
    "#Métricas estadísticas para datos de entrenamiento\n",
    "print(metrics.classification_report(one_hot_to_label_encoding(y_train),\n",
    "                                    one_hot_to_label_encoding(y_pred_train),\n",
    "                                    target_names = df_y.columns))"
   ]
  },
  {
   "cell_type": "code",
   "execution_count": null,
   "metadata": {
    "id": "VX9UALu0T10C"
   },
   "outputs": [],
   "source": [
    "#Métricas estadísticas para datos de prueba\n",
    "print(metrics.classification_report(one_hot_to_label_encoding(y_test),\n",
    "                                    one_hot_to_label_encoding(y_pred_test),\n",
    "                                    target_names = df_y.columns))"
   ]
  },
  {
   "cell_type": "markdown",
   "metadata": {
    "id": "Z2aJU5zST3IA"
   },
   "source": [
    "#### 3. Exactitud general"
   ]
  },
  {
   "cell_type": "code",
   "execution_count": null,
   "metadata": {
    "id": "TnUk1u4oT7c4"
   },
   "outputs": [],
   "source": [
    "y_complete = np.append(y_train, y_test)\n",
    "y_pred_complete = np.append(y_pred_train, y_pred_test)\n",
    "\n",
    "accuaracy = metrics.accuracy_score(y_complete, y_pred_complete)\n",
    "print('Accuaracy of model: ', accuaracy)"
   ]
  },
  {
   "cell_type": "markdown",
   "metadata": {
    "id": "FfDzAcSPT9m7"
   },
   "source": [
    "#### 4. Comparación con modelo inicial"
   ]
  },
  {
   "cell_type": "markdown",
   "metadata": {
    "id": "JL_jHR7PUA1w"
   },
   "source": [
    "Nuestro modelo inicial contaba con una precisión del 98.22%, mientras que este nuevo modelo entrenado con datos normalizados, tuvo una precisión menor: 97.33%"
   ]
  },
  {
   "cell_type": "markdown",
   "metadata": {
    "id": "1AfPymw42JDO"
   },
   "source": [
    "## **Ejercicio 4:**\n",
    "\n",
    "Entrene y evalúe clasificadores KNN usando los atributos no normalizados para valores de K={1,3,7,9,11,13,15}. De acuerdo con los resultados obtenidos, ¿qué valor de K recomendaría?. Tenga en cuenta evaluar tanto con los datos de entrenamiento como de prueba."
   ]
  },
  {
   "cell_type": "markdown",
   "metadata": {
    "id": "kBy5X4kgLi6o"
   },
   "source": [
    "### K=1"
   ]
  },
  {
   "cell_type": "code",
   "execution_count": null,
   "metadata": {
    "colab": {
     "base_uri": "https://localhost:8080/"
    },
    "id": "bJSokS9eHdpt",
    "outputId": "1aafd879-2215-4877-ad8f-24532a1a5978"
   },
   "outputs": [
    {
     "name": "stdout",
     "output_type": "stream",
     "text": [
      "Datos de entrenamiento \n",
      "Matriz de confusión para K=1 usando los datos del conjunto de entrenamiento:\n",
      " [[42  0  0]\n",
      " [ 0 39  0]\n",
      " [ 0  0 39]]\n",
      "\n",
      "\n",
      "Métricas para K=1 usando los datos del conjunto de entrenamiento:\n",
      "\n",
      "                 precision    recall  f1-score   support\n",
      "\n",
      "    Iris-setosa       1.00      1.00      1.00        42\n",
      "Iris-versicolor       1.00      1.00      1.00        39\n",
      " Iris-virginica       1.00      1.00      1.00        39\n",
      "\n",
      "       accuracy                           1.00       120\n",
      "      macro avg       1.00      1.00      1.00       120\n",
      "   weighted avg       1.00      1.00      1.00       120\n",
      "\n",
      "--------------------------------------------------------------------------------------\n",
      "Datos de prueba \n",
      "Matriz de confusión para K=1 usando los datos del conjunto de prueba:\n",
      " [[ 8  0  0]\n",
      " [ 0  9  2]\n",
      " [ 0  1 10]]\n",
      "\n",
      "\n",
      "Métricas para K=1 usando los datos del conjunto de prueba:\n",
      "\n",
      "                 precision    recall  f1-score   support\n",
      "\n",
      "    Iris-setosa       1.00      1.00      1.00         8\n",
      "Iris-versicolor       0.90      0.82      0.86        11\n",
      " Iris-virginica       0.83      0.91      0.87        11\n",
      "\n",
      "       accuracy                           0.90        30\n",
      "      macro avg       0.91      0.91      0.91        30\n",
      "   weighted avg       0.90      0.90      0.90        30\n",
      "\n"
     ]
    }
   ],
   "source": [
    "k   = 1  \n",
    "knn = neighbors.KNeighborsClassifier(n_neighbors=k) #Instanciamos el clasificador KNN.\n",
    "knn.fit(df_x_train, df_y_train)                #Ajustamos el clasificador. \n",
    "\n",
    "#Train predict\n",
    "y_pred_train = knn.predict(df_x_train)      \n",
    "y_train= df_y_train.values\n",
    "\n",
    "cm = metrics.confusion_matrix(one_hot_to_label_encoding(y_train),one_hot_to_label_encoding(y_pred_train))  \n",
    "\n",
    "#Test predict\n",
    "y_pred_test = knn.predict(df_x_test)                                                      \n",
    "y_test = df_y_test.values\n",
    "\n",
    "cmt = metrics.confusion_matrix(one_hot_to_label_encoding(y_test),one_hot_to_label_encoding(y_pred_test))  \n",
    "\n",
    "print(\"Datos de entrenamiento \")\n",
    "print('Matriz de confusión para K={} usando los datos del conjunto de entrenamiento:\\n'.format(k), cm)\n",
    "print('\\n')\n",
    "\n",
    "print('Métricas para K={} usando los datos del conjunto de entrenamiento:\\n'.format(k))\n",
    "print(metrics.classification_report(one_hot_to_label_encoding(y_train),\n",
    "                                    one_hot_to_label_encoding(y_pred_train),\n",
    "                                    target_names = nombres_de_las_variables_de_salida))\n",
    "\n",
    "print(\"--------------------------------------------------------------------------------------\")\n",
    "\n",
    "print(\"Datos de prueba \")\n",
    "print('Matriz de confusión para K={} usando los datos del conjunto de prueba:\\n'.format(k), cmt)\n",
    "print('\\n')\n",
    "\n",
    "print('Métricas para K={} usando los datos del conjunto de prueba:\\n'.format(k))\n",
    "print(metrics.classification_report(one_hot_to_label_encoding(y_test),\n",
    "                                    one_hot_to_label_encoding(y_pred_test),\n",
    "                                    target_names = nombres_de_las_variables_de_salida))\n"
   ]
  },
  {
   "cell_type": "markdown",
   "metadata": {
    "id": "X81cdWGxLtrH"
   },
   "source": [
    "### K=3"
   ]
  },
  {
   "cell_type": "code",
   "execution_count": null,
   "metadata": {
    "colab": {
     "base_uri": "https://localhost:8080/"
    },
    "id": "CMD9ad41LtrH",
    "outputId": "1c8c8a95-24e2-46a3-ad38-6203e760cff6"
   },
   "outputs": [
    {
     "name": "stdout",
     "output_type": "stream",
     "text": [
      "Datos de entrenamiento \n",
      "Matriz de confusión para K=3 usando los datos del conjunto de entrenamiento:\n",
      " [[42  0  0]\n",
      " [ 0 38  1]\n",
      " [ 0  2 37]]\n",
      "\n",
      "\n",
      "Métricas para K=3 usando los datos del conjunto de entrenamiento:\n",
      "\n",
      "                 precision    recall  f1-score   support\n",
      "\n",
      "    Iris-setosa       1.00      1.00      1.00        42\n",
      "Iris-versicolor       0.95      0.97      0.96        39\n",
      " Iris-virginica       0.97      0.95      0.96        39\n",
      "\n",
      "       accuracy                           0.97       120\n",
      "      macro avg       0.97      0.97      0.97       120\n",
      "   weighted avg       0.98      0.97      0.97       120\n",
      "\n",
      "--------------------------------------------------------------------------------------\n",
      "Datos de prueba \n",
      "Matriz de confusión para K=3 usando los datos del conjunto de prueba:\n",
      " [[ 8  0  0]\n",
      " [ 0  9  2]\n",
      " [ 0  0 11]]\n",
      "\n",
      "\n",
      "Métricas para K=3 usando los datos del conjunto de prueba:\n",
      "\n",
      "                 precision    recall  f1-score   support\n",
      "\n",
      "    Iris-setosa       1.00      1.00      1.00         8\n",
      "Iris-versicolor       1.00      0.82      0.90        11\n",
      " Iris-virginica       0.85      1.00      0.92        11\n",
      "\n",
      "       accuracy                           0.93        30\n",
      "      macro avg       0.95      0.94      0.94        30\n",
      "   weighted avg       0.94      0.93      0.93        30\n",
      "\n"
     ]
    }
   ],
   "source": [
    "k   = 3  \n",
    "knn = neighbors.KNeighborsClassifier(n_neighbors=k) #Instanciamos el clasificador KNN.\n",
    "knn.fit(df_x_train, df_y_train)                #Ajustamos el clasificador. \n",
    "\n",
    "#Train predict\n",
    "y_pred_train = knn.predict(df_x_train)      \n",
    "y_train= df_y_train.values\n",
    "\n",
    "cm = metrics.confusion_matrix(one_hot_to_label_encoding(y_train),one_hot_to_label_encoding(y_pred_train))  \n",
    "\n",
    "#Test predict\n",
    "y_pred_test = knn.predict(df_x_test)                                                      \n",
    "y_test = df_y_test.values\n",
    "\n",
    "cmt = metrics.confusion_matrix(one_hot_to_label_encoding(y_test),one_hot_to_label_encoding(y_pred_test))  \n",
    "\n",
    "print(\"Datos de entrenamiento \")\n",
    "print('Matriz de confusión para K={} usando los datos del conjunto de entrenamiento:\\n'.format(k), cm)\n",
    "print('\\n')\n",
    "\n",
    "print('Métricas para K={} usando los datos del conjunto de entrenamiento:\\n'.format(k))\n",
    "print(metrics.classification_report(one_hot_to_label_encoding(y_train),\n",
    "                                    one_hot_to_label_encoding(y_pred_train),\n",
    "                                    target_names = nombres_de_las_variables_de_salida))\n",
    "\n",
    "print(\"--------------------------------------------------------------------------------------\")\n",
    "\n",
    "print(\"Datos de prueba \")\n",
    "print('Matriz de confusión para K={} usando los datos del conjunto de prueba:\\n'.format(k), cmt)\n",
    "print('\\n')\n",
    "\n",
    "print('Métricas para K={} usando los datos del conjunto de prueba:\\n'.format(k))\n",
    "print(metrics.classification_report(one_hot_to_label_encoding(y_test),\n",
    "                                    one_hot_to_label_encoding(y_pred_test),\n",
    "                                    target_names = nombres_de_las_variables_de_salida))\n"
   ]
  },
  {
   "cell_type": "markdown",
   "metadata": {
    "id": "zoHKXmOAMOP1"
   },
   "source": [
    "### K=7"
   ]
  },
  {
   "cell_type": "code",
   "execution_count": null,
   "metadata": {
    "colab": {
     "base_uri": "https://localhost:8080/"
    },
    "id": "2PN7p4miMOP1",
    "outputId": "bc1c4d16-1f78-4bd9-df5f-4b707e0bcc58"
   },
   "outputs": [
    {
     "name": "stdout",
     "output_type": "stream",
     "text": [
      "Datos de entrenamiento \n",
      "Matriz de confusión para K=7 usando los datos del conjunto de entrenamiento:\n",
      " [[42  0  0]\n",
      " [ 0 38  1]\n",
      " [ 0  1 38]]\n",
      "\n",
      "\n",
      "Métricas para K=7 usando los datos del conjunto de entrenamiento:\n",
      "\n",
      "                 precision    recall  f1-score   support\n",
      "\n",
      "    Iris-setosa       1.00      1.00      1.00        42\n",
      "Iris-versicolor       0.97      0.97      0.97        39\n",
      " Iris-virginica       0.97      0.97      0.97        39\n",
      "\n",
      "       accuracy                           0.98       120\n",
      "      macro avg       0.98      0.98      0.98       120\n",
      "   weighted avg       0.98      0.98      0.98       120\n",
      "\n",
      "--------------------------------------------------------------------------------------\n",
      "Datos de prueba \n",
      "Matriz de confusión para K=7 usando los datos del conjunto de prueba:\n",
      " [[ 8  0  0]\n",
      " [ 0 10  1]\n",
      " [ 0  0 11]]\n",
      "\n",
      "\n",
      "Métricas para K=7 usando los datos del conjunto de prueba:\n",
      "\n",
      "                 precision    recall  f1-score   support\n",
      "\n",
      "    Iris-setosa       1.00      1.00      1.00         8\n",
      "Iris-versicolor       1.00      0.91      0.95        11\n",
      " Iris-virginica       0.92      1.00      0.96        11\n",
      "\n",
      "       accuracy                           0.97        30\n",
      "      macro avg       0.97      0.97      0.97        30\n",
      "   weighted avg       0.97      0.97      0.97        30\n",
      "\n"
     ]
    }
   ],
   "source": [
    "k   = 7  \n",
    "knn = neighbors.KNeighborsClassifier(n_neighbors=k) #Instanciamos el clasificador KNN.\n",
    "knn.fit(df_x_train, df_y_train)                #Ajustamos el clasificador. \n",
    "\n",
    "#Train predict\n",
    "y_pred_train = knn.predict(df_x_train)      \n",
    "y_train= df_y_train.values\n",
    "\n",
    "cm = metrics.confusion_matrix(one_hot_to_label_encoding(y_train),one_hot_to_label_encoding(y_pred_train))  \n",
    "\n",
    "#Test predict\n",
    "y_pred_test = knn.predict(df_x_test)                                                      \n",
    "y_test = df_y_test.values\n",
    "\n",
    "cmt = metrics.confusion_matrix(one_hot_to_label_encoding(y_test),one_hot_to_label_encoding(y_pred_test))  \n",
    "\n",
    "print(\"Datos de entrenamiento \")\n",
    "print('Matriz de confusión para K={} usando los datos del conjunto de entrenamiento:\\n'.format(k), cm)\n",
    "print('\\n')\n",
    "\n",
    "print('Métricas para K={} usando los datos del conjunto de entrenamiento:\\n'.format(k))\n",
    "print(metrics.classification_report(one_hot_to_label_encoding(y_train),\n",
    "                                    one_hot_to_label_encoding(y_pred_train),\n",
    "                                    target_names = nombres_de_las_variables_de_salida))\n",
    "\n",
    "print(\"--------------------------------------------------------------------------------------\")\n",
    "\n",
    "print(\"Datos de prueba \")\n",
    "print('Matriz de confusión para K={} usando los datos del conjunto de prueba:\\n'.format(k), cmt)\n",
    "print('\\n')\n",
    "\n",
    "print('Métricas para K={} usando los datos del conjunto de prueba:\\n'.format(k))\n",
    "print(metrics.classification_report(one_hot_to_label_encoding(y_test),\n",
    "                                    one_hot_to_label_encoding(y_pred_test),\n",
    "                                    target_names = nombres_de_las_variables_de_salida))\n"
   ]
  },
  {
   "cell_type": "markdown",
   "metadata": {
    "id": "zLAgdbGzMacr"
   },
   "source": [
    "### K=9"
   ]
  },
  {
   "cell_type": "code",
   "execution_count": null,
   "metadata": {
    "colab": {
     "base_uri": "https://localhost:8080/"
    },
    "id": "GS0yAeRhMacs",
    "outputId": "061c1498-d59c-479f-d90c-cc5685653846"
   },
   "outputs": [
    {
     "name": "stdout",
     "output_type": "stream",
     "text": [
      "Datos de entrenamiento \n",
      "Matriz de confusión para K=9 usando los datos del conjunto de entrenamiento:\n",
      " [[42  0  0]\n",
      " [ 0 38  1]\n",
      " [ 0  1 38]]\n",
      "\n",
      "\n",
      "Métricas para K=9 usando los datos del conjunto de entrenamiento:\n",
      "\n",
      "                 precision    recall  f1-score   support\n",
      "\n",
      "    Iris-setosa       1.00      1.00      1.00        42\n",
      "Iris-versicolor       0.97      0.97      0.97        39\n",
      " Iris-virginica       0.97      0.97      0.97        39\n",
      "\n",
      "       accuracy                           0.98       120\n",
      "      macro avg       0.98      0.98      0.98       120\n",
      "   weighted avg       0.98      0.98      0.98       120\n",
      "\n",
      "--------------------------------------------------------------------------------------\n",
      "Datos de prueba \n",
      "Matriz de confusión para K=9 usando los datos del conjunto de prueba:\n",
      " [[ 8  0  0]\n",
      " [ 0 10  1]\n",
      " [ 0  0 11]]\n",
      "\n",
      "\n",
      "Métricas para K=9 usando los datos del conjunto de prueba:\n",
      "\n",
      "                 precision    recall  f1-score   support\n",
      "\n",
      "    Iris-setosa       1.00      1.00      1.00         8\n",
      "Iris-versicolor       1.00      0.91      0.95        11\n",
      " Iris-virginica       0.92      1.00      0.96        11\n",
      "\n",
      "       accuracy                           0.97        30\n",
      "      macro avg       0.97      0.97      0.97        30\n",
      "   weighted avg       0.97      0.97      0.97        30\n",
      "\n"
     ]
    }
   ],
   "source": [
    "k   = 9  \n",
    "knn = neighbors.KNeighborsClassifier(n_neighbors=k) #Instanciamos el clasificador KNN.\n",
    "knn.fit(df_x_train, df_y_train)                #Ajustamos el clasificador. \n",
    "\n",
    "#Train predict\n",
    "y_pred_train = knn.predict(df_x_train)      \n",
    "y_train= df_y_train.values\n",
    "\n",
    "cm = metrics.confusion_matrix(one_hot_to_label_encoding(y_train),one_hot_to_label_encoding(y_pred_train))  \n",
    "\n",
    "#Test predict\n",
    "y_pred_test = knn.predict(df_x_test)                                                      \n",
    "y_test = df_y_test.values\n",
    "\n",
    "cmt = metrics.confusion_matrix(one_hot_to_label_encoding(y_test),one_hot_to_label_encoding(y_pred_test))  \n",
    "\n",
    "print(\"Datos de entrenamiento \")\n",
    "print('Matriz de confusión para K={} usando los datos del conjunto de entrenamiento:\\n'.format(k), cm)\n",
    "print('\\n')\n",
    "\n",
    "print('Métricas para K={} usando los datos del conjunto de entrenamiento:\\n'.format(k))\n",
    "print(metrics.classification_report(one_hot_to_label_encoding(y_train),\n",
    "                                    one_hot_to_label_encoding(y_pred_train),\n",
    "                                    target_names = nombres_de_las_variables_de_salida))\n",
    "\n",
    "print(\"--------------------------------------------------------------------------------------\")\n",
    "\n",
    "print(\"Datos de prueba \")\n",
    "print('Matriz de confusión para K={} usando los datos del conjunto de prueba:\\n'.format(k), cmt)\n",
    "print('\\n')\n",
    "\n",
    "print('Métricas para K={} usando los datos del conjunto de prueba:\\n'.format(k))\n",
    "print(metrics.classification_report(one_hot_to_label_encoding(y_test),\n",
    "                                    one_hot_to_label_encoding(y_pred_test),\n",
    "                                    target_names = nombres_de_las_variables_de_salida))\n"
   ]
  },
  {
   "cell_type": "markdown",
   "metadata": {
    "id": "jfh8VfUcMj9k"
   },
   "source": [
    "### K=11"
   ]
  },
  {
   "cell_type": "code",
   "execution_count": null,
   "metadata": {
    "colab": {
     "base_uri": "https://localhost:8080/"
    },
    "id": "T9Fy1q_JMj9l",
    "outputId": "60cdcbc2-f957-4b35-dd33-223e12d8e2d4"
   },
   "outputs": [
    {
     "name": "stdout",
     "output_type": "stream",
     "text": [
      "Datos de entrenamiento \n",
      "Matriz de confusión para K=11 usando los datos del conjunto de entrenamiento:\n",
      " [[42  0  0]\n",
      " [ 0 38  1]\n",
      " [ 0  1 38]]\n",
      "\n",
      "\n",
      "Métricas para K=11 usando los datos del conjunto de entrenamiento:\n",
      "\n",
      "                 precision    recall  f1-score   support\n",
      "\n",
      "    Iris-setosa       1.00      1.00      1.00        42\n",
      "Iris-versicolor       0.97      0.97      0.97        39\n",
      " Iris-virginica       0.97      0.97      0.97        39\n",
      "\n",
      "       accuracy                           0.98       120\n",
      "      macro avg       0.98      0.98      0.98       120\n",
      "   weighted avg       0.98      0.98      0.98       120\n",
      "\n",
      "--------------------------------------------------------------------------------------\n",
      "Datos de prueba \n",
      "Matriz de confusión para K=11 usando los datos del conjunto de prueba:\n",
      " [[ 8  0  0]\n",
      " [ 0 10  1]\n",
      " [ 0  0 11]]\n",
      "\n",
      "\n",
      "Métricas para K=11 usando los datos del conjunto de prueba:\n",
      "\n",
      "                 precision    recall  f1-score   support\n",
      "\n",
      "    Iris-setosa       1.00      1.00      1.00         8\n",
      "Iris-versicolor       1.00      0.91      0.95        11\n",
      " Iris-virginica       0.92      1.00      0.96        11\n",
      "\n",
      "       accuracy                           0.97        30\n",
      "      macro avg       0.97      0.97      0.97        30\n",
      "   weighted avg       0.97      0.97      0.97        30\n",
      "\n"
     ]
    }
   ],
   "source": [
    "k   = 11  \n",
    "knn = neighbors.KNeighborsClassifier(n_neighbors=k) #Instanciamos el clasificador KNN.\n",
    "knn.fit(df_x_train, df_y_train)                #Ajustamos el clasificador. \n",
    "\n",
    "#Train predict\n",
    "y_pred_train = knn.predict(df_x_train)      \n",
    "y_train= df_y_train.values\n",
    "\n",
    "cm = metrics.confusion_matrix(one_hot_to_label_encoding(y_train),one_hot_to_label_encoding(y_pred_train))  \n",
    "\n",
    "#Test predict\n",
    "y_pred_test = knn.predict(df_x_test)                                                      \n",
    "y_test = df_y_test.values\n",
    "\n",
    "cmt = metrics.confusion_matrix(one_hot_to_label_encoding(y_test),one_hot_to_label_encoding(y_pred_test))  \n",
    "\n",
    "print(\"Datos de entrenamiento \")\n",
    "print('Matriz de confusión para K={} usando los datos del conjunto de entrenamiento:\\n'.format(k), cm)\n",
    "print('\\n')\n",
    "\n",
    "print('Métricas para K={} usando los datos del conjunto de entrenamiento:\\n'.format(k))\n",
    "print(metrics.classification_report(one_hot_to_label_encoding(y_train),\n",
    "                                    one_hot_to_label_encoding(y_pred_train),\n",
    "                                    target_names = nombres_de_las_variables_de_salida))\n",
    "\n",
    "print(\"--------------------------------------------------------------------------------------\")\n",
    "\n",
    "print(\"Datos de prueba \")\n",
    "print('Matriz de confusión para K={} usando los datos del conjunto de prueba:\\n'.format(k), cmt)\n",
    "print('\\n')\n",
    "\n",
    "print('Métricas para K={} usando los datos del conjunto de prueba:\\n'.format(k))\n",
    "print(metrics.classification_report(one_hot_to_label_encoding(y_test),\n",
    "                                    one_hot_to_label_encoding(y_pred_test),\n",
    "                                    target_names = nombres_de_las_variables_de_salida))\n"
   ]
  },
  {
   "cell_type": "markdown",
   "metadata": {
    "id": "jK159_mqMqq_"
   },
   "source": [
    "### K=13"
   ]
  },
  {
   "cell_type": "code",
   "execution_count": null,
   "metadata": {
    "colab": {
     "base_uri": "https://localhost:8080/"
    },
    "id": "7--YV_DRMqrA",
    "outputId": "b577c539-0c7a-4e17-bea6-89362660f16b"
   },
   "outputs": [
    {
     "name": "stdout",
     "output_type": "stream",
     "text": [
      "Datos de entrenamiento \n",
      "Matriz de confusión para K=13 usando los datos del conjunto de entrenamiento:\n",
      " [[42  0  0]\n",
      " [ 0 38  1]\n",
      " [ 0  1 38]]\n",
      "\n",
      "\n",
      "Métricas para K=13 usando los datos del conjunto de entrenamiento:\n",
      "\n",
      "                 precision    recall  f1-score   support\n",
      "\n",
      "    Iris-setosa       1.00      1.00      1.00        42\n",
      "Iris-versicolor       0.97      0.97      0.97        39\n",
      " Iris-virginica       0.97      0.97      0.97        39\n",
      "\n",
      "       accuracy                           0.98       120\n",
      "      macro avg       0.98      0.98      0.98       120\n",
      "   weighted avg       0.98      0.98      0.98       120\n",
      "\n",
      "--------------------------------------------------------------------------------------\n",
      "Datos de prueba \n",
      "Matriz de confusión para K=13 usando los datos del conjunto de prueba:\n",
      " [[ 8  0  0]\n",
      " [ 0 10  1]\n",
      " [ 0  0 11]]\n",
      "\n",
      "\n",
      "Métricas para K=13 usando los datos del conjunto de prueba:\n",
      "\n",
      "                 precision    recall  f1-score   support\n",
      "\n",
      "    Iris-setosa       1.00      1.00      1.00         8\n",
      "Iris-versicolor       1.00      0.91      0.95        11\n",
      " Iris-virginica       0.92      1.00      0.96        11\n",
      "\n",
      "       accuracy                           0.97        30\n",
      "      macro avg       0.97      0.97      0.97        30\n",
      "   weighted avg       0.97      0.97      0.97        30\n",
      "\n"
     ]
    }
   ],
   "source": [
    "k   = 13  \n",
    "knn = neighbors.KNeighborsClassifier(n_neighbors=k) #Instanciamos el clasificador KNN.\n",
    "knn.fit(df_x_train, df_y_train)                #Ajustamos el clasificador. \n",
    "\n",
    "#Train predict\n",
    "y_pred_train = knn.predict(df_x_train)      \n",
    "y_train= df_y_train.values\n",
    "\n",
    "cm = metrics.confusion_matrix(one_hot_to_label_encoding(y_train),one_hot_to_label_encoding(y_pred_train))  \n",
    "\n",
    "#Test predict\n",
    "y_pred_test = knn.predict(df_x_test)                                                      \n",
    "y_test = df_y_test.values\n",
    "\n",
    "cmt = metrics.confusion_matrix(one_hot_to_label_encoding(y_test),one_hot_to_label_encoding(y_pred_test))  \n",
    "\n",
    "print(\"Datos de entrenamiento \")\n",
    "print('Matriz de confusión para K={} usando los datos del conjunto de entrenamiento:\\n'.format(k), cm)\n",
    "print('\\n')\n",
    "\n",
    "print('Métricas para K={} usando los datos del conjunto de entrenamiento:\\n'.format(k))\n",
    "print(metrics.classification_report(one_hot_to_label_encoding(y_train),\n",
    "                                    one_hot_to_label_encoding(y_pred_train),\n",
    "                                    target_names = nombres_de_las_variables_de_salida))\n",
    "\n",
    "print(\"--------------------------------------------------------------------------------------\")\n",
    "\n",
    "print(\"Datos de prueba \")\n",
    "print('Matriz de confusión para K={} usando los datos del conjunto de prueba:\\n'.format(k), cmt)\n",
    "print('\\n')\n",
    "\n",
    "print('Métricas para K={} usando los datos del conjunto de prueba:\\n'.format(k))\n",
    "print(metrics.classification_report(one_hot_to_label_encoding(y_test),\n",
    "                                    one_hot_to_label_encoding(y_pred_test),\n",
    "                                    target_names = nombres_de_las_variables_de_salida))\n"
   ]
  },
  {
   "cell_type": "markdown",
   "metadata": {
    "id": "M_fk_U3HM0wU"
   },
   "source": [
    "### K=15"
   ]
  },
  {
   "cell_type": "code",
   "execution_count": null,
   "metadata": {
    "colab": {
     "base_uri": "https://localhost:8080/"
    },
    "id": "-TJ05n2JM0wV",
    "outputId": "c84600a7-0048-46de-877f-223f3f6ac968"
   },
   "outputs": [
    {
     "name": "stdout",
     "output_type": "stream",
     "text": [
      "Datos de entrenamiento \n",
      "Matriz de confusión para K=15 usando los datos del conjunto de entrenamiento:\n",
      " [[42  0  0]\n",
      " [ 0 38  1]\n",
      " [ 0  1 38]]\n",
      "\n",
      "\n",
      "Métricas para K=15 usando los datos del conjunto de entrenamiento:\n",
      "\n",
      "                 precision    recall  f1-score   support\n",
      "\n",
      "    Iris-setosa       1.00      1.00      1.00        42\n",
      "Iris-versicolor       0.97      0.97      0.97        39\n",
      " Iris-virginica       0.97      0.97      0.97        39\n",
      "\n",
      "       accuracy                           0.98       120\n",
      "      macro avg       0.98      0.98      0.98       120\n",
      "   weighted avg       0.98      0.98      0.98       120\n",
      "\n",
      "--------------------------------------------------------------------------------------\n",
      "Datos de prueba \n",
      "Matriz de confusión para K=15 usando los datos del conjunto de prueba:\n",
      " [[ 8  0  0]\n",
      " [ 0 10  1]\n",
      " [ 0  0 11]]\n",
      "\n",
      "\n",
      "Métricas para K=15 usando los datos del conjunto de prueba:\n",
      "\n",
      "                 precision    recall  f1-score   support\n",
      "\n",
      "    Iris-setosa       1.00      1.00      1.00         8\n",
      "Iris-versicolor       1.00      0.91      0.95        11\n",
      " Iris-virginica       0.92      1.00      0.96        11\n",
      "\n",
      "       accuracy                           0.97        30\n",
      "      macro avg       0.97      0.97      0.97        30\n",
      "   weighted avg       0.97      0.97      0.97        30\n",
      "\n"
     ]
    }
   ],
   "source": [
    "k   = 15 \n",
    "knn = neighbors.KNeighborsClassifier(n_neighbors=k) #Instanciamos el clasificador KNN.\n",
    "knn.fit(df_x_train, df_y_train)                #Ajustamos el clasificador. \n",
    "\n",
    "#Train predict\n",
    "y_pred_train = knn.predict(df_x_train)      \n",
    "y_train= df_y_train.values\n",
    "\n",
    "cm = metrics.confusion_matrix(one_hot_to_label_encoding(y_train),one_hot_to_label_encoding(y_pred_train))  \n",
    "\n",
    "#Test predict\n",
    "y_pred_test = knn.predict(df_x_test)                                                      \n",
    "y_test = df_y_test.values\n",
    "\n",
    "cmt = metrics.confusion_matrix(one_hot_to_label_encoding(y_test),one_hot_to_label_encoding(y_pred_test))  \n",
    "\n",
    "print(\"Datos de entrenamiento \")\n",
    "print('Matriz de confusión para K={} usando los datos del conjunto de entrenamiento:\\n'.format(k), cm)\n",
    "print('\\n')\n",
    "\n",
    "print('Métricas para K={} usando los datos del conjunto de entrenamiento:\\n'.format(k))\n",
    "print(metrics.classification_report(one_hot_to_label_encoding(y_train),\n",
    "                                    one_hot_to_label_encoding(y_pred_train),\n",
    "                                    target_names = nombres_de_las_variables_de_salida))\n",
    "\n",
    "print(\"--------------------------------------------------------------------------------------\")\n",
    "\n",
    "print(\"Datos de prueba \")\n",
    "print('Matriz de confusión para K={} usando los datos del conjunto de prueba:\\n'.format(k), cmt)\n",
    "print('\\n')\n",
    "\n",
    "print('Métricas para K={} usando los datos del conjunto de prueba:\\n'.format(k))\n",
    "print(metrics.classification_report(one_hot_to_label_encoding(y_test),\n",
    "                                    one_hot_to_label_encoding(y_pred_test),\n",
    "                                    target_names = nombres_de_las_variables_de_salida))\n"
   ]
  },
  {
   "cell_type": "markdown",
   "metadata": {
    "id": "hGmFnMKaNukw"
   },
   "source": [
    "### Recomendación"
   ]
  },
  {
   "cell_type": "markdown",
   "metadata": {
    "id": "UnPITPjrN1x6"
   },
   "source": [
    "Luego de ver los comportamientos del modelo variando K podemos observar que para 1 y 3 es muy exacto con los datos de entrenamiento, pero al pasar a los de prueba falla. A partir de K=7 hasta K=1  los resultados empiezan a ser iguales y la máxima exactitud se logra, es de 0.97.\n",
    "\n",
    "Entonces, teniendo en cuenta que los resultados se van repitiendo a partir de K=7 y se obtienen las mejores métricas, recomendaríamos usar K=7."
   ]
  },
  {
   "cell_type": "markdown",
   "metadata": {
    "id": "_W_W5QgW2JDP"
   },
   "source": [
    "## **Ejercicio 5:**\n",
    "\n",
    "Entrene y evalúe clasificadores KNN usando los atributos normalizados para valores de K={1,3,7,9,11,13,15}. De acuerdo con los resultados obtenidos, ¿qué valor de K recomendaría?. Compare los resultados obtenidos en este punto con los obtenidos en el Ejercicio 4. Tenga en cuenta evaluar tanto con los datos de entrenamiento como de prueba."
   ]
  },
  {
   "cell_type": "markdown",
   "metadata": {
    "id": "1a79QrjxBEVc"
   },
   "source": [
    "### K=1"
   ]
  },
  {
   "cell_type": "code",
   "execution_count": 10,
   "metadata": {
    "colab": {
     "base_uri": "https://localhost:8080/",
     "height": 235
    },
    "id": "SPdkwxjRBPSt",
    "outputId": "6febf867-8996-4766-fb86-d7dec30093e7"
   },
   "outputs": [
    {
     "ename": "NameError",
     "evalue": "ignored",
     "output_type": "error",
     "traceback": [
      "\u001b[0;31m---------------------------------------------------------------------------\u001b[0m",
      "\u001b[0;31mNameError\u001b[0m                                 Traceback (most recent call last)",
      "\u001b[0;32m<ipython-input-10-80e8f067ebc9>\u001b[0m in \u001b[0;36m<module>\u001b[0;34m\u001b[0m\n\u001b[1;32m      7\u001b[0m \u001b[0my_train\u001b[0m\u001b[0;34m=\u001b[0m \u001b[0mdf_y_train\u001b[0m\u001b[0;34m.\u001b[0m\u001b[0mvalues\u001b[0m\u001b[0;34m\u001b[0m\u001b[0;34m\u001b[0m\u001b[0m\n\u001b[1;32m      8\u001b[0m \u001b[0;34m\u001b[0m\u001b[0m\n\u001b[0;32m----> 9\u001b[0;31m \u001b[0mcm\u001b[0m \u001b[0;34m=\u001b[0m \u001b[0mmetrics\u001b[0m\u001b[0;34m.\u001b[0m\u001b[0mconfusion_matrix\u001b[0m\u001b[0;34m(\u001b[0m\u001b[0mone_hot_to_label_encoding\u001b[0m\u001b[0;34m(\u001b[0m\u001b[0my_train\u001b[0m\u001b[0;34m)\u001b[0m\u001b[0;34m,\u001b[0m\u001b[0mone_hot_to_label_encoding\u001b[0m\u001b[0;34m(\u001b[0m\u001b[0my_pred_train\u001b[0m\u001b[0;34m)\u001b[0m\u001b[0;34m)\u001b[0m\u001b[0;34m\u001b[0m\u001b[0;34m\u001b[0m\u001b[0m\n\u001b[0m\u001b[1;32m     10\u001b[0m \u001b[0;34m\u001b[0m\u001b[0m\n\u001b[1;32m     11\u001b[0m \u001b[0;31m#Test predict\u001b[0m\u001b[0;34m\u001b[0m\u001b[0;34m\u001b[0m\u001b[0;34m\u001b[0m\u001b[0m\n",
      "\u001b[0;31mNameError\u001b[0m: name 'one_hot_to_label_encoding' is not defined"
     ]
    }
   ],
   "source": [
    "k   = 1  \n",
    "knn = neighbors.KNeighborsClassifier(n_neighbors=k)\n",
    "knn.fit(df_x_normalized_train, df_y_train)\n",
    "\n",
    "#Train predict\n",
    "y_pred_train = knn.predict(df_x_normalized_train)      \n",
    "y_train= df_y_train.values\n",
    "\n",
    "cm = metrics.confusion_matrix(one_hot_to_label_encoding(y_train),one_hot_to_label_encoding(y_pred_train))  \n",
    "\n",
    "#Test predict\n",
    "y_pred_test = knn.predict(df_x_normalized_test)                                                      \n",
    "y_test = df_y_test.values\n",
    "\n",
    "cmt = metrics.confusion_matrix(one_hot_to_label_encoding(y_test),one_hot_to_label_encoding(y_pred_test))  \n",
    "\n",
    "print(\"Datos de entrenamiento \")\n",
    "print('Matriz de confusión para K={} usando los datos del conjunto de entrenamiento:\\n'.format(k), cm)\n",
    "print('\\n')\n",
    "\n",
    "print('Métricas para K={} usando los datos del conjunto de entrenamiento:\\n'.format(k))\n",
    "print(metrics.classification_report(one_hot_to_label_encoding(y_train),\n",
    "                                    one_hot_to_label_encoding(y_pred_train),\n",
    "                                    target_names = nombres_de_las_variables_de_salida))\n",
    "\n",
    "print(\"--------------------------------------------------------------------------------------\")\n",
    "\n",
    "print(\"Datos de prueba \")\n",
    "print('Matriz de confusión para K={} usando los datos del conjunto de prueba:\\n'.format(k), cmt)\n",
    "print('\\n')\n",
    "\n",
    "print('Métricas para K={} usando los datos del conjunto de prueba:\\n'.format(k))\n",
    "print(metrics.classification_report(one_hot_to_label_encoding(y_test),\n",
    "                                    one_hot_to_label_encoding(y_pred_test),\n",
    "                                    target_names = nombres_de_las_variables_de_salida))\n"
   ]
  },
  {
   "cell_type": "markdown",
   "metadata": {
    "id": "TmFdLAMF2JDP"
   },
   "source": [
    "## **Ejercicio 6.**\n",
    "\n",
    "Encuentre un modelo de clasificación KNN que utilice solo tres atributos y cuyo desempeño sea igual o mejor que el modelo que usa cuatro atributos. Decida si es conveniente normalizar o no los atributos. Utilice diferentes valores de K. Para comparar varios modelos genere diferentes métricas de desempeño.\n",
    "Al final indique, ¿por qué escogió esos atributos?, de los modelos entrenados ¿cuál escogería y por qué? ¿qué métricas de desempeño reportaría a un cliente y por qué?"
   ]
  },
  {
   "cell_type": "markdown",
   "metadata": {
    "id": "Mvnapg5v2JDP"
   },
   "source": [
    "## **Ejercicio 7.**\n",
    "\n",
    "Encuentre un modelo de clasificación KNN que utilice solo dos atributos y cuyo desempeño sea comparable con el modelo que usa cuatro atributos. Decida si es conveniente normalizar o no los atributos. Utilice diferentes valores de K. Para comparar varios modelos genere diferentes métricas de desempeño.\n",
    "Al final indique, ¿por qué escogió esos atributos?, de los modelos entrenados ¿cuál escogería y por qué? ¿qué métricas de desempeño reportaría a un cliente y por qué?"
   ]
  },
  {
   "cell_type": "markdown",
   "metadata": {
    "id": "7YrakEZi2JDP"
   },
   "source": [
    "## **Ejercicio 8.**\n",
    "\n",
    "¿Qué valores puede tomar el hiperparámetro metric? ¿Cuál es la distancia que utiliza por defecto el clasificador KNN?\n",
    "¿Qué valores puede tomar el hiperparámetro weight y cuál podría ser su utilidad?"
   ]
  },
  {
   "cell_type": "markdown",
   "metadata": {
    "id": "kHIY2-yDOhdl"
   },
   "source": [
    "El hiperparámetro metric recibe un str, sin embargo esta cadena debe estar asociada a una métrica de distancia establecida. Los valores que puede tomar son: \n",
    "\n",
    "Para espacios de vectores con valores reales:\n",
    "\n",
    "*   euclidean\n",
    "*   manhattan\n",
    "*   chebyshev\n",
    "*   minkowski\n",
    "*   wminkowski\n",
    "*   seuclidean\n",
    "*   mahalanobid\n",
    "\n",
    "Para espacios de vectores con dos dimensiones:\n",
    "\n",
    "*   haversine\n",
    "\n",
    "Para espacios de vectores con valores enteros:\n",
    "\n",
    "*   hamming\n",
    "*   canberra\n",
    "*   braycurtis\n",
    "\n",
    "**Por defecto se usa la minkowski**\n",
    "\n",
    "El hiperparámetro weight puede tomar valores de:\n",
    "\n",
    "*   uniform: Todos los puntos tienen pesos iguales\n",
    "*   distance: Puntos de peso por el inverso de su distancia, los vecinos más cercanos tendrán una mayor influencia que aquellos más lejanos.\n",
    "*   callable: el usuario define una función para la distancia\n",
    "\n",
    "**Por defecto se usa uniform**\n",
    "\n",
    "Es útil utilizar este hiperparámetro cuando se desea personalizar la agrupación a través de funciones propias y también para cuando se quiera que la distancia tenga influencia sobre la agrupación.\n",
    "\n",
    "\n",
    "\n"
   ]
  },
  {
   "cell_type": "markdown",
   "metadata": {
    "id": "gBAjBA-w5wFn"
   },
   "source": [
    "# **FIN**"
   ]
  },
  {
   "cell_type": "markdown",
   "metadata": {
    "id": "t4fRMRy32JDQ"
   },
   "source": [
    "# **Metodología**\n",
    "\n",
    "1. Desarrolle las Preguntas propuestas en el Taller 3 de forma individual.\n",
    "\n",
    "2. Después de la sesión de Taller 3, suba a Intu el archivo con la solución a las preguntas con nombre en el siguiente formato:\n",
    "\n",
    "Taller_3_Apellido-Nombre.ipynb\n",
    "\n",
    "3. Resuelva los Ejercicios Propuestos (en grupos de máximo 2 personas) en un nuevo notebook de Jupyter y suba el archivo a Intu hasta el próximo miércoles 21 de septiembre a las 7:00 am (antes del inicio de la clase). Utilice el siguiente formato para el nombre del archivo.\n",
    "\n",
    "Ejercicios_Taller_2_Apellido-Nombre_Apellido-Nombre.ipynb\n",
    "\n",
    "4.\tRecuerde consignar los nombres de los integrantes dentro del notebook.\n",
    "\n",
    "5.\tAlgunos grupos serán llamados al azar durante la clase del miércoles 21 de septiembre para realizar la presentación de alguno (s) de los puntos.\n",
    "\n",
    "6. La nota del Taller 3 se asignará así:\n",
    "\n",
    "- Preguntas Taller 2 (20%)\n",
    "\n",
    "- Ejercicios Taller 2 (80%)\n"
   ]
  },
  {
   "cell_type": "code",
   "execution_count": null,
   "metadata": {
    "id": "UNS9mahy2JDQ"
   },
   "outputs": [],
   "source": []
  }
 ],
 "metadata": {
  "colab": {
   "collapsed_sections": [
    "-5tmabFl2JDI"
   ],
   "provenance": []
  },
  "kernelspec": {
   "display_name": "Python 3",
   "language": "python",
   "name": "python3"
  },
  "language_info": {
   "codemirror_mode": {
    "name": "ipython",
    "version": 3
   },
   "file_extension": ".py",
   "mimetype": "text/x-python",
   "name": "python",
   "nbconvert_exporter": "python",
   "pygments_lexer": "ipython3",
   "version": "3.8.3"
  }
 },
 "nbformat": 4,
 "nbformat_minor": 1
}

{
 "cells": [
  {
   "cell_type": "markdown",
   "metadata": {
    "id": "2fCttZG0opEs"
   },
   "source": [
    "# **Taller 3: clasificación de especies de iris usando K-vecinos más cercanos.**\n",
    "\n",
    "**Curso: 09481 - Inteligencia Artificial.**\n",
    "\n",
    "**Universidad Icesi.**\n",
    "\n",
    "**Profesor: Breyner Posso.**\n",
    "\n",
    "**Estudiantes: Julian Bolaños y Juan Pablo Sanín**"
   ]
  },
  {
   "cell_type": "markdown",
   "metadata": {
    "id": "LQcNGMN07WXE"
   },
   "source": [
    "# 0. Importar librerías."
   ]
  },
  {
   "cell_type": "code",
   "execution_count": 1,
   "metadata": {
    "id": "6j2ZJQwUoqRD"
   },
   "outputs": [],
   "source": [
    "#Vamos a importar las librerías que vamos a utilizar.\n",
    "\n",
    "import pandas as pd                #Importamos la librería pandas. Nos va a servir para leer y manipular conjuntos de datos tabulares.\n",
    "import matplotlib.pyplot as plt    #Importamos pyplot de librería matplotlib. Lo vamos a utilizar para graficar.\n",
    "import seaborn as sns              #Importamos la librería Seaborn. La vamos a utilizar para graficar.\n",
    "import numpy as np                 #Importamos la librería numpy para manipular arreglos. \n",
    "#from google.colab import files     #Esta librería nos sirve para cargar archivos desde el disco duro.\n",
    "\n",
    "from sklearn.model_selection import train_test_split #Útil para dividir los conjuntos de datos. \n",
    "from sklearn.preprocessing import MinMaxScaler       #Útil para escalar los atributos de entrada.\n",
    "from sklearn import neighbors  #Permite usar KNN.\n",
    "from sklearn import metrics    #Permite calcular algunas métricas de desempeño.\n",
    "\n",
    "from copy import deepcopy      #Permite hacer copias profundas. "
   ]
  },
  {
   "cell_type": "markdown",
   "metadata": {
    "id": "7QBXi-bV7u0k"
   },
   "source": [
    "# 1. Cargar datos."
   ]
  },
  {
   "cell_type": "code",
   "execution_count": 2,
   "metadata": {
    "id": "l-qV7OutoyML"
   },
   "outputs": [],
   "source": [
    "#Primero vamos a descargar el archivo \"iris.csv\" en nuestra máquina local desde Moodle o desde esta ruta: https://www.kaggle.com/uciml/iris\n",
    "\n",
    "#Ahora cargamos en Google Colab el archivo que tiene el conjunto de datos \"iris.csv\"\n",
    "#files.upload()  #Nota: si este comando falla, revise que su navegador permite el almacenamiento de cookies. \n"
   ]
  },
  {
   "cell_type": "code",
   "execution_count": 3,
   "metadata": {
    "id": "DNWTdUj34kXX"
   },
   "outputs": [],
   "source": [
    "#Vamos a utilizar el dataset iris (https://www.kaggle.com/datasets/uciml/iris)\n",
    "# Vamos a leer el conjunto de datos en un dataframe de pandas.\n",
    "df = pd.read_csv('iris.csv') #Ruta completa a la ubicación del archivo de interés."
   ]
  },
  {
   "cell_type": "markdown",
   "metadata": {
    "id": "GgKSrY0ac_oG"
   },
   "source": [
    "# **EJERCICIOS PROPUESTOS TALLER 3.**"
   ]
  },
  {
   "cell_type": "markdown",
   "metadata": {
    "id": "UayKVzQU2JDO"
   },
   "source": [
    "## **Ejercicio 1.**\n",
    "\n",
    "Para el conjunto de datos iris, ¿cuál sería la exactitud (accuracy) de línea base (baseline)?"
   ]
  },
  {
   "cell_type": "markdown",
   "metadata": {
    "id": "Ef_lMKpKq804"
   },
   "source": [
    "En vista de que nuestros datos se encuentran distribuidos de manera uniforme, nuetsro **accuaracy baseline es de 33.33%.**"
   ]
  },
  {
   "cell_type": "markdown",
   "metadata": {
    "id": "IxHtyvuu4kYL"
   },
   "source": [
    "## **Ejercicio 2.**\n",
    "\n",
    "Para la función metrics.classification_report consulte qué representan los valores entregados."
   ]
  },
  {
   "cell_type": "markdown",
   "metadata": {
    "id": "vhMmYIajD7Lq"
   },
   "source": [
    "<h2> La función metrics.classification_report entrega 4 columnas, precision, recall f1-score y support. <h2/>\n",
    "\n"
   ]
  },
  {
   "cell_type": "markdown",
   "metadata": {
    "id": "B-UT-rUJGlYv"
   },
   "source": [
    "Para los ejemplos se utilizará el retorno de las métricas de prueba."
   ]
  },
  {
   "cell_type": "markdown",
   "metadata": {
    "id": "1wbDbewtFOUF"
   },
   "source": [
    "La precisión del modelo hace referencia a ¿qué proporción de todas las predicciones de pertenencia a la clase que hizo el clasificador fueron correctas? Es el resultado de los Verdaderos Positivos/(Verdaderos Positivos+Falsos Positivos) En otras palabras es la estadística que nos dice la calidad del modelo en términos de predecir correctamente para esa clase.\n",
    "\n",
    "Para el caso que tenemos, podemos observar que para la iris-setosa e iris versicolor la precisión es de 1.00 es decir que el modelo acertó en su totalilad. Finalmente para iris-virginica fue de 0.85, esto nos indica que tuvimos falsos positivos en un 15%."
   ]
  },
  {
   "cell_type": "markdown",
   "metadata": {
    "id": "WwdqtAuHFUcv"
   },
   "source": [
    "El recall del modelo o sensibilidad hace referencia a ¿qué proporción de todos los ejemplos que pertenecían a la clase en la realidad, identificó el clasificador? Es el resultado de Verdaderos Positivos/(Verdaderos Positivos+Falsos Negativos) En otras palabras es la estadística que nos informa sobre la cantidad que el modelo es capaz de identificar para esa clase.\n",
    "\n",
    "Para el caso que tenemos podemos observar que para iris-setosa e iris-virginica es 1.00 es decir que fue capaz de identificar el 100% de los datos pertenecientes a la clase, en ninguna ocasión predijo que no pertenecía cuando en realidad si. Para iris-versicolor el recall fue de 0.82 que nos indica que 18% de los datos fueron identificados como no pertenecientes a esta clase cuando en realidad sí."
   ]
  },
  {
   "cell_type": "markdown",
   "metadata": {
    "id": "WPWxz27SFpfu"
   },
   "source": [
    "La métrica F1-Score del modelo hace referencia a un puntaje que toma en cuenta la precisión y el recall. Este valor esta entre 0 y 1, toma en cuenta los falsos positivos y los falsos negativos. Entre más cercano a 1 mejor será nuestro modelo.\n",
    "\n",
    "Para el caso que tenemos podemos ver que iris-setosa cuenta con un f1-score de 1.00 es decir que fue perfecto, no identifico ningún falso positivo o negativo. Para iris-virginica e iris-versicolor, su puntaje f1 fue de 0.90 y 0.92 respectivamente."
   ]
  },
  {
   "cell_type": "markdown",
   "metadata": {
    "id": "QePFwv4fHBOR"
   },
   "source": [
    "El support que entrega está función hace referencia a el conteo de datos pertenecientes a cada clase."
   ]
  },
  {
   "cell_type": "markdown",
   "metadata": {
    "id": "vXCaa2oCHLvc"
   },
   "source": [
    "<h2> Accuracy <h2/>"
   ]
  },
  {
   "cell_type": "markdown",
   "metadata": {
    "id": "l7GL2ICbHOLy"
   },
   "source": [
    "El accuracy o exactitud del modelo hace referencia a el porcentaje de caso que acertó el modelo. Es de las métricas más usadas y favoritas, sin embargo, se debe tener cuidado porque no necesariamente indica qué tan bueno es el modelo.\n",
    "\n",
    "Es el resultado de Verdaderos Positivos + Verdaderos Negativos /(Verdaderos Positivos+ Verdaderos Negativos+ Falsos Positivos + Falsos Negativos)\n",
    "\n",
    "En nuestro caso, la exactitud es de 0.93, que nos indica que el modelo acierta el 93% de las veces, esto es muy bueno. Sin embargo debemos tener cuidado cuando las clases están desbalanceadas."
   ]
  },
  {
   "cell_type": "markdown",
   "metadata": {
    "id": "ik4aYwV94kYL"
   },
   "source": [
    "## **Ejercicio 3.**\n",
    "\n",
    "Normalice los atributos, entrene un modelo con los atributos normalizados, pruebe este modelo tanto con los datos de entrenamiento y prueba, obtenga las métricas de desempeño por clase (matriz de confusión, exactitud, precisión, sensibilidad, especificidad y F1), obtenga la exactitud general y compare con los resultados obtenidos mediante el clasificador entrenado en la sesión de Taller."
   ]
  },
  {
   "cell_type": "markdown",
   "metadata": {},
   "source": [
    "### Separación atributo-target\n",
    "\n",
    "Se separan las columnas de nuestro dataframe para tener los atributos en una variable y nuestro target en otra"
   ]
  },
  {
   "cell_type": "code",
   "execution_count": 4,
   "metadata": {},
   "outputs": [],
   "source": [
    "#Separación de atributos y target\n",
    "nombre_de_la_variable_de_salida='Species'\n",
    "nombre_de_las_variables_de_entrada = ['SepalLengthCm','SepalWidthCm','PetalLengthCm','PetalWidthCm']\n",
    "\n",
    "\n",
    "df_y = pd.get_dummies(df[nombre_de_la_variable_de_salida])\n",
    "df_x = deepcopy(df[nombre_de_las_variables_de_entrada])"
   ]
  },
  {
   "cell_type": "markdown",
   "metadata": {},
   "source": [
    "### Normalización\n",
    "\n",
    "Ahora, se pasa al proceso de normalización de los diferentes atributos. Se empleará la técnica de: ***min - max scaling***\n",
    "\n",
    "Descripción del método: https://deepchecks.com/glossary/normalization-in-machine-learning/"
   ]
  },
  {
   "cell_type": "code",
   "execution_count": 5,
   "metadata": {
    "scrolled": false
   },
   "outputs": [
    {
     "data": {
      "text/html": [
       "<div>\n",
       "<style scoped>\n",
       "    .dataframe tbody tr th:only-of-type {\n",
       "        vertical-align: middle;\n",
       "    }\n",
       "\n",
       "    .dataframe tbody tr th {\n",
       "        vertical-align: top;\n",
       "    }\n",
       "\n",
       "    .dataframe thead th {\n",
       "        text-align: right;\n",
       "    }\n",
       "</style>\n",
       "<table border=\"1\" class=\"dataframe\">\n",
       "  <thead>\n",
       "    <tr style=\"text-align: right;\">\n",
       "      <th></th>\n",
       "      <th>SepalLengthCm</th>\n",
       "      <th>SepalWidthCm</th>\n",
       "      <th>PetalLengthCm</th>\n",
       "      <th>PetalWidthCm</th>\n",
       "    </tr>\n",
       "  </thead>\n",
       "  <tbody>\n",
       "    <tr>\n",
       "      <th>0</th>\n",
       "      <td>0.222222</td>\n",
       "      <td>0.625000</td>\n",
       "      <td>0.067797</td>\n",
       "      <td>0.041667</td>\n",
       "    </tr>\n",
       "    <tr>\n",
       "      <th>1</th>\n",
       "      <td>0.166667</td>\n",
       "      <td>0.416667</td>\n",
       "      <td>0.067797</td>\n",
       "      <td>0.041667</td>\n",
       "    </tr>\n",
       "    <tr>\n",
       "      <th>2</th>\n",
       "      <td>0.111111</td>\n",
       "      <td>0.500000</td>\n",
       "      <td>0.050847</td>\n",
       "      <td>0.041667</td>\n",
       "    </tr>\n",
       "    <tr>\n",
       "      <th>3</th>\n",
       "      <td>0.083333</td>\n",
       "      <td>0.458333</td>\n",
       "      <td>0.084746</td>\n",
       "      <td>0.041667</td>\n",
       "    </tr>\n",
       "    <tr>\n",
       "      <th>4</th>\n",
       "      <td>0.194444</td>\n",
       "      <td>0.666667</td>\n",
       "      <td>0.067797</td>\n",
       "      <td>0.041667</td>\n",
       "    </tr>\n",
       "    <tr>\n",
       "      <th>...</th>\n",
       "      <td>...</td>\n",
       "      <td>...</td>\n",
       "      <td>...</td>\n",
       "      <td>...</td>\n",
       "    </tr>\n",
       "    <tr>\n",
       "      <th>145</th>\n",
       "      <td>0.666667</td>\n",
       "      <td>0.416667</td>\n",
       "      <td>0.711864</td>\n",
       "      <td>0.916667</td>\n",
       "    </tr>\n",
       "    <tr>\n",
       "      <th>146</th>\n",
       "      <td>0.555556</td>\n",
       "      <td>0.208333</td>\n",
       "      <td>0.677966</td>\n",
       "      <td>0.750000</td>\n",
       "    </tr>\n",
       "    <tr>\n",
       "      <th>147</th>\n",
       "      <td>0.611111</td>\n",
       "      <td>0.416667</td>\n",
       "      <td>0.711864</td>\n",
       "      <td>0.791667</td>\n",
       "    </tr>\n",
       "    <tr>\n",
       "      <th>148</th>\n",
       "      <td>0.527778</td>\n",
       "      <td>0.583333</td>\n",
       "      <td>0.745763</td>\n",
       "      <td>0.916667</td>\n",
       "    </tr>\n",
       "    <tr>\n",
       "      <th>149</th>\n",
       "      <td>0.444444</td>\n",
       "      <td>0.416667</td>\n",
       "      <td>0.694915</td>\n",
       "      <td>0.708333</td>\n",
       "    </tr>\n",
       "  </tbody>\n",
       "</table>\n",
       "<p>150 rows × 4 columns</p>\n",
       "</div>"
      ],
      "text/plain": [
       "     SepalLengthCm  SepalWidthCm  PetalLengthCm  PetalWidthCm\n",
       "0         0.222222      0.625000       0.067797      0.041667\n",
       "1         0.166667      0.416667       0.067797      0.041667\n",
       "2         0.111111      0.500000       0.050847      0.041667\n",
       "3         0.083333      0.458333       0.084746      0.041667\n",
       "4         0.194444      0.666667       0.067797      0.041667\n",
       "..             ...           ...            ...           ...\n",
       "145       0.666667      0.416667       0.711864      0.916667\n",
       "146       0.555556      0.208333       0.677966      0.750000\n",
       "147       0.611111      0.416667       0.711864      0.791667\n",
       "148       0.527778      0.583333       0.745763      0.916667\n",
       "149       0.444444      0.416667       0.694915      0.708333\n",
       "\n",
       "[150 rows x 4 columns]"
      ]
     },
     "execution_count": 5,
     "metadata": {},
     "output_type": "execute_result"
    }
   ],
   "source": [
    "#Normalización de atributos\n",
    "df_x_normalized = (df_x-df_x.min())/(df_x.max()-df_x.min())\n",
    "df_x_normalized"
   ]
  },
  {
   "cell_type": "markdown",
   "metadata": {},
   "source": [
    "### División datos de prueba\n",
    "\n",
    "Con los atributos normalizados se pasa a dividir los mismos en datos de entrenamiento para el modelo y datos de prueba."
   ]
  },
  {
   "cell_type": "code",
   "execution_count": 6,
   "metadata": {},
   "outputs": [],
   "source": [
    "#División de datos en conjunto de entrenamiento y prueba\n",
    "mezclar_los_datos       = True \n",
    "valor_semilla_aleatoria = 5\n",
    "\n",
    "#Porcentajes de división de datos. \n",
    "particion_para_entrenamiento = 0.8  \n",
    "particion_para_pruebas       = 1.0-particion_para_entrenamiento \n",
    "\n",
    "df_x_normalized_train, df_x_normalized_test, df_y_train, df_y_test = train_test_split(df_x_normalized, \n",
    "                             df_y,\n",
    "                             test_size=particion_para_pruebas, \n",
    "                             random_state=valor_semilla_aleatoria, \n",
    "                             shuffle=mezclar_los_datos)"
   ]
  },
  {
   "cell_type": "markdown",
   "metadata": {},
   "source": [
    "### Entrenamiento con datos normalizados\n",
    "\n",
    "Se pasa a entrenar un modelo usando los datos recientemente normalizados"
   ]
  },
  {
   "cell_type": "code",
   "execution_count": 7,
   "metadata": {},
   "outputs": [
    {
     "data": {
      "text/html": [
       "<style>#sk-container-id-1 {color: black;background-color: white;}#sk-container-id-1 pre{padding: 0;}#sk-container-id-1 div.sk-toggleable {background-color: white;}#sk-container-id-1 label.sk-toggleable__label {cursor: pointer;display: block;width: 100%;margin-bottom: 0;padding: 0.3em;box-sizing: border-box;text-align: center;}#sk-container-id-1 label.sk-toggleable__label-arrow:before {content: \"▸\";float: left;margin-right: 0.25em;color: #696969;}#sk-container-id-1 label.sk-toggleable__label-arrow:hover:before {color: black;}#sk-container-id-1 div.sk-estimator:hover label.sk-toggleable__label-arrow:before {color: black;}#sk-container-id-1 div.sk-toggleable__content {max-height: 0;max-width: 0;overflow: hidden;text-align: left;background-color: #f0f8ff;}#sk-container-id-1 div.sk-toggleable__content pre {margin: 0.2em;color: black;border-radius: 0.25em;background-color: #f0f8ff;}#sk-container-id-1 input.sk-toggleable__control:checked~div.sk-toggleable__content {max-height: 200px;max-width: 100%;overflow: auto;}#sk-container-id-1 input.sk-toggleable__control:checked~label.sk-toggleable__label-arrow:before {content: \"▾\";}#sk-container-id-1 div.sk-estimator input.sk-toggleable__control:checked~label.sk-toggleable__label {background-color: #d4ebff;}#sk-container-id-1 div.sk-label input.sk-toggleable__control:checked~label.sk-toggleable__label {background-color: #d4ebff;}#sk-container-id-1 input.sk-hidden--visually {border: 0;clip: rect(1px 1px 1px 1px);clip: rect(1px, 1px, 1px, 1px);height: 1px;margin: -1px;overflow: hidden;padding: 0;position: absolute;width: 1px;}#sk-container-id-1 div.sk-estimator {font-family: monospace;background-color: #f0f8ff;border: 1px dotted black;border-radius: 0.25em;box-sizing: border-box;margin-bottom: 0.5em;}#sk-container-id-1 div.sk-estimator:hover {background-color: #d4ebff;}#sk-container-id-1 div.sk-parallel-item::after {content: \"\";width: 100%;border-bottom: 1px solid gray;flex-grow: 1;}#sk-container-id-1 div.sk-label:hover label.sk-toggleable__label {background-color: #d4ebff;}#sk-container-id-1 div.sk-serial::before {content: \"\";position: absolute;border-left: 1px solid gray;box-sizing: border-box;top: 0;bottom: 0;left: 50%;z-index: 0;}#sk-container-id-1 div.sk-serial {display: flex;flex-direction: column;align-items: center;background-color: white;padding-right: 0.2em;padding-left: 0.2em;position: relative;}#sk-container-id-1 div.sk-item {position: relative;z-index: 1;}#sk-container-id-1 div.sk-parallel {display: flex;align-items: stretch;justify-content: center;background-color: white;position: relative;}#sk-container-id-1 div.sk-item::before, #sk-container-id-1 div.sk-parallel-item::before {content: \"\";position: absolute;border-left: 1px solid gray;box-sizing: border-box;top: 0;bottom: 0;left: 50%;z-index: -1;}#sk-container-id-1 div.sk-parallel-item {display: flex;flex-direction: column;z-index: 1;position: relative;background-color: white;}#sk-container-id-1 div.sk-parallel-item:first-child::after {align-self: flex-end;width: 50%;}#sk-container-id-1 div.sk-parallel-item:last-child::after {align-self: flex-start;width: 50%;}#sk-container-id-1 div.sk-parallel-item:only-child::after {width: 0;}#sk-container-id-1 div.sk-dashed-wrapped {border: 1px dashed gray;margin: 0 0.4em 0.5em 0.4em;box-sizing: border-box;padding-bottom: 0.4em;background-color: white;}#sk-container-id-1 div.sk-label label {font-family: monospace;font-weight: bold;display: inline-block;line-height: 1.2em;}#sk-container-id-1 div.sk-label-container {text-align: center;}#sk-container-id-1 div.sk-container {/* jupyter's `normalize.less` sets `[hidden] { display: none; }` but bootstrap.min.css set `[hidden] { display: none !important; }` so we also need the `!important` here to be able to override the default hidden behavior on the sphinx rendered scikit-learn.org. See: https://github.com/scikit-learn/scikit-learn/issues/21755 */display: inline-block !important;position: relative;}#sk-container-id-1 div.sk-text-repr-fallback {display: none;}</style><div id=\"sk-container-id-1\" class=\"sk-top-container\"><div class=\"sk-text-repr-fallback\"><pre>KNeighborsClassifier()</pre><b>In a Jupyter environment, please rerun this cell to show the HTML representation or trust the notebook. <br />On GitHub, the HTML representation is unable to render, please try loading this page with nbviewer.org.</b></div><div class=\"sk-container\" hidden><div class=\"sk-item\"><div class=\"sk-estimator sk-toggleable\"><input class=\"sk-toggleable__control sk-hidden--visually\" id=\"sk-estimator-id-1\" type=\"checkbox\" checked><label for=\"sk-estimator-id-1\" class=\"sk-toggleable__label sk-toggleable__label-arrow\">KNeighborsClassifier</label><div class=\"sk-toggleable__content\"><pre>KNeighborsClassifier()</pre></div></div></div></div></div>"
      ],
      "text/plain": [
       "KNeighborsClassifier()"
      ]
     },
     "execution_count": 7,
     "metadata": {},
     "output_type": "execute_result"
    }
   ],
   "source": [
    "k   = 5\n",
    "knn = neighbors.KNeighborsClassifier(n_neighbors=k)\n",
    "knn.fit(df_x_normalized_train, df_y_train)"
   ]
  },
  {
   "cell_type": "code",
   "execution_count": 8,
   "metadata": {
    "scrolled": true
   },
   "outputs": [
    {
     "data": {
      "text/plain": [
       "array([[1, 0, 0],\n",
       "       [0, 1, 0],\n",
       "       [0, 1, 0],\n",
       "       [1, 0, 0],\n",
       "       [0, 1, 0],\n",
       "       [1, 0, 0],\n",
       "       [1, 0, 0],\n",
       "       [0, 0, 1],\n",
       "       [1, 0, 0],\n",
       "       [0, 0, 1],\n",
       "       [0, 0, 1],\n",
       "       [0, 1, 0],\n",
       "       [1, 0, 0],\n",
       "       [1, 0, 0],\n",
       "       [0, 1, 0],\n",
       "       [0, 0, 1],\n",
       "       [0, 1, 0],\n",
       "       [0, 0, 1],\n",
       "       [0, 0, 1],\n",
       "       [1, 0, 0],\n",
       "       [0, 0, 1],\n",
       "       [1, 0, 0],\n",
       "       [1, 0, 0],\n",
       "       [1, 0, 0],\n",
       "       [1, 0, 0],\n",
       "       [0, 1, 0],\n",
       "       [0, 1, 0],\n",
       "       [0, 1, 0],\n",
       "       [0, 1, 0],\n",
       "       [0, 0, 1],\n",
       "       [0, 1, 0],\n",
       "       [0, 0, 1],\n",
       "       [0, 0, 1],\n",
       "       [0, 1, 0],\n",
       "       [1, 0, 0],\n",
       "       [0, 1, 0],\n",
       "       [1, 0, 0],\n",
       "       [0, 1, 0],\n",
       "       [0, 0, 1],\n",
       "       [0, 1, 0],\n",
       "       [0, 0, 1],\n",
       "       [0, 1, 0],\n",
       "       [0, 0, 1],\n",
       "       [0, 1, 0],\n",
       "       [0, 1, 0],\n",
       "       [0, 1, 0],\n",
       "       [0, 0, 1],\n",
       "       [0, 1, 0],\n",
       "       [1, 0, 0],\n",
       "       [0, 0, 1],\n",
       "       [1, 0, 0],\n",
       "       [1, 0, 0],\n",
       "       [0, 1, 0],\n",
       "       [1, 0, 0],\n",
       "       [1, 0, 0],\n",
       "       [0, 0, 1],\n",
       "       [0, 1, 0],\n",
       "       [1, 0, 0],\n",
       "       [0, 0, 1],\n",
       "       [1, 0, 0],\n",
       "       [0, 1, 0],\n",
       "       [0, 1, 0],\n",
       "       [1, 0, 0],\n",
       "       [1, 0, 0],\n",
       "       [0, 0, 1],\n",
       "       [0, 1, 0],\n",
       "       [0, 1, 0],\n",
       "       [1, 0, 0],\n",
       "       [1, 0, 0],\n",
       "       [0, 0, 1],\n",
       "       [0, 1, 0],\n",
       "       [0, 1, 0],\n",
       "       [1, 0, 0],\n",
       "       [0, 1, 0],\n",
       "       [0, 0, 1],\n",
       "       [0, 1, 0],\n",
       "       [1, 0, 0],\n",
       "       [0, 1, 0],\n",
       "       [0, 0, 1],\n",
       "       [0, 0, 1],\n",
       "       [0, 0, 1],\n",
       "       [0, 0, 1],\n",
       "       [1, 0, 0],\n",
       "       [1, 0, 0],\n",
       "       [0, 0, 1],\n",
       "       [0, 0, 1],\n",
       "       [1, 0, 0],\n",
       "       [0, 1, 0],\n",
       "       [1, 0, 0],\n",
       "       [1, 0, 0],\n",
       "       [0, 0, 1],\n",
       "       [0, 1, 0],\n",
       "       [0, 0, 1],\n",
       "       [1, 0, 0],\n",
       "       [0, 0, 1],\n",
       "       [1, 0, 0],\n",
       "       [0, 0, 1],\n",
       "       [1, 0, 0],\n",
       "       [0, 1, 0],\n",
       "       [1, 0, 0],\n",
       "       [0, 0, 1],\n",
       "       [0, 0, 1],\n",
       "       [1, 0, 0],\n",
       "       [0, 1, 0],\n",
       "       [0, 0, 1],\n",
       "       [0, 0, 1],\n",
       "       [0, 1, 0],\n",
       "       [1, 0, 0],\n",
       "       [0, 1, 0],\n",
       "       [1, 0, 0],\n",
       "       [1, 0, 0],\n",
       "       [0, 1, 0],\n",
       "       [0, 0, 1],\n",
       "       [1, 0, 0],\n",
       "       [0, 0, 1],\n",
       "       [1, 0, 0],\n",
       "       [0, 1, 0],\n",
       "       [0, 0, 1],\n",
       "       [0, 0, 1],\n",
       "       [0, 1, 0]], dtype=uint8)"
      ]
     },
     "execution_count": 8,
     "metadata": {},
     "output_type": "execute_result"
    }
   ],
   "source": [
    "#Predicción para datos de entrenamiento\n",
    "y_pred_train = knn.predict(df_x_normalized_train)\n",
    "y_pred_train"
   ]
  },
  {
   "cell_type": "code",
   "execution_count": 9,
   "metadata": {
    "scrolled": true
   },
   "outputs": [
    {
     "data": {
      "text/plain": [
       "array([[0, 1, 0],\n",
       "       [0, 1, 0],\n",
       "       [0, 0, 1],\n",
       "       [1, 0, 0],\n",
       "       [0, 0, 1],\n",
       "       [0, 1, 0],\n",
       "       [1, 0, 0],\n",
       "       [0, 0, 1],\n",
       "       [1, 0, 0],\n",
       "       [0, 1, 0],\n",
       "       [0, 1, 0],\n",
       "       [0, 1, 0],\n",
       "       [0, 0, 1],\n",
       "       [0, 0, 1],\n",
       "       [1, 0, 0],\n",
       "       [1, 0, 0],\n",
       "       [0, 0, 1],\n",
       "       [0, 0, 1],\n",
       "       [1, 0, 0],\n",
       "       [1, 0, 0],\n",
       "       [0, 1, 0],\n",
       "       [0, 0, 1],\n",
       "       [1, 0, 0],\n",
       "       [0, 1, 0],\n",
       "       [0, 1, 0],\n",
       "       [0, 0, 1],\n",
       "       [0, 1, 0],\n",
       "       [0, 1, 0],\n",
       "       [0, 1, 0],\n",
       "       [0, 0, 1]], dtype=uint8)"
      ]
     },
     "execution_count": 9,
     "metadata": {},
     "output_type": "execute_result"
    }
   ],
   "source": [
    "#Predicción para datos de prueba\n",
    "y_pred_test = knn.predict(df_x_normalized_test)\n",
    "y_pred_test"
   ]
  },
  {
   "cell_type": "markdown",
   "metadata": {},
   "source": [
    "### Métricas\n",
    "\n",
    "A continuación se plantean métricas de desempeño por clase para el modelo entrenado con datos normalizados.\n",
    "\n",
    "Primero se definen una serie de funciones que nos permitirán general mas métricas con mayor facilidad."
   ]
  },
  {
   "cell_type": "code",
   "execution_count": 10,
   "metadata": {},
   "outputs": [],
   "source": [
    "y_train = df_y_train.values\n",
    "\n",
    "def cm_multi (y,y_pred):\n",
    "  cm_m = metrics.confusion_matrix(one_hot_to_label_encoding(y), one_hot_to_label_encoding(y_pred))\n",
    "  return cm_m\n",
    "\n",
    "def one_hot_to_label_encoding(y_one_hot):\n",
    "  \"\"\"\n",
    "  Esta función convierte un arreglo numpy y_one_hot, correspondiente a una matriz de \n",
    "  m observaciones por n clases de tipo binario, en un vector columna y_label_encoded\n",
    "  de m filas cuyos elementos pueden tomar valores entre 0 y n-1. En ese caso\n",
    "  0 corresponde a la primera categoría, 1 a la segunda categoría, y así\n",
    "  sucesivamente. \n",
    "  \"\"\"\n",
    "  rows,cols=y_one_hot.shape            #Obtengo las dimensiones del arreglo.\n",
    "  y_label_encoded = np.zeros((rows,1)) #Inicializo el arreglo de salida en ceros. \n",
    "  for i in range(cols): #Para todas las categorías (aunque estrictamente esto puede dejarse como range(1,cols,1), pues i=0 no hace nada. )\n",
    "    y_label_encoded += i*y_one_hot[:,i].reshape((-1,1))  #Esto presume que la primera categoría se codifica como 0, \n",
    "                                                         #la siguiente como 1, etc...\n",
    "  return y_label_encoded"
   ]
  },
  {
   "cell_type": "markdown",
   "metadata": {},
   "source": [
    "#### 1. Matriz de Confusión"
   ]
  },
  {
   "cell_type": "code",
   "execution_count": 11,
   "metadata": {
    "scrolled": false
   },
   "outputs": [
    {
     "name": "stdout",
     "output_type": "stream",
     "text": [
      "Clase 0:\n",
      "Iris-setosa\n",
      "Clase 1:\n",
      "Iris-versicolor\n",
      "Clase 2:\n",
      "Iris-virginica\n"
     ]
    },
    {
     "data": {
      "image/png": "[encoded data removed]",
      "text/plain": [
       "<Figure size 432x288 with 2 Axes>"
      ]
     },
     "metadata": {
      "needs_background": "light"
     },
     "output_type": "display_data"
    }
   ],
   "source": [
    "#Matriz de confusión para datos de entrenamiento\n",
    "cm_train = cm_multi(y_train, y_pred_train)\n",
    "disp_1 = metrics.ConfusionMatrixDisplay(confusion_matrix = cm_train)\n",
    "disp_1.plot()\n",
    "\n",
    "for i in range(len(df_y.columns)):\n",
    "    print('Clase %d:' % i)\n",
    "    print(df_y.columns[i])"
   ]
  },
  {
   "cell_type": "code",
   "execution_count": 12,
   "metadata": {},
   "outputs": [
    {
     "name": "stdout",
     "output_type": "stream",
     "text": [
      "Clase 0:\n",
      "Iris-setosa\n",
      "Clase 1:\n",
      "Iris-versicolor\n",
      "Clase 2:\n",
      "Iris-virginica\n"
     ]
    },
    {
     "data": {
      "image/png": "[encoded data removed]",
      "text/plain": [
       "<Figure size 432x288 with 2 Axes>"
      ]
     },
     "metadata": {
      "needs_background": "light"
     },
     "output_type": "display_data"
    }
   ],
   "source": [
    "#Matriz de confusión para datos de prueba\n",
    "y_test = df_y_test.values\n",
    "cm_test = cm_multi(y_test, y_pred_test)\n",
    "disp_1 = metrics.ConfusionMatrixDisplay(confusion_matrix = cm_test)\n",
    "disp_1.plot()\n",
    "\n",
    "for i in range(len(df_y.columns)):\n",
    "    print('Clase %d:' % i)\n",
    "    print(df_y.columns[i])"
   ]
  },
  {
   "cell_type": "markdown",
   "metadata": {},
   "source": [
    "#### 2. Métricas estadísticas"
   ]
  },
  {
   "cell_type": "code",
   "execution_count": 13,
   "metadata": {},
   "outputs": [
    {
     "name": "stdout",
     "output_type": "stream",
     "text": [
      "                 precision    recall  f1-score   support\n",
      "\n",
      "    Iris-setosa       1.00      1.00      1.00        42\n",
      "Iris-versicolor       0.95      0.97      0.96        39\n",
      " Iris-virginica       0.97      0.95      0.96        39\n",
      "\n",
      "       accuracy                           0.97       120\n",
      "      macro avg       0.97      0.97      0.97       120\n",
      "   weighted avg       0.98      0.97      0.97       120\n",
      "\n"
     ]
    }
   ],
   "source": [
    "#Métricas estadísticas para datos de entrenamiento\n",
    "print(metrics.classification_report(one_hot_to_label_encoding(y_train),\n",
    "                                    one_hot_to_label_encoding(y_pred_train),\n",
    "                                    target_names = df_y.columns))"
   ]
  },
  {
   "cell_type": "code",
   "execution_count": 14,
   "metadata": {
    "scrolled": true
   },
   "outputs": [
    {
     "name": "stdout",
     "output_type": "stream",
     "text": [
      "                 precision    recall  f1-score   support\n",
      "\n",
      "    Iris-setosa       1.00      1.00      1.00         8\n",
      "Iris-versicolor       0.83      0.91      0.87        11\n",
      " Iris-virginica       0.90      0.82      0.86        11\n",
      "\n",
      "       accuracy                           0.90        30\n",
      "      macro avg       0.91      0.91      0.91        30\n",
      "   weighted avg       0.90      0.90      0.90        30\n",
      "\n"
     ]
    }
   ],
   "source": [
    "#Métricas estadísticas para datos de prueba\n",
    "print(metrics.classification_report(one_hot_to_label_encoding(y_test),\n",
    "                                    one_hot_to_label_encoding(y_pred_test),\n",
    "                                    target_names = df_y.columns))"
   ]
  },
  {
   "cell_type": "markdown",
   "metadata": {},
   "source": [
    "#### 3. Exactitud general"
   ]
  },
  {
   "cell_type": "code",
   "execution_count": 15,
   "metadata": {},
   "outputs": [
    {
     "name": "stdout",
     "output_type": "stream",
     "text": [
      "Accuaracy of model:  0.9733333333333334\n"
     ]
    }
   ],
   "source": [
    "y_complete = np.append(y_train, y_test)\n",
    "y_pred_complete = np.append(y_pred_train, y_pred_test)\n",
    "\n",
    "accuaracy = metrics.accuracy_score(y_complete, y_pred_complete)\n",
    "print('Accuaracy of model: ', accuaracy)"
   ]
  },
  {
   "cell_type": "markdown",
   "metadata": {},
   "source": [
    "#### 4. Comparación con modelo inicial"
   ]
  },
  {
   "cell_type": "markdown",
   "metadata": {},
   "source": [
    "Nuestro modelo inicial contaba con una precisión del 98.22%, mientras que este nuevo modelo entrenado con datos normalizados, tuvo una precisión menor: 97.33%"
   ]
  },
  {
   "cell_type": "markdown",
   "metadata": {},
   "source": [
    "#### 3. Exactitud general"
   ]
  },
  {
   "cell_type": "code",
   "execution_count": 15,
   "metadata": {},
   "outputs": [
    {
     "name": "stdout",
     "output_type": "stream",
     "text": [
      "Accuaracy of model:  0.9733333333333334\n"
     ]
    }
   ],
   "source": [
    "y_complete = np.append(y_train, y_test)\n",
    "y_pred_complete = np.append(y_pred_train, y_pred_test)\n",
    "\n",
    "accuaracy = metrics.accuracy_score(y_complete, y_pred_complete)\n",
    "print('Accuaracy of model: ', accuaracy)"
   ]
  },
  {
   "cell_type": "markdown",
   "metadata": {},
   "source": [
    "#### 4. Comparación con modelo inicial"
   ]
  },
  {
   "cell_type": "markdown",
   "metadata": {},
   "source": [
    "Nuestro modelo inicial contaba con una precisión del 98.22%, mientras que este nuevo modelo entrenado con datos normalizados, tuvo una precisión menor: 97.33%"
   ]
  },
  {
   "cell_type": "markdown",
   "metadata": {
    "id": "tnCvSh2J4kYL"
   },
   "source": [
    "## **Ejercicio 4:**\n",
    "\n",
    "Entrene y evalúe clasificadores KNN usando los atributos no normalizados para valores de K={1,3,7,9,11,13,15}. De acuerdo con los resultados obtenidos, ¿qué valor de K recomendaría?. Tenga en cuenta evaluar tanto con los datos de entrenamiento como de prueba."
   ]
  },
  {
   "cell_type": "code",
   "execution_count": 16,
   "metadata": {},
   "outputs": [],
   "source": [
    "df_x_train, df_x_test, df_y_train, df_y_test = train_test_split(df_x, \n",
    "                             df_y,\n",
    "                             test_size=particion_para_pruebas, \n",
    "                             random_state=valor_semilla_aleatoria, \n",
    "                             shuffle=mezclar_los_datos)"
   ]
  },
  {
   "cell_type": "markdown",
   "metadata": {
    "id": "kBy5X4kgLi6o"
   },
   "source": [
    "### K=1"
   ]
  },
  {
   "cell_type": "code",
   "execution_count": 17,
   "metadata": {
    "colab": {
     "base_uri": "https://localhost:8080/"
    },
    "id": "bJSokS9eHdpt",
    "outputId": "1aafd879-2215-4877-ad8f-24532a1a5978",
    "scrolled": true
   },
   "outputs": [
    {
     "name": "stdout",
     "output_type": "stream",
     "text": [
      "Datos de entrenamiento \n",
      "Matriz de confusión para K=1 usando los datos del conjunto de entrenamiento:\n",
      " [[42  0  0]\n",
      " [ 0 39  0]\n",
      " [ 0  0 39]]\n",
      "\n",
      "\n",
      "Métricas para K=1 usando los datos del conjunto de entrenamiento:\n",
      "\n",
      "                 precision    recall  f1-score   support\n",
      "\n",
      "    Iris-setosa       1.00      1.00      1.00        42\n",
      "Iris-versicolor       1.00      1.00      1.00        39\n",
      " Iris-virginica       1.00      1.00      1.00        39\n",
      "\n",
      "       accuracy                           1.00       120\n",
      "      macro avg       1.00      1.00      1.00       120\n",
      "   weighted avg       1.00      1.00      1.00       120\n",
      "\n",
      "--------------------------------------------------------------------------------------\n",
      "Datos de prueba \n",
      "Matriz de confusión para K=1 usando los datos del conjunto de prueba:\n",
      " [[ 8  0  0]\n",
      " [ 0  9  2]\n",
      " [ 0  1 10]]\n",
      "\n",
      "\n",
      "Métricas para K=1 usando los datos del conjunto de prueba:\n",
      "\n",
      "                 precision    recall  f1-score   support\n",
      "\n",
      "    Iris-setosa       1.00      1.00      1.00         8\n",
      "Iris-versicolor       0.90      0.82      0.86        11\n",
      " Iris-virginica       0.83      0.91      0.87        11\n",
      "\n",
      "       accuracy                           0.90        30\n",
      "      macro avg       0.91      0.91      0.91        30\n",
      "   weighted avg       0.90      0.90      0.90        30\n",
      "\n"
     ]
    }
   ],
   "source": [
    "k   = 1  \n",
    "knn = neighbors.KNeighborsClassifier(n_neighbors=k) #Instanciamos el clasificador KNN.\n",
    "knn.fit(df_x_train, df_y_train)                #Ajustamos el clasificador. \n",
    "\n",
    "#Train predict\n",
    "y_pred_train = knn.predict(df_x_train)      \n",
    "y_train= df_y_train.values\n",
    "\n",
    "cm = metrics.confusion_matrix(one_hot_to_label_encoding(y_train),one_hot_to_label_encoding(y_pred_train))  \n",
    "\n",
    "#Test predict\n",
    "y_pred_test = knn.predict(df_x_test)                                                      \n",
    "y_test = df_y_test.values\n",
    "\n",
    "cmt = metrics.confusion_matrix(one_hot_to_label_encoding(y_test),one_hot_to_label_encoding(y_pred_test))  \n",
    "\n",
    "print(\"Datos de entrenamiento \")\n",
    "print('Matriz de confusión para K={} usando los datos del conjunto de entrenamiento:\\n'.format(k), cm)\n",
    "print('\\n')\n",
    "\n",
    "print('Métricas para K={} usando los datos del conjunto de entrenamiento:\\n'.format(k))\n",
    "print(metrics.classification_report(one_hot_to_label_encoding(y_train),\n",
    "                                    one_hot_to_label_encoding(y_pred_train),\n",
    "                                    target_names = df_y.columns))\n",
    "\n",
    "print(\"--------------------------------------------------------------------------------------\")\n",
    "\n",
    "print(\"Datos de prueba \")\n",
    "print('Matriz de confusión para K={} usando los datos del conjunto de prueba:\\n'.format(k), cmt)\n",
    "print('\\n')\n",
    "\n",
    "print('Métricas para K={} usando los datos del conjunto de prueba:\\n'.format(k))\n",
    "print(metrics.classification_report(one_hot_to_label_encoding(y_test),\n",
    "                                    one_hot_to_label_encoding(y_pred_test),\n",
    "                                    target_names = df_y.columns))\n"
   ]
  },
  {
   "cell_type": "markdown",
   "metadata": {
    "id": "X81cdWGxLtrH"
   },
   "source": [
    "### K=3"
   ]
  },
  {
   "cell_type": "code",
   "execution_count": 18,
   "metadata": {
    "colab": {
     "base_uri": "https://localhost:8080/"
    },
    "id": "CMD9ad41LtrH",
    "outputId": "1c8c8a95-24e2-46a3-ad38-6203e760cff6",
    "scrolled": true
   },
   "outputs": [
    {
     "name": "stdout",
     "output_type": "stream",
     "text": [
      "Datos de entrenamiento \n",
      "Matriz de confusión para K=3 usando los datos del conjunto de entrenamiento:\n",
      " [[42  0  0]\n",
      " [ 0 38  1]\n",
      " [ 0  2 37]]\n",
      "\n",
      "\n",
      "Métricas para K=3 usando los datos del conjunto de entrenamiento:\n",
      "\n",
      "                 precision    recall  f1-score   support\n",
      "\n",
      "    Iris-setosa       1.00      1.00      1.00        42\n",
      "Iris-versicolor       0.95      0.97      0.96        39\n",
      " Iris-virginica       0.97      0.95      0.96        39\n",
      "\n",
      "       accuracy                           0.97       120\n",
      "      macro avg       0.97      0.97      0.97       120\n",
      "   weighted avg       0.98      0.97      0.97       120\n",
      "\n",
      "--------------------------------------------------------------------------------------\n",
      "Datos de prueba \n",
      "Matriz de confusión para K=3 usando los datos del conjunto de prueba:\n",
      " [[ 8  0  0]\n",
      " [ 0  9  2]\n",
      " [ 0  0 11]]\n",
      "\n",
      "\n",
      "Métricas para K=3 usando los datos del conjunto de prueba:\n",
      "\n",
      "                 precision    recall  f1-score   support\n",
      "\n",
      "    Iris-setosa       1.00      1.00      1.00         8\n",
      "Iris-versicolor       1.00      0.82      0.90        11\n",
      " Iris-virginica       0.85      1.00      0.92        11\n",
      "\n",
      "       accuracy                           0.93        30\n",
      "      macro avg       0.95      0.94      0.94        30\n",
      "   weighted avg       0.94      0.93      0.93        30\n",
      "\n"
     ]
    }
   ],
   "source": [
    "k   = 3  \n",
    "knn = neighbors.KNeighborsClassifier(n_neighbors=k) #Instanciamos el clasificador KNN.\n",
    "knn.fit(df_x_train, df_y_train)                #Ajustamos el clasificador. \n",
    "\n",
    "#Train predict\n",
    "y_pred_train = knn.predict(df_x_train)      \n",
    "y_train= df_y_train.values\n",
    "\n",
    "cm = metrics.confusion_matrix(one_hot_to_label_encoding(y_train),one_hot_to_label_encoding(y_pred_train))  \n",
    "\n",
    "#Test predict\n",
    "y_pred_test = knn.predict(df_x_test)                                                      \n",
    "y_test = df_y_test.values\n",
    "\n",
    "cmt = metrics.confusion_matrix(one_hot_to_label_encoding(y_test),one_hot_to_label_encoding(y_pred_test))  \n",
    "\n",
    "print(\"Datos de entrenamiento \")\n",
    "print('Matriz de confusión para K={} usando los datos del conjunto de entrenamiento:\\n'.format(k), cm)\n",
    "print('\\n')\n",
    "\n",
    "print('Métricas para K={} usando los datos del conjunto de entrenamiento:\\n'.format(k))\n",
    "print(metrics.classification_report(one_hot_to_label_encoding(y_train),\n",
    "                                    one_hot_to_label_encoding(y_pred_train),\n",
    "                                    target_names = df_y.columns))\n",
    "\n",
    "print(\"--------------------------------------------------------------------------------------\")\n",
    "\n",
    "print(\"Datos de prueba \")\n",
    "print('Matriz de confusión para K={} usando los datos del conjunto de prueba:\\n'.format(k), cmt)\n",
    "print('\\n')\n",
    "\n",
    "print('Métricas para K={} usando los datos del conjunto de prueba:\\n'.format(k))\n",
    "print(metrics.classification_report(one_hot_to_label_encoding(y_test),\n",
    "                                    one_hot_to_label_encoding(y_pred_test),\n",
    "                                    target_names = df_y.columns))\n"
   ]
  },
  {
   "cell_type": "markdown",
   "metadata": {
    "id": "zoHKXmOAMOP1"
   },
   "source": [
    "### K=7"
   ]
  },
  {
   "cell_type": "code",
   "execution_count": 19,
   "metadata": {
    "colab": {
     "base_uri": "https://localhost:8080/"
    },
    "id": "2PN7p4miMOP1",
    "outputId": "bc1c4d16-1f78-4bd9-df5f-4b707e0bcc58",
    "scrolled": true
   },
   "outputs": [
    {
     "name": "stdout",
     "output_type": "stream",
     "text": [
      "Datos de entrenamiento \n",
      "Matriz de confusión para K=7 usando los datos del conjunto de entrenamiento:\n",
      " [[42  0  0]\n",
      " [ 0 38  1]\n",
      " [ 0  1 38]]\n",
      "\n",
      "\n",
      "Métricas para K=7 usando los datos del conjunto de entrenamiento:\n",
      "\n",
      "                 precision    recall  f1-score   support\n",
      "\n",
      "    Iris-setosa       1.00      1.00      1.00        42\n",
      "Iris-versicolor       0.97      0.97      0.97        39\n",
      " Iris-virginica       0.97      0.97      0.97        39\n",
      "\n",
      "       accuracy                           0.98       120\n",
      "      macro avg       0.98      0.98      0.98       120\n",
      "   weighted avg       0.98      0.98      0.98       120\n",
      "\n",
      "--------------------------------------------------------------------------------------\n",
      "Datos de prueba \n",
      "Matriz de confusión para K=7 usando los datos del conjunto de prueba:\n",
      " [[ 8  0  0]\n",
      " [ 0 10  1]\n",
      " [ 0  0 11]]\n",
      "\n",
      "\n",
      "Métricas para K=7 usando los datos del conjunto de prueba:\n",
      "\n",
      "                 precision    recall  f1-score   support\n",
      "\n",
      "    Iris-setosa       1.00      1.00      1.00         8\n",
      "Iris-versicolor       1.00      0.91      0.95        11\n",
      " Iris-virginica       0.92      1.00      0.96        11\n",
      "\n",
      "       accuracy                           0.97        30\n",
      "      macro avg       0.97      0.97      0.97        30\n",
      "   weighted avg       0.97      0.97      0.97        30\n",
      "\n"
     ]
    }
   ],
   "source": [
    "k   = 7  \n",
    "knn = neighbors.KNeighborsClassifier(n_neighbors=k) #Instanciamos el clasificador KNN.\n",
    "knn.fit(df_x_train, df_y_train)                #Ajustamos el clasificador. \n",
    "\n",
    "#Train predict\n",
    "y_pred_train = knn.predict(df_x_train)      \n",
    "y_train= df_y_train.values\n",
    "\n",
    "cm = metrics.confusion_matrix(one_hot_to_label_encoding(y_train),one_hot_to_label_encoding(y_pred_train))  \n",
    "\n",
    "#Test predict\n",
    "y_pred_test = knn.predict(df_x_test)                                                      \n",
    "y_test = df_y_test.values\n",
    "\n",
    "cmt = metrics.confusion_matrix(one_hot_to_label_encoding(y_test),one_hot_to_label_encoding(y_pred_test))  \n",
    "\n",
    "print(\"Datos de entrenamiento \")\n",
    "print('Matriz de confusión para K={} usando los datos del conjunto de entrenamiento:\\n'.format(k), cm)\n",
    "print('\\n')\n",
    "\n",
    "print('Métricas para K={} usando los datos del conjunto de entrenamiento:\\n'.format(k))\n",
    "print(metrics.classification_report(one_hot_to_label_encoding(y_train),\n",
    "                                    one_hot_to_label_encoding(y_pred_train),\n",
    "                                    target_names = df_y.columns))\n",
    "\n",
    "print(\"--------------------------------------------------------------------------------------\")\n",
    "\n",
    "print(\"Datos de prueba \")\n",
    "print('Matriz de confusión para K={} usando los datos del conjunto de prueba:\\n'.format(k), cmt)\n",
    "print('\\n')\n",
    "\n",
    "print('Métricas para K={} usando los datos del conjunto de prueba:\\n'.format(k))\n",
    "print(metrics.classification_report(one_hot_to_label_encoding(y_test),\n",
    "                                    one_hot_to_label_encoding(y_pred_test),\n",
    "                                    target_names = df_y.columns))\n"
   ]
  },
  {
   "cell_type": "markdown",
   "metadata": {
    "id": "zLAgdbGzMacr"
   },
   "source": [
    "### K=9"
   ]
  },
  {
   "cell_type": "code",
   "execution_count": 20,
   "metadata": {
    "colab": {
     "base_uri": "https://localhost:8080/"
    },
    "id": "GS0yAeRhMacs",
    "outputId": "061c1498-d59c-479f-d90c-cc5685653846",
    "scrolled": true
   },
   "outputs": [
    {
     "name": "stdout",
     "output_type": "stream",
     "text": [
      "Datos de entrenamiento \n",
      "Matriz de confusión para K=9 usando los datos del conjunto de entrenamiento:\n",
      " [[42  0  0]\n",
      " [ 0 38  1]\n",
      " [ 0  1 38]]\n",
      "\n",
      "\n",
      "Métricas para K=9 usando los datos del conjunto de entrenamiento:\n",
      "\n",
      "                 precision    recall  f1-score   support\n",
      "\n",
      "    Iris-setosa       1.00      1.00      1.00        42\n",
      "Iris-versicolor       0.97      0.97      0.97        39\n",
      " Iris-virginica       0.97      0.97      0.97        39\n",
      "\n",
      "       accuracy                           0.98       120\n",
      "      macro avg       0.98      0.98      0.98       120\n",
      "   weighted avg       0.98      0.98      0.98       120\n",
      "\n",
      "--------------------------------------------------------------------------------------\n",
      "Datos de prueba \n",
      "Matriz de confusión para K=9 usando los datos del conjunto de prueba:\n",
      " [[ 8  0  0]\n",
      " [ 0 10  1]\n",
      " [ 0  0 11]]\n",
      "\n",
      "\n",
      "Métricas para K=9 usando los datos del conjunto de prueba:\n",
      "\n",
      "                 precision    recall  f1-score   support\n",
      "\n",
      "    Iris-setosa       1.00      1.00      1.00         8\n",
      "Iris-versicolor       1.00      0.91      0.95        11\n",
      " Iris-virginica       0.92      1.00      0.96        11\n",
      "\n",
      "       accuracy                           0.97        30\n",
      "      macro avg       0.97      0.97      0.97        30\n",
      "   weighted avg       0.97      0.97      0.97        30\n",
      "\n"
     ]
    }
   ],
   "source": [
    "k   = 9  \n",
    "knn = neighbors.KNeighborsClassifier(n_neighbors=k) #Instanciamos el clasificador KNN.\n",
    "knn.fit(df_x_train, df_y_train)                #Ajustamos el clasificador. \n",
    "\n",
    "#Train predict\n",
    "y_pred_train = knn.predict(df_x_train)      \n",
    "y_train= df_y_train.values\n",
    "\n",
    "cm = metrics.confusion_matrix(one_hot_to_label_encoding(y_train),one_hot_to_label_encoding(y_pred_train))  \n",
    "\n",
    "#Test predict\n",
    "y_pred_test = knn.predict(df_x_test)                                                      \n",
    "y_test = df_y_test.values\n",
    "\n",
    "cmt = metrics.confusion_matrix(one_hot_to_label_encoding(y_test),one_hot_to_label_encoding(y_pred_test))  \n",
    "\n",
    "print(\"Datos de entrenamiento \")\n",
    "print('Matriz de confusión para K={} usando los datos del conjunto de entrenamiento:\\n'.format(k), cm)\n",
    "print('\\n')\n",
    "\n",
    "print('Métricas para K={} usando los datos del conjunto de entrenamiento:\\n'.format(k))\n",
    "print(metrics.classification_report(one_hot_to_label_encoding(y_train),\n",
    "                                    one_hot_to_label_encoding(y_pred_train),\n",
    "                                    target_names = df_y.columns))\n",
    "\n",
    "print(\"--------------------------------------------------------------------------------------\")\n",
    "\n",
    "print(\"Datos de prueba \")\n",
    "print('Matriz de confusión para K={} usando los datos del conjunto de prueba:\\n'.format(k), cmt)\n",
    "print('\\n')\n",
    "\n",
    "print('Métricas para K={} usando los datos del conjunto de prueba:\\n'.format(k))\n",
    "print(metrics.classification_report(one_hot_to_label_encoding(y_test),\n",
    "                                    one_hot_to_label_encoding(y_pred_test),\n",
    "                                    target_names = df_y.columns))\n"
   ]
  },
  {
   "cell_type": "markdown",
   "metadata": {
    "id": "jfh8VfUcMj9k"
   },
   "source": [
    "### K=11"
   ]
  },
  {
   "cell_type": "code",
   "execution_count": 21,
   "metadata": {
    "colab": {
     "base_uri": "https://localhost:8080/"
    },
    "id": "T9Fy1q_JMj9l",
    "outputId": "60cdcbc2-f957-4b35-dd33-223e12d8e2d4",
    "scrolled": true
   },
   "outputs": [
    {
     "name": "stdout",
     "output_type": "stream",
     "text": [
      "Datos de entrenamiento \n",
      "Matriz de confusión para K=11 usando los datos del conjunto de entrenamiento:\n",
      " [[42  0  0]\n",
      " [ 0 38  1]\n",
      " [ 0  1 38]]\n",
      "\n",
      "\n",
      "Métricas para K=11 usando los datos del conjunto de entrenamiento:\n",
      "\n",
      "                 precision    recall  f1-score   support\n",
      "\n",
      "    Iris-setosa       1.00      1.00      1.00        42\n",
      "Iris-versicolor       0.97      0.97      0.97        39\n",
      " Iris-virginica       0.97      0.97      0.97        39\n",
      "\n",
      "       accuracy                           0.98       120\n",
      "      macro avg       0.98      0.98      0.98       120\n",
      "   weighted avg       0.98      0.98      0.98       120\n",
      "\n",
      "--------------------------------------------------------------------------------------\n",
      "Datos de prueba \n",
      "Matriz de confusión para K=11 usando los datos del conjunto de prueba:\n",
      " [[ 8  0  0]\n",
      " [ 0 10  1]\n",
      " [ 0  0 11]]\n",
      "\n",
      "\n",
      "Métricas para K=11 usando los datos del conjunto de prueba:\n",
      "\n",
      "                 precision    recall  f1-score   support\n",
      "\n",
      "    Iris-setosa       1.00      1.00      1.00         8\n",
      "Iris-versicolor       1.00      0.91      0.95        11\n",
      " Iris-virginica       0.92      1.00      0.96        11\n",
      "\n",
      "       accuracy                           0.97        30\n",
      "      macro avg       0.97      0.97      0.97        30\n",
      "   weighted avg       0.97      0.97      0.97        30\n",
      "\n"
     ]
    }
   ],
   "source": [
    "k   = 11  \n",
    "knn = neighbors.KNeighborsClassifier(n_neighbors=k) #Instanciamos el clasificador KNN.\n",
    "knn.fit(df_x_train, df_y_train)                #Ajustamos el clasificador. \n",
    "\n",
    "#Train predict\n",
    "y_pred_train = knn.predict(df_x_train)      \n",
    "y_train= df_y_train.values\n",
    "\n",
    "cm = metrics.confusion_matrix(one_hot_to_label_encoding(y_train),one_hot_to_label_encoding(y_pred_train))  \n",
    "\n",
    "#Test predict\n",
    "y_pred_test = knn.predict(df_x_test)                                                      \n",
    "y_test = df_y_test.values\n",
    "\n",
    "cmt = metrics.confusion_matrix(one_hot_to_label_encoding(y_test),one_hot_to_label_encoding(y_pred_test))  \n",
    "\n",
    "print(\"Datos de entrenamiento \")\n",
    "print('Matriz de confusión para K={} usando los datos del conjunto de entrenamiento:\\n'.format(k), cm)\n",
    "print('\\n')\n",
    "\n",
    "print('Métricas para K={} usando los datos del conjunto de entrenamiento:\\n'.format(k))\n",
    "print(metrics.classification_report(one_hot_to_label_encoding(y_train),\n",
    "                                    one_hot_to_label_encoding(y_pred_train),\n",
    "                                    target_names = df_y.columns))\n",
    "\n",
    "print(\"--------------------------------------------------------------------------------------\")\n",
    "\n",
    "print(\"Datos de prueba \")\n",
    "print('Matriz de confusión para K={} usando los datos del conjunto de prueba:\\n'.format(k), cmt)\n",
    "print('\\n')\n",
    "\n",
    "print('Métricas para K={} usando los datos del conjunto de prueba:\\n'.format(k))\n",
    "print(metrics.classification_report(one_hot_to_label_encoding(y_test),\n",
    "                                    one_hot_to_label_encoding(y_pred_test),\n",
    "                                    target_names = df_y.columns))\n"
   ]
  },
  {
   "cell_type": "markdown",
   "metadata": {
    "id": "jK159_mqMqq_"
   },
   "source": [
    "### K=13"
   ]
  },
  {
   "cell_type": "code",
   "execution_count": 22,
   "metadata": {
    "colab": {
     "base_uri": "https://localhost:8080/"
    },
    "id": "7--YV_DRMqrA",
    "outputId": "b577c539-0c7a-4e17-bea6-89362660f16b",
    "scrolled": true
   },
   "outputs": [
    {
     "name": "stdout",
     "output_type": "stream",
     "text": [
      "Datos de entrenamiento \n",
      "Matriz de confusión para K=13 usando los datos del conjunto de entrenamiento:\n",
      " [[42  0  0]\n",
      " [ 0 38  1]\n",
      " [ 0  1 38]]\n",
      "\n",
      "\n",
      "Métricas para K=13 usando los datos del conjunto de entrenamiento:\n",
      "\n",
      "                 precision    recall  f1-score   support\n",
      "\n",
      "    Iris-setosa       1.00      1.00      1.00        42\n",
      "Iris-versicolor       0.97      0.97      0.97        39\n",
      " Iris-virginica       0.97      0.97      0.97        39\n",
      "\n",
      "       accuracy                           0.98       120\n",
      "      macro avg       0.98      0.98      0.98       120\n",
      "   weighted avg       0.98      0.98      0.98       120\n",
      "\n",
      "--------------------------------------------------------------------------------------\n",
      "Datos de prueba \n",
      "Matriz de confusión para K=13 usando los datos del conjunto de prueba:\n",
      " [[ 8  0  0]\n",
      " [ 0 10  1]\n",
      " [ 0  0 11]]\n",
      "\n",
      "\n",
      "Métricas para K=13 usando los datos del conjunto de prueba:\n",
      "\n",
      "                 precision    recall  f1-score   support\n",
      "\n",
      "    Iris-setosa       1.00      1.00      1.00         8\n",
      "Iris-versicolor       1.00      0.91      0.95        11\n",
      " Iris-virginica       0.92      1.00      0.96        11\n",
      "\n",
      "       accuracy                           0.97        30\n",
      "      macro avg       0.97      0.97      0.97        30\n",
      "   weighted avg       0.97      0.97      0.97        30\n",
      "\n"
     ]
    }
   ],
   "source": [
    "k   = 13  \n",
    "knn = neighbors.KNeighborsClassifier(n_neighbors=k) #Instanciamos el clasificador KNN.\n",
    "knn.fit(df_x_train, df_y_train)                #Ajustamos el clasificador. \n",
    "\n",
    "#Train predict\n",
    "y_pred_train = knn.predict(df_x_train)      \n",
    "y_train= df_y_train.values\n",
    "\n",
    "cm = metrics.confusion_matrix(one_hot_to_label_encoding(y_train),one_hot_to_label_encoding(y_pred_train))  \n",
    "\n",
    "#Test predict\n",
    "y_pred_test = knn.predict(df_x_test)                                                      \n",
    "y_test = df_y_test.values\n",
    "\n",
    "cmt = metrics.confusion_matrix(one_hot_to_label_encoding(y_test),one_hot_to_label_encoding(y_pred_test))  \n",
    "\n",
    "print(\"Datos de entrenamiento \")\n",
    "print('Matriz de confusión para K={} usando los datos del conjunto de entrenamiento:\\n'.format(k), cm)\n",
    "print('\\n')\n",
    "\n",
    "print('Métricas para K={} usando los datos del conjunto de entrenamiento:\\n'.format(k))\n",
    "print(metrics.classification_report(one_hot_to_label_encoding(y_train),\n",
    "                                    one_hot_to_label_encoding(y_pred_train),\n",
    "                                    target_names = df_y.columns))\n",
    "\n",
    "print(\"--------------------------------------------------------------------------------------\")\n",
    "\n",
    "print(\"Datos de prueba \")\n",
    "print('Matriz de confusión para K={} usando los datos del conjunto de prueba:\\n'.format(k), cmt)\n",
    "print('\\n')\n",
    "\n",
    "print('Métricas para K={} usando los datos del conjunto de prueba:\\n'.format(k))\n",
    "print(metrics.classification_report(one_hot_to_label_encoding(y_test),\n",
    "                                    one_hot_to_label_encoding(y_pred_test),\n",
    "                                    target_names = df_y.columns))\n"
   ]
  },
  {
   "cell_type": "markdown",
   "metadata": {
    "id": "M_fk_U3HM0wU"
   },
   "source": [
    "### K=15"
   ]
  },
  {
   "cell_type": "code",
   "execution_count": 23,
   "metadata": {
    "colab": {
     "base_uri": "https://localhost:8080/"
    },
    "id": "-TJ05n2JM0wV",
    "outputId": "c84600a7-0048-46de-877f-223f3f6ac968",
    "scrolled": true
   },
   "outputs": [
    {
     "name": "stdout",
     "output_type": "stream",
     "text": [
      "Datos de entrenamiento \n",
      "Matriz de confusión para K=15 usando los datos del conjunto de entrenamiento:\n",
      " [[42  0  0]\n",
      " [ 0 38  1]\n",
      " [ 0  1 38]]\n",
      "\n",
      "\n",
      "Métricas para K=15 usando los datos del conjunto de entrenamiento:\n",
      "\n",
      "                 precision    recall  f1-score   support\n",
      "\n",
      "    Iris-setosa       1.00      1.00      1.00        42\n",
      "Iris-versicolor       0.97      0.97      0.97        39\n",
      " Iris-virginica       0.97      0.97      0.97        39\n",
      "\n",
      "       accuracy                           0.98       120\n",
      "      macro avg       0.98      0.98      0.98       120\n",
      "   weighted avg       0.98      0.98      0.98       120\n",
      "\n",
      "--------------------------------------------------------------------------------------\n",
      "Datos de prueba \n",
      "Matriz de confusión para K=15 usando los datos del conjunto de prueba:\n",
      " [[ 8  0  0]\n",
      " [ 0 10  1]\n",
      " [ 0  0 11]]\n",
      "\n",
      "\n",
      "Métricas para K=15 usando los datos del conjunto de prueba:\n",
      "\n",
      "                 precision    recall  f1-score   support\n",
      "\n",
      "    Iris-setosa       1.00      1.00      1.00         8\n",
      "Iris-versicolor       1.00      0.91      0.95        11\n",
      " Iris-virginica       0.92      1.00      0.96        11\n",
      "\n",
      "       accuracy                           0.97        30\n",
      "      macro avg       0.97      0.97      0.97        30\n",
      "   weighted avg       0.97      0.97      0.97        30\n",
      "\n"
     ]
    }
   ],
   "source": [
    "k   = 15 \n",
    "knn = neighbors.KNeighborsClassifier(n_neighbors=k) #Instanciamos el clasificador KNN.\n",
    "knn.fit(df_x_train, df_y_train)                #Ajustamos el clasificador. \n",
    "\n",
    "#Train predict\n",
    "y_pred_train = knn.predict(df_x_train)      \n",
    "y_train= df_y_train.values\n",
    "\n",
    "cm = metrics.confusion_matrix(one_hot_to_label_encoding(y_train),one_hot_to_label_encoding(y_pred_train))  \n",
    "\n",
    "#Test predict\n",
    "y_pred_test = knn.predict(df_x_test)                                                      \n",
    "y_test = df_y_test.values\n",
    "\n",
    "cmt = metrics.confusion_matrix(one_hot_to_label_encoding(y_test),one_hot_to_label_encoding(y_pred_test))  \n",
    "\n",
    "print(\"Datos de entrenamiento \")\n",
    "print('Matriz de confusión para K={} usando los datos del conjunto de entrenamiento:\\n'.format(k), cm)\n",
    "print('\\n')\n",
    "\n",
    "print('Métricas para K={} usando los datos del conjunto de entrenamiento:\\n'.format(k))\n",
    "print(metrics.classification_report(one_hot_to_label_encoding(y_train),\n",
    "                                    one_hot_to_label_encoding(y_pred_train),\n",
    "                                    target_names = df_y.columns))\n",
    "\n",
    "print(\"--------------------------------------------------------------------------------------\")\n",
    "\n",
    "print(\"Datos de prueba \")\n",
    "print('Matriz de confusión para K={} usando los datos del conjunto de prueba:\\n'.format(k), cmt)\n",
    "print('\\n')\n",
    "\n",
    "print('Métricas para K={} usando los datos del conjunto de prueba:\\n'.format(k))\n",
    "print(metrics.classification_report(one_hot_to_label_encoding(y_test),\n",
    "                                    one_hot_to_label_encoding(y_pred_test),\n",
    "                                    target_names = df_y.columns))\n"
   ]
  },
  {
   "cell_type": "markdown",
   "metadata": {
    "id": "hGmFnMKaNukw"
   },
   "source": [
    "### Recomendación"
   ]
  },
  {
   "cell_type": "markdown",
   "metadata": {
    "id": "UnPITPjrN1x6"
   },
   "source": [
    "Luego de ver los comportamientos del modelo variando K podemos observar que para 1 y 3 es muy exacto con los datos de entrenamiento, pero al pasar a los de prueba falla. A partir de K=7 hasta K=1  los resultados empiezan a ser iguales y la máxima exactitud se logra, es de 0.97.\n",
    "\n",
    "Entonces, teniendo en cuenta que los resultados se van repitiendo a partir de K=7 y se obtienen las mejores métricas, recomendaríamos usar K=7."
   ]
  },
  {
   "cell_type": "markdown",
   "metadata": {
    "id": "axrWTyMU4kYM"
   },
   "source": [
    "## **Ejercicio 5:**\n",
    "\n",
    "Entrene y evalúe clasificadores KNN usando los atributos normalizados para valores de K={1,3,7,9,11,13,15}. De acuerdo con los resultados obtenidos, ¿qué valor de K recomendaría?. Compare los resultados obtenidos en este punto con los obtenidos en el Ejercicio 4. Tenga en cuenta evaluar tanto con los datos de entrenamiento como de prueba."
   ]
  },
  {
   "cell_type": "markdown",
   "metadata": {
    "id": "kBy5X4kgLi6o"
   },
   "source": [
    "### K=1"
   ]
  },
  {
   "cell_type": "code",
   "execution_count": 24,
   "metadata": {
    "colab": {
     "base_uri": "https://localhost:8080/"
    },
    "id": "bJSokS9eHdpt",
    "outputId": "1aafd879-2215-4877-ad8f-24532a1a5978",
    "scrolled": true
   },
   "outputs": [
    {
     "name": "stdout",
     "output_type": "stream",
     "text": [
      "Datos de entrenamiento \n",
      "Matriz de confusión para K=1 usando los datos del conjunto de entrenamiento:\n",
      " [[42  0  0]\n",
      " [ 0 39  0]\n",
      " [ 0  0 39]]\n",
      "\n",
      "\n",
      "Métricas para K=1 usando los datos del conjunto de entrenamiento:\n",
      "\n",
      "                 precision    recall  f1-score   support\n",
      "\n",
      "    Iris-setosa       1.00      1.00      1.00        42\n",
      "Iris-versicolor       1.00      1.00      1.00        39\n",
      " Iris-virginica       1.00      1.00      1.00        39\n",
      "\n",
      "       accuracy                           1.00       120\n",
      "      macro avg       1.00      1.00      1.00       120\n",
      "   weighted avg       1.00      1.00      1.00       120\n",
      "\n",
      "--------------------------------------------------------------------------------------\n",
      "Datos de prueba \n",
      "Matriz de confusión para K=1 usando los datos del conjunto de prueba:\n",
      " [[ 8  0  0]\n",
      " [ 0 10  1]\n",
      " [ 0  2  9]]\n",
      "\n",
      "\n",
      "Métricas para K=1 usando los datos del conjunto de prueba:\n",
      "\n",
      "                 precision    recall  f1-score   support\n",
      "\n",
      "    Iris-setosa       1.00      1.00      1.00         8\n",
      "Iris-versicolor       0.83      0.91      0.87        11\n",
      " Iris-virginica       0.90      0.82      0.86        11\n",
      "\n",
      "       accuracy                           0.90        30\n",
      "      macro avg       0.91      0.91      0.91        30\n",
      "   weighted avg       0.90      0.90      0.90        30\n",
      "\n"
     ]
    }
   ],
   "source": [
    "k   = 1  \n",
    "knn = neighbors.KNeighborsClassifier(n_neighbors=k)\n",
    "knn.fit(df_x_normalized_train, df_y_train)\n",
    "\n",
    "#Train predict\n",
    "y_pred_train = knn.predict(df_x_normalized_train)      \n",
    "y_train= df_y_train.values\n",
    "\n",
    "cm = metrics.confusion_matrix(one_hot_to_label_encoding(y_train),one_hot_to_label_encoding(y_pred_train))  \n",
    "\n",
    "#Test predict\n",
    "y_pred_test = knn.predict(df_x_normalized_test)                                                      \n",
    "y_test = df_y_test.values\n",
    "\n",
    "cmt = metrics.confusion_matrix(one_hot_to_label_encoding(y_test),one_hot_to_label_encoding(y_pred_test))  \n",
    "\n",
    "print(\"Datos de entrenamiento \")\n",
    "print('Matriz de confusión para K={} usando los datos del conjunto de entrenamiento:\\n'.format(k), cm)\n",
    "print('\\n')\n",
    "\n",
    "print('Métricas para K={} usando los datos del conjunto de entrenamiento:\\n'.format(k))\n",
    "print(metrics.classification_report(one_hot_to_label_encoding(y_train),\n",
    "                                    one_hot_to_label_encoding(y_pred_train),\n",
    "                                    target_names = df_y.columns))\n",
    "\n",
    "print(\"--------------------------------------------------------------------------------------\")\n",
    "\n",
    "print(\"Datos de prueba \")\n",
    "print('Matriz de confusión para K={} usando los datos del conjunto de prueba:\\n'.format(k), cmt)\n",
    "print('\\n')\n",
    "\n",
    "print('Métricas para K={} usando los datos del conjunto de prueba:\\n'.format(k))\n",
    "print(metrics.classification_report(one_hot_to_label_encoding(y_test),\n",
    "                                    one_hot_to_label_encoding(y_pred_test),\n",
    "                                    target_names = df_y.columns))\n"
   ]
  },
  {
   "cell_type": "markdown",
   "metadata": {
    "id": "kBy5X4kgLi6o"
   },
   "source": [
    "### K=3"
   ]
  },
  {
   "cell_type": "code",
   "execution_count": 25,
   "metadata": {
    "colab": {
     "base_uri": "https://localhost:8080/"
    },
    "id": "bJSokS9eHdpt",
    "outputId": "1aafd879-2215-4877-ad8f-24532a1a5978",
    "scrolled": true
   },
   "outputs": [
    {
     "name": "stdout",
     "output_type": "stream",
     "text": [
      "Datos de entrenamiento \n",
      "Matriz de confusión para K=3 usando los datos del conjunto de entrenamiento:\n",
      " [[42  0  0]\n",
      " [ 0 38  1]\n",
      " [ 0  2 37]]\n",
      "\n",
      "\n",
      "Métricas para K=3 usando los datos del conjunto de entrenamiento:\n",
      "\n",
      "                 precision    recall  f1-score   support\n",
      "\n",
      "    Iris-setosa       1.00      1.00      1.00        42\n",
      "Iris-versicolor       0.95      0.97      0.96        39\n",
      " Iris-virginica       0.97      0.95      0.96        39\n",
      "\n",
      "       accuracy                           0.97       120\n",
      "      macro avg       0.97      0.97      0.97       120\n",
      "   weighted avg       0.98      0.97      0.97       120\n",
      "\n",
      "--------------------------------------------------------------------------------------\n",
      "Datos de prueba \n",
      "Matriz de confusión para K=3 usando los datos del conjunto de prueba:\n",
      " [[ 8  0  0]\n",
      " [ 0 10  1]\n",
      " [ 0  2  9]]\n",
      "\n",
      "\n",
      "Métricas para K=3 usando los datos del conjunto de prueba:\n",
      "\n",
      "                 precision    recall  f1-score   support\n",
      "\n",
      "    Iris-setosa       1.00      1.00      1.00         8\n",
      "Iris-versicolor       0.83      0.91      0.87        11\n",
      " Iris-virginica       0.90      0.82      0.86        11\n",
      "\n",
      "       accuracy                           0.90        30\n",
      "      macro avg       0.91      0.91      0.91        30\n",
      "   weighted avg       0.90      0.90      0.90        30\n",
      "\n"
     ]
    }
   ],
   "source": [
    "k   = 3  \n",
    "knn = neighbors.KNeighborsClassifier(n_neighbors=k)\n",
    "knn.fit(df_x_normalized_train, df_y_train)\n",
    "\n",
    "#Train predict\n",
    "y_pred_train = knn.predict(df_x_normalized_train)      \n",
    "y_train= df_y_train.values\n",
    "\n",
    "cm = metrics.confusion_matrix(one_hot_to_label_encoding(y_train),one_hot_to_label_encoding(y_pred_train))  \n",
    "\n",
    "#Test predict\n",
    "y_pred_test = knn.predict(df_x_normalized_test)                                                      \n",
    "y_test = df_y_test.values\n",
    "\n",
    "cmt = metrics.confusion_matrix(one_hot_to_label_encoding(y_test),one_hot_to_label_encoding(y_pred_test))  \n",
    "\n",
    "print(\"Datos de entrenamiento \")\n",
    "print('Matriz de confusión para K={} usando los datos del conjunto de entrenamiento:\\n'.format(k), cm)\n",
    "print('\\n')\n",
    "\n",
    "print('Métricas para K={} usando los datos del conjunto de entrenamiento:\\n'.format(k))\n",
    "print(metrics.classification_report(one_hot_to_label_encoding(y_train),\n",
    "                                    one_hot_to_label_encoding(y_pred_train),\n",
    "                                    target_names = df_y.columns))\n",
    "\n",
    "print(\"--------------------------------------------------------------------------------------\")\n",
    "\n",
    "print(\"Datos de prueba \")\n",
    "print('Matriz de confusión para K={} usando los datos del conjunto de prueba:\\n'.format(k), cmt)\n",
    "print('\\n')\n",
    "\n",
    "print('Métricas para K={} usando los datos del conjunto de prueba:\\n'.format(k))\n",
    "print(metrics.classification_report(one_hot_to_label_encoding(y_test),\n",
    "                                    one_hot_to_label_encoding(y_pred_test),\n",
    "                                    target_names = df_y.columns))\n"
   ]
  },
  {
   "cell_type": "markdown",
   "metadata": {
    "id": "kBy5X4kgLi6o"
   },
   "source": [
    "### K=7"
   ]
  },
  {
   "cell_type": "code",
   "execution_count": 26,
   "metadata": {
    "colab": {
     "base_uri": "https://localhost:8080/"
    },
    "id": "bJSokS9eHdpt",
    "outputId": "1aafd879-2215-4877-ad8f-24532a1a5978",
    "scrolled": true
   },
   "outputs": [
    {
     "name": "stdout",
     "output_type": "stream",
     "text": [
      "Datos de entrenamiento \n",
      "Matriz de confusión para K=7 usando los datos del conjunto de entrenamiento:\n",
      " [[42  0  0]\n",
      " [ 0 38  1]\n",
      " [ 0  3 36]]\n",
      "\n",
      "\n",
      "Métricas para K=7 usando los datos del conjunto de entrenamiento:\n",
      "\n",
      "                 precision    recall  f1-score   support\n",
      "\n",
      "    Iris-setosa       1.00      1.00      1.00        42\n",
      "Iris-versicolor       0.93      0.97      0.95        39\n",
      " Iris-virginica       0.97      0.92      0.95        39\n",
      "\n",
      "       accuracy                           0.97       120\n",
      "      macro avg       0.97      0.97      0.97       120\n",
      "   weighted avg       0.97      0.97      0.97       120\n",
      "\n",
      "--------------------------------------------------------------------------------------\n",
      "Datos de prueba \n",
      "Matriz de confusión para K=7 usando los datos del conjunto de prueba:\n",
      " [[ 8  0  0]\n",
      " [ 0 11  0]\n",
      " [ 0  2  9]]\n",
      "\n",
      "\n",
      "Métricas para K=7 usando los datos del conjunto de prueba:\n",
      "\n",
      "                 precision    recall  f1-score   support\n",
      "\n",
      "    Iris-setosa       1.00      1.00      1.00         8\n",
      "Iris-versicolor       0.85      1.00      0.92        11\n",
      " Iris-virginica       1.00      0.82      0.90        11\n",
      "\n",
      "       accuracy                           0.93        30\n",
      "      macro avg       0.95      0.94      0.94        30\n",
      "   weighted avg       0.94      0.93      0.93        30\n",
      "\n"
     ]
    }
   ],
   "source": [
    "k   = 7  \n",
    "knn = neighbors.KNeighborsClassifier(n_neighbors=k)\n",
    "knn.fit(df_x_normalized_train, df_y_train)\n",
    "\n",
    "#Train predict\n",
    "y_pred_train = knn.predict(df_x_normalized_train)      \n",
    "y_train= df_y_train.values\n",
    "\n",
    "cm = metrics.confusion_matrix(one_hot_to_label_encoding(y_train),one_hot_to_label_encoding(y_pred_train))  \n",
    "\n",
    "#Test predict\n",
    "y_pred_test = knn.predict(df_x_normalized_test)                                                      \n",
    "y_test = df_y_test.values\n",
    "\n",
    "cmt = metrics.confusion_matrix(one_hot_to_label_encoding(y_test),one_hot_to_label_encoding(y_pred_test))  \n",
    "\n",
    "print(\"Datos de entrenamiento \")\n",
    "print('Matriz de confusión para K={} usando los datos del conjunto de entrenamiento:\\n'.format(k), cm)\n",
    "print('\\n')\n",
    "\n",
    "print('Métricas para K={} usando los datos del conjunto de entrenamiento:\\n'.format(k))\n",
    "print(metrics.classification_report(one_hot_to_label_encoding(y_train),\n",
    "                                    one_hot_to_label_encoding(y_pred_train),\n",
    "                                    target_names = df_y.columns))\n",
    "\n",
    "print(\"--------------------------------------------------------------------------------------\")\n",
    "\n",
    "print(\"Datos de prueba \")\n",
    "print('Matriz de confusión para K={} usando los datos del conjunto de prueba:\\n'.format(k), cmt)\n",
    "print('\\n')\n",
    "\n",
    "print('Métricas para K={} usando los datos del conjunto de prueba:\\n'.format(k))\n",
    "print(metrics.classification_report(one_hot_to_label_encoding(y_test),\n",
    "                                    one_hot_to_label_encoding(y_pred_test),\n",
    "                                    target_names = df_y.columns))\n"
   ]
  },
  {
   "cell_type": "markdown",
   "metadata": {
    "id": "kBy5X4kgLi6o"
   },
   "source": [
    "### K=9"
   ]
  },
  {
   "cell_type": "code",
   "execution_count": 27,
   "metadata": {
    "colab": {
     "base_uri": "https://localhost:8080/"
    },
    "id": "bJSokS9eHdpt",
    "outputId": "1aafd879-2215-4877-ad8f-24532a1a5978",
    "scrolled": true
   },
   "outputs": [
    {
     "name": "stdout",
     "output_type": "stream",
     "text": [
      "Datos de entrenamiento \n",
      "Matriz de confusión para K=9 usando los datos del conjunto de entrenamiento:\n",
      " [[42  0  0]\n",
      " [ 0 38  1]\n",
      " [ 0  3 36]]\n",
      "\n",
      "\n",
      "Métricas para K=9 usando los datos del conjunto de entrenamiento:\n",
      "\n",
      "                 precision    recall  f1-score   support\n",
      "\n",
      "    Iris-setosa       1.00      1.00      1.00        42\n",
      "Iris-versicolor       0.93      0.97      0.95        39\n",
      " Iris-virginica       0.97      0.92      0.95        39\n",
      "\n",
      "       accuracy                           0.97       120\n",
      "      macro avg       0.97      0.97      0.97       120\n",
      "   weighted avg       0.97      0.97      0.97       120\n",
      "\n",
      "--------------------------------------------------------------------------------------\n",
      "Datos de prueba \n",
      "Matriz de confusión para K=9 usando los datos del conjunto de prueba:\n",
      " [[ 8  0  0]\n",
      " [ 0 10  1]\n",
      " [ 0  2  9]]\n",
      "\n",
      "\n",
      "Métricas para K=9 usando los datos del conjunto de prueba:\n",
      "\n",
      "                 precision    recall  f1-score   support\n",
      "\n",
      "    Iris-setosa       1.00      1.00      1.00         8\n",
      "Iris-versicolor       0.83      0.91      0.87        11\n",
      " Iris-virginica       0.90      0.82      0.86        11\n",
      "\n",
      "       accuracy                           0.90        30\n",
      "      macro avg       0.91      0.91      0.91        30\n",
      "   weighted avg       0.90      0.90      0.90        30\n",
      "\n"
     ]
    }
   ],
   "source": [
    "k   = 9 \n",
    "knn = neighbors.KNeighborsClassifier(n_neighbors=k)\n",
    "knn.fit(df_x_normalized_train, df_y_train)\n",
    "\n",
    "#Train predict\n",
    "y_pred_train = knn.predict(df_x_normalized_train)      \n",
    "y_train= df_y_train.values\n",
    "\n",
    "cm = metrics.confusion_matrix(one_hot_to_label_encoding(y_train),one_hot_to_label_encoding(y_pred_train))  \n",
    "\n",
    "#Test predict\n",
    "y_pred_test = knn.predict(df_x_normalized_test)                                                      \n",
    "y_test = df_y_test.values\n",
    "\n",
    "cmt = metrics.confusion_matrix(one_hot_to_label_encoding(y_test),one_hot_to_label_encoding(y_pred_test))  \n",
    "\n",
    "print(\"Datos de entrenamiento \")\n",
    "print('Matriz de confusión para K={} usando los datos del conjunto de entrenamiento:\\n'.format(k), cm)\n",
    "print('\\n')\n",
    "\n",
    "print('Métricas para K={} usando los datos del conjunto de entrenamiento:\\n'.format(k))\n",
    "print(metrics.classification_report(one_hot_to_label_encoding(y_train),\n",
    "                                    one_hot_to_label_encoding(y_pred_train),\n",
    "                                    target_names = df_y.columns))\n",
    "\n",
    "print(\"--------------------------------------------------------------------------------------\")\n",
    "\n",
    "print(\"Datos de prueba \")\n",
    "print('Matriz de confusión para K={} usando los datos del conjunto de prueba:\\n'.format(k), cmt)\n",
    "print('\\n')\n",
    "\n",
    "print('Métricas para K={} usando los datos del conjunto de prueba:\\n'.format(k))\n",
    "print(metrics.classification_report(one_hot_to_label_encoding(y_test),\n",
    "                                    one_hot_to_label_encoding(y_pred_test),\n",
    "                                    target_names = df_y.columns))\n"
   ]
  },
  {
   "cell_type": "markdown",
   "metadata": {
    "id": "kBy5X4kgLi6o"
   },
   "source": [
    "### K=11"
   ]
  },
  {
   "cell_type": "code",
   "execution_count": 28,
   "metadata": {
    "colab": {
     "base_uri": "https://localhost:8080/"
    },
    "id": "bJSokS9eHdpt",
    "outputId": "1aafd879-2215-4877-ad8f-24532a1a5978",
    "scrolled": true
   },
   "outputs": [
    {
     "name": "stdout",
     "output_type": "stream",
     "text": [
      "Datos de entrenamiento \n",
      "Matriz de confusión para K=11 usando los datos del conjunto de entrenamiento:\n",
      " [[42  0  0]\n",
      " [ 0 38  1]\n",
      " [ 0  2 37]]\n",
      "\n",
      "\n",
      "Métricas para K=11 usando los datos del conjunto de entrenamiento:\n",
      "\n",
      "                 precision    recall  f1-score   support\n",
      "\n",
      "    Iris-setosa       1.00      1.00      1.00        42\n",
      "Iris-versicolor       0.95      0.97      0.96        39\n",
      " Iris-virginica       0.97      0.95      0.96        39\n",
      "\n",
      "       accuracy                           0.97       120\n",
      "      macro avg       0.97      0.97      0.97       120\n",
      "   weighted avg       0.98      0.97      0.97       120\n",
      "\n",
      "--------------------------------------------------------------------------------------\n",
      "Datos de prueba \n",
      "Matriz de confusión para K=11 usando los datos del conjunto de prueba:\n",
      " [[ 8  0  0]\n",
      " [ 0 10  1]\n",
      " [ 0  2  9]]\n",
      "\n",
      "\n",
      "Métricas para K=11 usando los datos del conjunto de prueba:\n",
      "\n",
      "                 precision    recall  f1-score   support\n",
      "\n",
      "    Iris-setosa       1.00      1.00      1.00         8\n",
      "Iris-versicolor       0.83      0.91      0.87        11\n",
      " Iris-virginica       0.90      0.82      0.86        11\n",
      "\n",
      "       accuracy                           0.90        30\n",
      "      macro avg       0.91      0.91      0.91        30\n",
      "   weighted avg       0.90      0.90      0.90        30\n",
      "\n"
     ]
    }
   ],
   "source": [
    "k   = 11 \n",
    "knn = neighbors.KNeighborsClassifier(n_neighbors=k)\n",
    "knn.fit(df_x_normalized_train, df_y_train)\n",
    "\n",
    "#Train predict\n",
    "y_pred_train = knn.predict(df_x_normalized_train)      \n",
    "y_train= df_y_train.values\n",
    "\n",
    "cm = metrics.confusion_matrix(one_hot_to_label_encoding(y_train),one_hot_to_label_encoding(y_pred_train))  \n",
    "\n",
    "#Test predict\n",
    "y_pred_test = knn.predict(df_x_normalized_test)                                                      \n",
    "y_test = df_y_test.values\n",
    "\n",
    "cmt = metrics.confusion_matrix(one_hot_to_label_encoding(y_test),one_hot_to_label_encoding(y_pred_test))  \n",
    "\n",
    "print(\"Datos de entrenamiento \")\n",
    "print('Matriz de confusión para K={} usando los datos del conjunto de entrenamiento:\\n'.format(k), cm)\n",
    "print('\\n')\n",
    "\n",
    "print('Métricas para K={} usando los datos del conjunto de entrenamiento:\\n'.format(k))\n",
    "print(metrics.classification_report(one_hot_to_label_encoding(y_train),\n",
    "                                    one_hot_to_label_encoding(y_pred_train),\n",
    "                                    target_names = df_y.columns))\n",
    "\n",
    "print(\"--------------------------------------------------------------------------------------\")\n",
    "\n",
    "print(\"Datos de prueba \")\n",
    "print('Matriz de confusión para K={} usando los datos del conjunto de prueba:\\n'.format(k), cmt)\n",
    "print('\\n')\n",
    "\n",
    "print('Métricas para K={} usando los datos del conjunto de prueba:\\n'.format(k))\n",
    "print(metrics.classification_report(one_hot_to_label_encoding(y_test),\n",
    "                                    one_hot_to_label_encoding(y_pred_test),\n",
    "                                    target_names = df_y.columns))\n"
   ]
  },
  {
   "cell_type": "markdown",
   "metadata": {
    "id": "kBy5X4kgLi6o"
   },
   "source": [
    "### K=13"
   ]
  },
  {
   "cell_type": "code",
   "execution_count": 29,
   "metadata": {
    "colab": {
     "base_uri": "https://localhost:8080/"
    },
    "id": "bJSokS9eHdpt",
    "outputId": "1aafd879-2215-4877-ad8f-24532a1a5978",
    "scrolled": true
   },
   "outputs": [
    {
     "name": "stdout",
     "output_type": "stream",
     "text": [
      "Datos de entrenamiento \n",
      "Matriz de confusión para K=13 usando los datos del conjunto de entrenamiento:\n",
      " [[42  0  0]\n",
      " [ 0 38  1]\n",
      " [ 0  2 37]]\n",
      "\n",
      "\n",
      "Métricas para K=13 usando los datos del conjunto de entrenamiento:\n",
      "\n",
      "                 precision    recall  f1-score   support\n",
      "\n",
      "    Iris-setosa       1.00      1.00      1.00        42\n",
      "Iris-versicolor       0.95      0.97      0.96        39\n",
      " Iris-virginica       0.97      0.95      0.96        39\n",
      "\n",
      "       accuracy                           0.97       120\n",
      "      macro avg       0.97      0.97      0.97       120\n",
      "   weighted avg       0.98      0.97      0.97       120\n",
      "\n",
      "--------------------------------------------------------------------------------------\n",
      "Datos de prueba \n",
      "Matriz de confusión para K=13 usando los datos del conjunto de prueba:\n",
      " [[ 8  0  0]\n",
      " [ 0 10  1]\n",
      " [ 0  1 10]]\n",
      "\n",
      "\n",
      "Métricas para K=13 usando los datos del conjunto de prueba:\n",
      "\n",
      "                 precision    recall  f1-score   support\n",
      "\n",
      "    Iris-setosa       1.00      1.00      1.00         8\n",
      "Iris-versicolor       0.91      0.91      0.91        11\n",
      " Iris-virginica       0.91      0.91      0.91        11\n",
      "\n",
      "       accuracy                           0.93        30\n",
      "      macro avg       0.94      0.94      0.94        30\n",
      "   weighted avg       0.93      0.93      0.93        30\n",
      "\n"
     ]
    }
   ],
   "source": [
    "k   = 13 \n",
    "knn = neighbors.KNeighborsClassifier(n_neighbors=k)\n",
    "knn.fit(df_x_normalized_train, df_y_train)\n",
    "\n",
    "#Train predict\n",
    "y_pred_train = knn.predict(df_x_normalized_train)      \n",
    "y_train= df_y_train.values\n",
    "\n",
    "cm = metrics.confusion_matrix(one_hot_to_label_encoding(y_train),one_hot_to_label_encoding(y_pred_train))  \n",
    "\n",
    "#Test predict\n",
    "y_pred_test = knn.predict(df_x_normalized_test)                                                      \n",
    "y_test = df_y_test.values\n",
    "\n",
    "cmt = metrics.confusion_matrix(one_hot_to_label_encoding(y_test),one_hot_to_label_encoding(y_pred_test))  \n",
    "\n",
    "print(\"Datos de entrenamiento \")\n",
    "print('Matriz de confusión para K={} usando los datos del conjunto de entrenamiento:\\n'.format(k), cm)\n",
    "print('\\n')\n",
    "\n",
    "print('Métricas para K={} usando los datos del conjunto de entrenamiento:\\n'.format(k))\n",
    "print(metrics.classification_report(one_hot_to_label_encoding(y_train),\n",
    "                                    one_hot_to_label_encoding(y_pred_train),\n",
    "                                    target_names = df_y.columns))\n",
    "\n",
    "print(\"--------------------------------------------------------------------------------------\")\n",
    "\n",
    "print(\"Datos de prueba \")\n",
    "print('Matriz de confusión para K={} usando los datos del conjunto de prueba:\\n'.format(k), cmt)\n",
    "print('\\n')\n",
    "\n",
    "print('Métricas para K={} usando los datos del conjunto de prueba:\\n'.format(k))\n",
    "print(metrics.classification_report(one_hot_to_label_encoding(y_test),\n",
    "                                    one_hot_to_label_encoding(y_pred_test),\n",
    "                                    target_names = df_y.columns))\n"
   ]
  },
  {
   "cell_type": "markdown",
   "metadata": {
    "id": "kBy5X4kgLi6o"
   },
   "source": [
    "### K=15"
   ]
  },
  {
   "cell_type": "code",
   "execution_count": 30,
   "metadata": {
    "colab": {
     "base_uri": "https://localhost:8080/"
    },
    "id": "bJSokS9eHdpt",
    "outputId": "1aafd879-2215-4877-ad8f-24532a1a5978",
    "scrolled": true
   },
   "outputs": [
    {
     "name": "stdout",
     "output_type": "stream",
     "text": [
      "Datos de entrenamiento \n",
      "Matriz de confusión para K=15 usando los datos del conjunto de entrenamiento:\n",
      " [[42  0  0]\n",
      " [ 0 38  1]\n",
      " [ 0  2 37]]\n",
      "\n",
      "\n",
      "Métricas para K=15 usando los datos del conjunto de entrenamiento:\n",
      "\n",
      "                 precision    recall  f1-score   support\n",
      "\n",
      "    Iris-setosa       1.00      1.00      1.00        42\n",
      "Iris-versicolor       0.95      0.97      0.96        39\n",
      " Iris-virginica       0.97      0.95      0.96        39\n",
      "\n",
      "       accuracy                           0.97       120\n",
      "      macro avg       0.97      0.97      0.97       120\n",
      "   weighted avg       0.98      0.97      0.97       120\n",
      "\n",
      "--------------------------------------------------------------------------------------\n",
      "Datos de prueba \n",
      "Matriz de confusión para K=15 usando los datos del conjunto de prueba:\n",
      " [[ 8  0  0]\n",
      " [ 0 10  1]\n",
      " [ 0  1 10]]\n",
      "\n",
      "\n",
      "Métricas para K=15 usando los datos del conjunto de prueba:\n",
      "\n",
      "                 precision    recall  f1-score   support\n",
      "\n",
      "    Iris-setosa       1.00      1.00      1.00         8\n",
      "Iris-versicolor       0.91      0.91      0.91        11\n",
      " Iris-virginica       0.91      0.91      0.91        11\n",
      "\n",
      "       accuracy                           0.93        30\n",
      "      macro avg       0.94      0.94      0.94        30\n",
      "   weighted avg       0.93      0.93      0.93        30\n",
      "\n"
     ]
    }
   ],
   "source": [
    "k   = 15 \n",
    "knn = neighbors.KNeighborsClassifier(n_neighbors=k)\n",
    "knn.fit(df_x_normalized_train, df_y_train)\n",
    "\n",
    "#Train predict\n",
    "y_pred_train = knn.predict(df_x_normalized_train)      \n",
    "y_train= df_y_train.values\n",
    "\n",
    "cm = metrics.confusion_matrix(one_hot_to_label_encoding(y_train),one_hot_to_label_encoding(y_pred_train))  \n",
    "\n",
    "#Test predict\n",
    "y_pred_test = knn.predict(df_x_normalized_test)                                                      \n",
    "y_test = df_y_test.values\n",
    "\n",
    "cmt = metrics.confusion_matrix(one_hot_to_label_encoding(y_test),one_hot_to_label_encoding(y_pred_test))  \n",
    "\n",
    "print(\"Datos de entrenamiento \")\n",
    "print('Matriz de confusión para K={} usando los datos del conjunto de entrenamiento:\\n'.format(k), cm)\n",
    "print('\\n')\n",
    "\n",
    "print('Métricas para K={} usando los datos del conjunto de entrenamiento:\\n'.format(k))\n",
    "print(metrics.classification_report(one_hot_to_label_encoding(y_train),\n",
    "                                    one_hot_to_label_encoding(y_pred_train),\n",
    "                                    target_names = df_y.columns))\n",
    "\n",
    "print(\"--------------------------------------------------------------------------------------\")\n",
    "\n",
    "print(\"Datos de prueba \")\n",
    "print('Matriz de confusión para K={} usando los datos del conjunto de prueba:\\n'.format(k), cmt)\n",
    "print('\\n')\n",
    "\n",
    "print('Métricas para K={} usando los datos del conjunto de prueba:\\n'.format(k))\n",
    "print(metrics.classification_report(one_hot_to_label_encoding(y_test),\n",
    "                                    one_hot_to_label_encoding(y_pred_test),\n",
    "                                    target_names = df_y.columns))\n"
   ]
  },
  {
   "cell_type": "markdown",
   "metadata": {},
   "source": [
    "### Recomendación"
   ]
  },
  {
   "cell_type": "markdown",
   "metadata": {},
   "source": [
    "Luego de ver los comportamientos del modelo variando K podemos observar que para 1 es muy exacto con los datos de entrenamiento, sin embargo, es el k que más falla para los valores de prueba prueba. A partir de K=3 hasta K=15  los resultados empiezan a ser iguales y la máxima exactitud se logra, es de 0.97 para los datos de entrenamiento.\n",
    "\n",
    "Aún así, K = 7, K = 13 y K = 15, tienen el mejor rendimiento con los valores de prueba 0.94. Por ende se recomienda el uso cualquiera de estos 3 k's para elaborar una predicción en este dataset empleando KNN."
   ]
  },
  {
   "cell_type": "markdown",
   "metadata": {},
   "source": [
    "### Comparación Normalizados vs No Normalizados"
   ]
  },
  {
   "cell_type": "markdown",
   "metadata": {},
   "source": [
    "Al comparar la métrica *accuracy* de los diferentes modelos, se puede ver que para todos los modelos con K > 1 entrenados con los datos no normalizados, se presentan un mejor desempeño que los entrenados con los datos normalizados.\n",
    "\n",
    "**Datos de entrenamiento**\n",
    "*accuaracy no normalizados:* 0.98\n",
    "*accuaracy normalizados:* 0.97\n",
    "\n",
    "**Datos de prueba**\n",
    "*accuaracy no normalizados:* 0.97 - 0.93\n",
    "*accuaracy normalizados:* 0.93 - 0.90\n",
    "\n",
    "*Nota:* Se excluye al k = 1 de esta comparación porque presenta resultados iguales en ambos modelos y resulta más interesante ver la comparativa entre los diferentes k de los diferentes modelos."
   ]
  },
  {
   "cell_type": "markdown",
   "metadata": {
    "id": "4_zP49ES4kYM"
   },
   "source": [
    "## **Ejercicio 6.**\n",
    "\n",
    "Encuentre un modelo de clasificación KNN que utilice solo tres atributos y cuyo desempeño sea igual o mejor que el modelo que usa cuatro atributos. Decida si es conveniente normalizar o no los atributos. Utilice diferentes valores de K. Para comparar varios modelos genere diferentes métricas de desempeño.\n",
    "Al final indique, ¿por qué escogió esos atributos?, de los modelos entrenados ¿cuál escogería y por qué? ¿qué métricas de desempeño reportaría a un cliente y por qué?"
   ]
  },
  {
   "cell_type": "markdown",
   "metadata": {},
   "source": [
    "## Análisis de los atributos"
   ]
  },
  {
   "cell_type": "code",
   "execution_count": 31,
   "metadata": {},
   "outputs": [
    {
     "data": {
      "text/plain": [
       "<AxesSubplot:xlabel='SepalLengthCm', ylabel='Count'>"
      ]
     },
     "execution_count": 31,
     "metadata": {},
     "output_type": "execute_result"
    },
    {
     "data": {
      "image/png": "[encoded data removed]",
      "text/plain": [
       "<Figure size 432x288 with 1 Axes>"
      ]
     },
     "metadata": {
      "needs_background": "light"
     },
     "output_type": "display_data"
    }
   ],
   "source": [
    "sns.histplot(data=df,\n",
    "             x='SepalLengthCm',\n",
    "             kde=True)"
   ]
  },
  {
   "cell_type": "code",
   "execution_count": 32,
   "metadata": {},
   "outputs": [
    {
     "data": {
      "text/plain": [
       "<AxesSubplot:xlabel='SepalWidthCm', ylabel='Count'>"
      ]
     },
     "execution_count": 32,
     "metadata": {},
     "output_type": "execute_result"
    },
    {
     "data": {
      "image/png": "[encoded data removed]",
      "text/plain": [
       "<Figure size 432x288 with 1 Axes>"
      ]
     },
     "metadata": {
      "needs_background": "light"
     },
     "output_type": "display_data"
    }
   ],
   "source": [
    "sns.histplot(data=df,\n",
    "             x='SepalWidthCm',\n",
    "             kde=True)"
   ]
  },
  {
   "cell_type": "code",
   "execution_count": 33,
   "metadata": {},
   "outputs": [
    {
     "data": {
      "text/plain": [
       "<AxesSubplot:xlabel='PetalLengthCm', ylabel='Count'>"
      ]
     },
     "execution_count": 33,
     "metadata": {},
     "output_type": "execute_result"
    },
    {
     "data": {
      "image/png": "[encoded data removed]",
      "text/plain": [
       "<Figure size 432x288 with 1 Axes>"
      ]
     },
     "metadata": {
      "needs_background": "light"
     },
     "output_type": "display_data"
    }
   ],
   "source": [
    "sns.histplot(data=df,\n",
    "             x='PetalLengthCm',\n",
    "             kde=True)"
   ]
  },
  {
   "cell_type": "code",
   "execution_count": 34,
   "metadata": {},
   "outputs": [
    {
     "data": {
      "text/plain": [
       "<AxesSubplot:xlabel='PetalWidthCm', ylabel='Count'>"
      ]
     },
     "execution_count": 34,
     "metadata": {},
     "output_type": "execute_result"
    },
    {
     "data": {
      "image/png": "[encoded data removed]",
      "text/plain": [
       "<Figure size 432x288 with 1 Axes>"
      ]
     },
     "metadata": {
      "needs_background": "light"
     },
     "output_type": "display_data"
    }
   ],
   "source": [
    "sns.histplot(data=df,\n",
    "             x='PetalWidthCm',\n",
    "             kde=True)"
   ]
  },
  {
   "cell_type": "code",
   "execution_count": 35,
   "metadata": {},
   "outputs": [
    {
     "data": {
      "image/png": "[encoded data removed]",
      "text/plain": [
       "<Figure size 432x288 with 2 Axes>"
      ]
     },
     "metadata": {
      "needs_background": "light"
     },
     "output_type": "display_data"
    }
   ],
   "source": [
    "heatmap = sns.heatmap(df.corr(), vmin=-1, vmax=1, annot=True)\n",
    "heatmap.set_title('Correlation Heatmap', fontdict={'fontsize':12}, pad=12);"
   ]
  },
  {
   "cell_type": "code",
   "execution_count": 40,
   "metadata": {},
   "outputs": [
    {
     "data": {
      "image/png": "[encoded data removed]",
      "text/plain": [
       "<Figure size 825.225x720 with 20 Axes>"
      ]
     },
     "metadata": {},
     "output_type": "display_data"
    }
   ],
   "source": [
    "sns.set(style='white')\n",
    "sns.set_palette('Set2')\n",
    "\n",
    "g = sns.PairGrid(data=df.iloc[:,1:],hue='Species',diag_sharey=False, corner=False)  #Note que no graficamos la columna 0 correspondiente a Id, \n",
    "                                                                     #pues no aporta información. Usamos las categorías de la columna de\n",
    "                                                                     #'Species' para colorear las gráficas.\n",
    "\n",
    "g.map_diag(sns.histplot) #Muestra el histograma en la diagonal principal.\n",
    "g.map_lower(sns.scatterplot) #Muestra gráficos de dispersión en la sección inferior izquierda de la matriz.\n",
    "\n",
    "g.add_legend()\n",
    "\n",
    "plt.show()"
   ]
  },
  {
   "cell_type": "markdown",
   "metadata": {},
   "source": [
    "## Definción de Atributos a usar:"
   ]
  },
  {
   "cell_type": "markdown",
   "metadata": {},
   "source": [
    "Con base a estos resultados podemos ver que SepalWidth tiene una distribución normal y correlaciones débiles con los demás atributos, además en los clusters de SepalWidth vs SepalLength es dificil diferenciar iris-versicolor de iris-virginica, por ende decidimos quitar el atributo de SepalWidth."
   ]
  },
  {
   "cell_type": "code",
   "execution_count": 38,
   "metadata": {},
   "outputs": [
    {
     "data": {
      "text/html": [
       "<div>\n",
       "<style scoped>\n",
       "    .dataframe tbody tr th:only-of-type {\n",
       "        vertical-align: middle;\n",
       "    }\n",
       "\n",
       "    .dataframe tbody tr th {\n",
       "        vertical-align: top;\n",
       "    }\n",
       "\n",
       "    .dataframe thead th {\n",
       "        text-align: right;\n",
       "    }\n",
       "</style>\n",
       "<table border=\"1\" class=\"dataframe\">\n",
       "  <thead>\n",
       "    <tr style=\"text-align: right;\">\n",
       "      <th></th>\n",
       "      <th>Id</th>\n",
       "      <th>SepalLengthCm</th>\n",
       "      <th>SepalWidthCm</th>\n",
       "      <th>PetalLengthCm</th>\n",
       "      <th>PetalWidthCm</th>\n",
       "      <th>Species</th>\n",
       "    </tr>\n",
       "  </thead>\n",
       "  <tbody>\n",
       "    <tr>\n",
       "      <th>0</th>\n",
       "      <td>1</td>\n",
       "      <td>5.1</td>\n",
       "      <td>3.5</td>\n",
       "      <td>1.4</td>\n",
       "      <td>0.2</td>\n",
       "      <td>Iris-setosa</td>\n",
       "    </tr>\n",
       "    <tr>\n",
       "      <th>1</th>\n",
       "      <td>2</td>\n",
       "      <td>4.9</td>\n",
       "      <td>3.0</td>\n",
       "      <td>1.4</td>\n",
       "      <td>0.2</td>\n",
       "      <td>Iris-setosa</td>\n",
       "    </tr>\n",
       "    <tr>\n",
       "      <th>2</th>\n",
       "      <td>3</td>\n",
       "      <td>4.7</td>\n",
       "      <td>3.2</td>\n",
       "      <td>1.3</td>\n",
       "      <td>0.2</td>\n",
       "      <td>Iris-setosa</td>\n",
       "    </tr>\n",
       "    <tr>\n",
       "      <th>3</th>\n",
       "      <td>4</td>\n",
       "      <td>4.6</td>\n",
       "      <td>3.1</td>\n",
       "      <td>1.5</td>\n",
       "      <td>0.2</td>\n",
       "      <td>Iris-setosa</td>\n",
       "    </tr>\n",
       "    <tr>\n",
       "      <th>4</th>\n",
       "      <td>5</td>\n",
       "      <td>5.0</td>\n",
       "      <td>3.6</td>\n",
       "      <td>1.4</td>\n",
       "      <td>0.2</td>\n",
       "      <td>Iris-setosa</td>\n",
       "    </tr>\n",
       "    <tr>\n",
       "      <th>...</th>\n",
       "      <td>...</td>\n",
       "      <td>...</td>\n",
       "      <td>...</td>\n",
       "      <td>...</td>\n",
       "      <td>...</td>\n",
       "      <td>...</td>\n",
       "    </tr>\n",
       "    <tr>\n",
       "      <th>145</th>\n",
       "      <td>146</td>\n",
       "      <td>6.7</td>\n",
       "      <td>3.0</td>\n",
       "      <td>5.2</td>\n",
       "      <td>2.3</td>\n",
       "      <td>Iris-virginica</td>\n",
       "    </tr>\n",
       "    <tr>\n",
       "      <th>146</th>\n",
       "      <td>147</td>\n",
       "      <td>6.3</td>\n",
       "      <td>2.5</td>\n",
       "      <td>5.0</td>\n",
       "      <td>1.9</td>\n",
       "      <td>Iris-virginica</td>\n",
       "    </tr>\n",
       "    <tr>\n",
       "      <th>147</th>\n",
       "      <td>148</td>\n",
       "      <td>6.5</td>\n",
       "      <td>3.0</td>\n",
       "      <td>5.2</td>\n",
       "      <td>2.0</td>\n",
       "      <td>Iris-virginica</td>\n",
       "    </tr>\n",
       "    <tr>\n",
       "      <th>148</th>\n",
       "      <td>149</td>\n",
       "      <td>6.2</td>\n",
       "      <td>3.4</td>\n",
       "      <td>5.4</td>\n",
       "      <td>2.3</td>\n",
       "      <td>Iris-virginica</td>\n",
       "    </tr>\n",
       "    <tr>\n",
       "      <th>149</th>\n",
       "      <td>150</td>\n",
       "      <td>5.9</td>\n",
       "      <td>3.0</td>\n",
       "      <td>5.1</td>\n",
       "      <td>1.8</td>\n",
       "      <td>Iris-virginica</td>\n",
       "    </tr>\n",
       "  </tbody>\n",
       "</table>\n",
       "<p>150 rows × 6 columns</p>\n",
       "</div>"
      ],
      "text/plain": [
       "      Id  SepalLengthCm  SepalWidthCm  PetalLengthCm  PetalWidthCm  \\\n",
       "0      1            5.1           3.5            1.4           0.2   \n",
       "1      2            4.9           3.0            1.4           0.2   \n",
       "2      3            4.7           3.2            1.3           0.2   \n",
       "3      4            4.6           3.1            1.5           0.2   \n",
       "4      5            5.0           3.6            1.4           0.2   \n",
       "..   ...            ...           ...            ...           ...   \n",
       "145  146            6.7           3.0            5.2           2.3   \n",
       "146  147            6.3           2.5            5.0           1.9   \n",
       "147  148            6.5           3.0            5.2           2.0   \n",
       "148  149            6.2           3.4            5.4           2.3   \n",
       "149  150            5.9           3.0            5.1           1.8   \n",
       "\n",
       "            Species  \n",
       "0       Iris-setosa  \n",
       "1       Iris-setosa  \n",
       "2       Iris-setosa  \n",
       "3       Iris-setosa  \n",
       "4       Iris-setosa  \n",
       "..              ...  \n",
       "145  Iris-virginica  \n",
       "146  Iris-virginica  \n",
       "147  Iris-virginica  \n",
       "148  Iris-virginica  \n",
       "149  Iris-virginica  \n",
       "\n",
       "[150 rows x 6 columns]"
      ]
     },
     "execution_count": 38,
     "metadata": {},
     "output_type": "execute_result"
    }
   ],
   "source": [
    "df_three= deepcopy(df)\n",
    "df_three"
   ]
  },
  {
   "cell_type": "code",
   "execution_count": 39,
   "metadata": {},
   "outputs": [
    {
     "data": {
      "text/html": [
       "<div>\n",
       "<style scoped>\n",
       "    .dataframe tbody tr th:only-of-type {\n",
       "        vertical-align: middle;\n",
       "    }\n",
       "\n",
       "    .dataframe tbody tr th {\n",
       "        vertical-align: top;\n",
       "    }\n",
       "\n",
       "    .dataframe thead th {\n",
       "        text-align: right;\n",
       "    }\n",
       "</style>\n",
       "<table border=\"1\" class=\"dataframe\">\n",
       "  <thead>\n",
       "    <tr style=\"text-align: right;\">\n",
       "      <th></th>\n",
       "      <th>Id</th>\n",
       "      <th>SepalLengthCm</th>\n",
       "      <th>PetalLengthCm</th>\n",
       "      <th>PetalWidthCm</th>\n",
       "      <th>Species</th>\n",
       "    </tr>\n",
       "  </thead>\n",
       "  <tbody>\n",
       "    <tr>\n",
       "      <th>0</th>\n",
       "      <td>1</td>\n",
       "      <td>5.1</td>\n",
       "      <td>1.4</td>\n",
       "      <td>0.2</td>\n",
       "      <td>Iris-setosa</td>\n",
       "    </tr>\n",
       "    <tr>\n",
       "      <th>1</th>\n",
       "      <td>2</td>\n",
       "      <td>4.9</td>\n",
       "      <td>1.4</td>\n",
       "      <td>0.2</td>\n",
       "      <td>Iris-setosa</td>\n",
       "    </tr>\n",
       "    <tr>\n",
       "      <th>2</th>\n",
       "      <td>3</td>\n",
       "      <td>4.7</td>\n",
       "      <td>1.3</td>\n",
       "      <td>0.2</td>\n",
       "      <td>Iris-setosa</td>\n",
       "    </tr>\n",
       "    <tr>\n",
       "      <th>3</th>\n",
       "      <td>4</td>\n",
       "      <td>4.6</td>\n",
       "      <td>1.5</td>\n",
       "      <td>0.2</td>\n",
       "      <td>Iris-setosa</td>\n",
       "    </tr>\n",
       "    <tr>\n",
       "      <th>4</th>\n",
       "      <td>5</td>\n",
       "      <td>5.0</td>\n",
       "      <td>1.4</td>\n",
       "      <td>0.2</td>\n",
       "      <td>Iris-setosa</td>\n",
       "    </tr>\n",
       "    <tr>\n",
       "      <th>...</th>\n",
       "      <td>...</td>\n",
       "      <td>...</td>\n",
       "      <td>...</td>\n",
       "      <td>...</td>\n",
       "      <td>...</td>\n",
       "    </tr>\n",
       "    <tr>\n",
       "      <th>145</th>\n",
       "      <td>146</td>\n",
       "      <td>6.7</td>\n",
       "      <td>5.2</td>\n",
       "      <td>2.3</td>\n",
       "      <td>Iris-virginica</td>\n",
       "    </tr>\n",
       "    <tr>\n",
       "      <th>146</th>\n",
       "      <td>147</td>\n",
       "      <td>6.3</td>\n",
       "      <td>5.0</td>\n",
       "      <td>1.9</td>\n",
       "      <td>Iris-virginica</td>\n",
       "    </tr>\n",
       "    <tr>\n",
       "      <th>147</th>\n",
       "      <td>148</td>\n",
       "      <td>6.5</td>\n",
       "      <td>5.2</td>\n",
       "      <td>2.0</td>\n",
       "      <td>Iris-virginica</td>\n",
       "    </tr>\n",
       "    <tr>\n",
       "      <th>148</th>\n",
       "      <td>149</td>\n",
       "      <td>6.2</td>\n",
       "      <td>5.4</td>\n",
       "      <td>2.3</td>\n",
       "      <td>Iris-virginica</td>\n",
       "    </tr>\n",
       "    <tr>\n",
       "      <th>149</th>\n",
       "      <td>150</td>\n",
       "      <td>5.9</td>\n",
       "      <td>5.1</td>\n",
       "      <td>1.8</td>\n",
       "      <td>Iris-virginica</td>\n",
       "    </tr>\n",
       "  </tbody>\n",
       "</table>\n",
       "<p>150 rows × 5 columns</p>\n",
       "</div>"
      ],
      "text/plain": [
       "      Id  SepalLengthCm  PetalLengthCm  PetalWidthCm         Species\n",
       "0      1            5.1            1.4           0.2     Iris-setosa\n",
       "1      2            4.9            1.4           0.2     Iris-setosa\n",
       "2      3            4.7            1.3           0.2     Iris-setosa\n",
       "3      4            4.6            1.5           0.2     Iris-setosa\n",
       "4      5            5.0            1.4           0.2     Iris-setosa\n",
       "..   ...            ...            ...           ...             ...\n",
       "145  146            6.7            5.2           2.3  Iris-virginica\n",
       "146  147            6.3            5.0           1.9  Iris-virginica\n",
       "147  148            6.5            5.2           2.0  Iris-virginica\n",
       "148  149            6.2            5.4           2.3  Iris-virginica\n",
       "149  150            5.9            5.1           1.8  Iris-virginica\n",
       "\n",
       "[150 rows x 5 columns]"
      ]
     },
     "execution_count": 39,
     "metadata": {},
     "output_type": "execute_result"
    }
   ],
   "source": [
    "df_three= df_three.drop(\"SepalWidthCm\",axis=1)\n",
    "df_three"
   ]
  },
  {
   "cell_type": "markdown",
   "metadata": {},
   "source": [
    "### Selección de atributos"
   ]
  },
  {
   "cell_type": "code",
   "execution_count": 42,
   "metadata": {},
   "outputs": [
    {
     "name": "stdout",
     "output_type": "stream",
     "text": [
      "Nombres de las nuevas columnas:  ['Iris-setosa', 'Iris-versicolor', 'Iris-virginica'] \n",
      "\n",
      "Dataframe de salida:\n",
      "     Iris-setosa  Iris-versicolor  Iris-virginica\n",
      "0              1                0               0\n",
      "1              1                0               0\n",
      "2              1                0               0\n",
      "3              1                0               0\n",
      "4              1                0               0\n",
      "..           ...              ...             ...\n",
      "145            0                0               1\n",
      "146            0                0               1\n",
      "147            0                0               1\n",
      "148            0                0               1\n",
      "149            0                0               1\n",
      "\n",
      "[150 rows x 3 columns]\n",
      "\n",
      "Dataframe de entrada:\n",
      "     SepalLengthCm  PetalLengthCm  PetalWidthCm\n",
      "0              5.1            1.4           0.2\n",
      "1              4.9            1.4           0.2\n",
      "2              4.7            1.3           0.2\n",
      "3              4.6            1.5           0.2\n",
      "4              5.0            1.4           0.2\n",
      "..             ...            ...           ...\n",
      "145            6.7            5.2           2.3\n",
      "146            6.3            5.0           1.9\n",
      "147            6.5            5.2           2.0\n",
      "148            6.2            5.4           2.3\n",
      "149            5.9            5.1           1.8\n",
      "\n",
      "[150 rows x 3 columns]\n"
     ]
    }
   ],
   "source": [
    "#Nombre de la salida deseada:\n",
    "nombre_de_la_variable_de_salida='Species' \n",
    "\n",
    "#En este primer ejemplo vamos a utilizar 4 variables:\n",
    "nombre_de_las_variables_de_entrada = ['SepalLengthCm','PetalLengthCm','PetalWidthCm']\n",
    "\n",
    "\n",
    "df3_y = pd.get_dummies(df_three[nombre_de_la_variable_de_salida])\n",
    "nombres_de_las_variables_de_salida = df3_y.columns.to_list()\n",
    "print('Nombres de las nuevas columnas: ',nombres_de_las_variables_de_salida,'\\n')\n",
    "print('Dataframe de salida:')\n",
    "print(df3_y)\n",
    "\n",
    "#Ahora, obtenemos un dataframe con las variables de entrada que vamos a utilizar.\n",
    "df3_x = deepcopy(df_three[nombre_de_las_variables_de_entrada])\n",
    "print('\\nDataframe de entrada:')\n",
    "print(df3_x)"
   ]
  },
  {
   "cell_type": "markdown",
   "metadata": {},
   "source": [
    "### División de datos"
   ]
  },
  {
   "cell_type": "code",
   "execution_count": 44,
   "metadata": {},
   "outputs": [
    {
     "name": "stdout",
     "output_type": "stream",
     "text": [
      "-----------------------------------------------------------------------\n",
      "Conjunto de datos de entrenamiento 80%\n",
      "-----------------------------------------------------------------------\n",
      "<class 'pandas.core.frame.DataFrame'>\n",
      "Int64Index: 120 entries, 39 to 99\n",
      "Data columns (total 3 columns):\n",
      " #   Column         Non-Null Count  Dtype  \n",
      "---  ------         --------------  -----  \n",
      " 0   SepalLengthCm  120 non-null    float64\n",
      " 1   PetalLengthCm  120 non-null    float64\n",
      " 2   PetalWidthCm   120 non-null    float64\n",
      "dtypes: float64(3)\n",
      "memory usage: 3.8 KB\n",
      "None \n",
      "\n",
      "-----------------------------------------------------------------------\n",
      "Conjunto de datos de prueba 20%\n",
      "-----------------------------------------------------------------------\n",
      "<class 'pandas.core.frame.DataFrame'>\n",
      "Int64Index: 30 entries, 82 to 132\n",
      "Data columns (total 3 columns):\n",
      " #   Column         Non-Null Count  Dtype  \n",
      "---  ------         --------------  -----  \n",
      " 0   SepalLengthCm  30 non-null     float64\n",
      " 1   PetalLengthCm  30 non-null     float64\n",
      " 2   PetalWidthCm   30 non-null     float64\n",
      "dtypes: float64(3)\n",
      "memory usage: 960.0 bytes\n",
      "None\n",
      "\n"
     ]
    }
   ],
   "source": [
    "mezclar_los_datos       = True \n",
    "valor_semilla_aleatoria = 5   \n",
    "\n",
    "\n",
    "particion_para_entrenamiento = 0.8  \n",
    "particion_para_pruebas       = 1.0-particion_para_entrenamiento\n",
    "\n",
    "\n",
    "df3_x_train, df3_x_test, df3_y_train, df3_y_test = train_test_split(df3_x,                                   \n",
    "                                                              df3_y,                                       \n",
    "                                                              test_size=particion_para_pruebas, \n",
    "                                                              random_state=valor_semilla_aleatoria, \n",
    "                                                              shuffle=mezclar_los_datos)\n",
    "\n",
    "print('-----------------------------------------------------------------------')\n",
    "print('Conjunto de datos de entrenamiento {:1.0f}%'.format(particion_para_entrenamiento*100))\n",
    "print('-----------------------------------------------------------------------')\n",
    "print(df3_x_train.info(),'\\n')\n",
    "\n",
    "print('-----------------------------------------------------------------------')\n",
    "print('Conjunto de datos de prueba {:1.0f}%'.format(particion_para_pruebas*100))\n",
    "print('-----------------------------------------------------------------------')\n",
    "print(df3_x_test.info(),'\\n',sep='')"
   ]
  },
  {
   "cell_type": "markdown",
   "metadata": {},
   "source": [
    "### KNN"
   ]
  },
  {
   "cell_type": "code",
   "execution_count": 51,
   "metadata": {},
   "outputs": [],
   "source": [
    "k   = 7 \n",
    "knn = neighbors.KNeighborsClassifier(n_neighbors=k) \n",
    "knn.fit(df3_x_train, df3_y_train)     \n",
    "\n",
    "#Train\n",
    "y3_pred_train = knn.predict(df3_x_train) \n",
    "y3_train = df3_y_train.values\n",
    "\n",
    "#Test\n",
    "y3_pred_test = knn.predict(df3_x_test) \n",
    "y3_test = df3_y_test.values"
   ]
  },
  {
   "cell_type": "code",
   "execution_count": 52,
   "metadata": {},
   "outputs": [
    {
     "name": "stdout",
     "output_type": "stream",
     "text": [
      "Matriz de confusión para K=7 usando los datos del conjunto de entrenamiento:\n",
      " [[42  0  0]\n",
      " [ 0 38  1]\n",
      " [ 0  1 38]]\n",
      "\n",
      "\n",
      "Clase 0:\n",
      "Iris-setosa\n",
      "Clase 1:\n",
      "Iris-versicolor\n",
      "Clase 2:\n",
      "Iris-virginica\n"
     ]
    },
    {
     "data": {
      "image/png": "[encoded data removed]",
      "text/plain": [
       "<Figure size 432x288 with 2 Axes>"
      ]
     },
     "metadata": {},
     "output_type": "display_data"
    }
   ],
   "source": [
    "cm = metrics.confusion_matrix(one_hot_to_label_encoding(y3_train),one_hot_to_label_encoding(y3_pred_train))  #Una matriz de confusión para todas las categorías.  \n",
    "print('Matriz de confusión para K={} usando los datos del conjunto de entrenamiento:\\n'.format(k), cm)\n",
    "print('\\n')\n",
    "disp_1 = metrics.ConfusionMatrixDisplay(confusion_matrix = cm)\n",
    "disp_1.plot()\n",
    "\n",
    "for i in range(len(nombres_de_las_variables_de_salida)):\n",
    "    print('Clase %d:' % i)\n",
    "    print(nombres_de_las_variables_de_salida[i])"
   ]
  },
  {
   "cell_type": "code",
   "execution_count": 53,
   "metadata": {},
   "outputs": [
    {
     "name": "stdout",
     "output_type": "stream",
     "text": [
      "Matriz de confusión para K=7 usando los datos del conjunto de prueba:\n",
      " [[ 8  0  0]\n",
      " [ 0 10  1]\n",
      " [ 0  0 11]]\n",
      "\n",
      "\n",
      "Clase 0:\n",
      "Iris-setosa\n",
      "Clase 1:\n",
      "Iris-versicolor\n",
      "Clase 2:\n",
      "Iris-virginica\n"
     ]
    },
    {
     "data": {
      "image/png": "[encoded data removed]",
      "text/plain": [
       "<Figure size 432x288 with 2 Axes>"
      ]
     },
     "metadata": {},
     "output_type": "display_data"
    }
   ],
   "source": [
    "cm_test= metrics.confusion_matrix(one_hot_to_label_encoding(y3_test),one_hot_to_label_encoding(y3_pred_test)) \n",
    "\n",
    "print('Matriz de confusión para K={} usando los datos del conjunto de prueba:\\n'.format(k), cm_test)\n",
    "print('\\n')\n",
    "disp_1 = metrics.ConfusionMatrixDisplay(confusion_matrix = cm_test)\n",
    "disp_1.plot()\n",
    "\n",
    "for i in range(len(nombres_de_las_variables_de_salida)):\n",
    "    print('Clase %d:' % i)\n",
    "    print(nombres_de_las_variables_de_salida[i])"
   ]
  },
  {
   "cell_type": "markdown",
   "metadata": {},
   "source": [
    "### Metrics Train"
   ]
  },
  {
   "cell_type": "code",
   "execution_count": 54,
   "metadata": {
    "scrolled": true
   },
   "outputs": [
    {
     "name": "stdout",
     "output_type": "stream",
     "text": [
      "                 precision    recall  f1-score   support\n",
      "\n",
      "    Iris-setosa       1.00      1.00      1.00        42\n",
      "Iris-versicolor       0.97      0.97      0.97        39\n",
      " Iris-virginica       0.97      0.97      0.97        39\n",
      "\n",
      "       accuracy                           0.98       120\n",
      "      macro avg       0.98      0.98      0.98       120\n",
      "   weighted avg       0.98      0.98      0.98       120\n",
      "\n"
     ]
    }
   ],
   "source": [
    "print(metrics.classification_report(one_hot_to_label_encoding(y3_train),\n",
    "                                    one_hot_to_label_encoding(y3_pred_train),\n",
    "                                    target_names = nombres_de_las_variables_de_salida))"
   ]
  },
  {
   "cell_type": "markdown",
   "metadata": {},
   "source": [
    "### Metrics Test"
   ]
  },
  {
   "cell_type": "code",
   "execution_count": 55,
   "metadata": {
    "scrolled": true
   },
   "outputs": [
    {
     "name": "stdout",
     "output_type": "stream",
     "text": [
      "                 precision    recall  f1-score   support\n",
      "\n",
      "    Iris-setosa       1.00      1.00      1.00         8\n",
      "Iris-versicolor       0.91      0.91      0.91        11\n",
      " Iris-virginica       0.91      0.91      0.91        11\n",
      "\n",
      "       accuracy                           0.93        30\n",
      "      macro avg       0.94      0.94      0.94        30\n",
      "   weighted avg       0.93      0.93      0.93        30\n",
      "\n"
     ]
    }
   ],
   "source": [
    "print(metrics.classification_report(one_hot_to_label_encoding(y_test),\n",
    "                                    one_hot_to_label_encoding(y_pred_test),\n",
    "                                    target_names = nombres_de_las_variables_de_salida))"
   ]
  },
  {
   "cell_type": "markdown",
   "metadata": {},
   "source": [
    "### Exactitud general"
   ]
  },
  {
   "cell_type": "code",
   "execution_count": 56,
   "metadata": {},
   "outputs": [
    {
     "name": "stdout",
     "output_type": "stream",
     "text": [
      "Accuaracy of model:  0.9866666666666667\n"
     ]
    }
   ],
   "source": [
    "y_complete = np.append(y3_train, y3_test)\n",
    "y_pred_complete = np.append(y3_pred_train, y3_pred_test)\n",
    "\n",
    "accuaracy = metrics.accuracy_score(y_complete, y_pred_complete)\n",
    "print('Accuaracy of model: ', accuaracy)"
   ]
  },
  {
   "cell_type": "markdown",
   "metadata": {},
   "source": [
    "### Conclusiones"
   ]
  },
  {
   "cell_type": "markdown",
   "metadata": {},
   "source": [
    "Luego de implementar este modelo con tres atributos, nos dieron resultados iguales y mejores que los del modelo de cuatro atributos, decidimos no normalizar ya que nos dieron peores resultados cuando lo hicimos. Probamos con diferentes valores de K y los resultados obtenidos por K=7 siguen la tendencia de los ejercicios 4 y 5. Las métricas de desempeños nos indica que el modelo mejoró y cabe resaltar que la precisión del modelo aumentó en 0.44% aproximadamente. Los atributos fueron elejidos con base al análisis hecho anteriormente donde se observaban correlaciones fuertes y agrupaciones distinguidas para estos atributos. Con esto pudimos decidir sacar el atributo \"SepalWidthCm\". \n",
    "\n",
    "Para presentarle a un cliente sería de suma importancia presentar la precisión del modelo, resaltar todas las métricas de 100% en iris-setosa y finalmente mostrar las diferencias con el modelo de cuatro atributos."
   ]
  },
  {
   "cell_type": "markdown",
   "metadata": {
    "id": "SosgqKIk4kYN"
   },
   "source": [
    "## **Ejercicio 7.**\n",
    "\n",
    "Encuentre un modelo de clasificación KNN que utilice solo dos atributos y cuyo desempeño sea comparable con el modelo que usa cuatro atributos. Decida si es conveniente normalizar o no los atributos. Utilice diferentes valores de K. Para comparar varios modelos genere diferentes métricas de desempeño.\n",
    "Al final indique, ¿por qué escogió esos atributos?, de los modelos entrenados ¿cuál escogería y por qué? ¿qué métricas de desempeño reportaría a un cliente y por qué?"
   ]
  },
  {
   "cell_type": "markdown",
   "metadata": {
    "id": "OSuBoHdP4kYN"
   },
   "source": [
    "## **Ejercicio 8.**\n",
    "\n",
    "¿Qué valores puede tomar el hiperparámetro metric? ¿Cuál es la distancia que utiliza por defecto el clasificador KNN?\n",
    "¿Qué valores puede tomar el hiperparámetro weight y cuál podría ser su utilidad?"
   ]
  },
  {
   "cell_type": "markdown",
   "metadata": {
    "id": "kHIY2-yDOhdl"
   },
   "source": [
    "El hiperparámetro metric recibe un str, sin embargo esta cadena debe estar asociada a una métrica de distancia establecida. Los valores que puede tomar son: \n",
    "\n",
    "Para espacios de vectores con valores reales:\n",
    "\n",
    "*   euclidean\n",
    "*   manhattan\n",
    "*   chebyshev\n",
    "*   minkowski\n",
    "*   wminkowski\n",
    "*   seuclidean\n",
    "*   mahalanobid\n",
    "\n",
    "Para espacios de vectores con dos dimensiones:\n",
    "\n",
    "*   haversine\n",
    "\n",
    "Para espacios de vectores con valores enteros:\n",
    "\n",
    "*   hamming\n",
    "*   canberra\n",
    "*   braycurtis\n",
    "\n",
    "**Por defecto se usa la minkowski**\n",
    "\n",
    "El hiperparámetro weight puede tomar valores de:\n",
    "\n",
    "*   uniform: Todos los puntos tienen pesos iguales\n",
    "*   distance: Puntos de peso por el inverso de su distancia, los vecinos más cercanos tendrán una mayor influencia que aquellos más lejanos.\n",
    "*   callable: el usuario define una función para la distancia\n",
    "\n",
    "**Por defecto se usa uniform**\n",
    "\n",
    "Es útil utilizar este hiperparámetro cuando se desea personalizar la agrupación a través de funciones propias y también para cuando se quiera que la distancia tenga influencia sobre la agrupación.\n",
    "\n",
    "\n",
    "\n"
   ]
  },
  {
   "cell_type": "markdown",
   "metadata": {
    "id": "gBAjBA-w5wFn"
   },
   "source": [
    "# **FIN**"
   ]
  },
  {
   "cell_type": "markdown",
   "metadata": {
    "id": "ZY1omm624kYO"
   },
   "source": [
    "# **Metodología**\n",
    "\n",
    "1. Desarrolle las Preguntas propuestas en el Taller 3 de forma individual.\n",
    "\n",
    "2. Después de la sesión de Taller 3, suba a Intu el archivo con la solución a las preguntas con nombre en el siguiente formato:\n",
    "\n",
    "Taller_3_Apellido-Nombre.ipynb\n",
    "\n",
    "3. Resuelva los Ejercicios Propuestos (en grupos de máximo 2 personas) en un nuevo notebook de Jupyter y suba el archivo a Intu hasta el próximo miércoles 21 de septiembre a las 7:00 am (antes del inicio de la clase). Utilice el siguiente formato para el nombre del archivo.\n",
    "\n",
    "Ejercicios_Taller_2_Apellido-Nombre_Apellido-Nombre.ipynb\n",
    "\n",
    "4.\tRecuerde consignar los nombres de los integrantes dentro del notebook.\n",
    "\n",
    "5.\tAlgunos grupos serán llamados al azar durante la clase del miércoles 21 de septiembre para realizar la presentación de alguno (s) de los puntos.\n",
    "\n",
    "6. La nota del Taller 3 se asignará así:\n",
    "\n",
    "- Preguntas Taller 2 (20%)\n",
    "\n",
    "- Ejercicios Taller 2 (80%)\n"
   ]
  }
 ],
 "metadata": {
  "colab": {
   "collapsed_sections": [],
   "provenance": []
  },
  "kernelspec": {
   "display_name": "Python 3 (ipykernel)",
   "language": "python",
   "name": "python3"
  },
  "language_info": {
   "codemirror_mode": {
    "name": "ipython",
    "version": 3
   },
   "file_extension": ".py",
   "mimetype": "text/x-python",
   "name": "python",
   "nbconvert_exporter": "python",
   "pygments_lexer": "ipython3",
   "version": "3.9.7"
  }
 },
 "nbformat": 4,
 "nbformat_minor": 1
}

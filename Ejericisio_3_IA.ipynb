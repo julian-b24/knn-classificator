{
 "cells": [
  {
   "cell_type": "markdown",
   "metadata": {
    "id": "2fCttZG0opEs"
   },
   "source": [
    "# **Taller 3: clasificación de especies de iris usando K-vecinos más cercanos.**\n",
    "\n",
    "**Curso: 09481 - Inteligencia Artificial.**\n",
    "\n",
    "**Universidad Icesi.**\n",
    "\n",
    "**Profesor: Breyner Posso.**\n",
    "\n",
    "**Estudiantes: Julian Bolaños y Juan Pablo Sanín**"
   ]
  },
  {
   "cell_type": "markdown",
   "metadata": {
    "id": "LQcNGMN07WXE"
   },
   "source": [
    "# 0. Importar librerías."
   ]
  },
  {
   "cell_type": "code",
   "execution_count": 6,
   "metadata": {
    "id": "6j2ZJQwUoqRD"
   },
   "outputs": [],
   "source": [
    "#Vamos a importar las librerías que vamos a utilizar.\n",
    "\n",
    "import pandas as pd                #Importamos la librería pandas. Nos va a servir para leer y manipular conjuntos de datos tabulares.\n",
    "import matplotlib.pyplot as plt    #Importamos pyplot de librería matplotlib. Lo vamos a utilizar para graficar.\n",
    "import seaborn as sns              #Importamos la librería Seaborn. La vamos a utilizar para graficar.\n",
    "import numpy as np                 #Importamos la librería numpy para manipular arreglos. \n",
    "#from google.colab import files     #Esta librería nos sirve para cargar archivos desde el disco duro.\n",
    "\n",
    "from sklearn.model_selection import train_test_split #Útil para dividir los conjuntos de datos. \n",
    "from sklearn.preprocessing import MinMaxScaler       #Útil para escalar los atributos de entrada.\n",
    "from sklearn import neighbors  #Permite usar KNN.\n",
    "from sklearn import metrics    #Permite calcular algunas métricas de desempeño.\n",
    "\n",
    "from copy import deepcopy      #Permite hacer copias profundas. "
   ]
  },
  {
   "cell_type": "markdown",
   "metadata": {
    "id": "7QBXi-bV7u0k"
   },
   "source": [
    "# 1. Cargar datos."
   ]
  },
  {
   "cell_type": "code",
   "execution_count": 5,
   "metadata": {
    "id": "l-qV7OutoyML"
   },
   "outputs": [],
   "source": [
    "#Primero vamos a descargar el archivo \"iris.csv\" en nuestra máquina local desde Moodle o desde esta ruta: https://www.kaggle.com/uciml/iris\n",
    "\n",
    "#Ahora cargamos en Google Colab el archivo que tiene el conjunto de datos \"iris.csv\"\n",
    "#files.upload()  #Nota: si este comando falla, revise que su navegador permite el almacenamiento de cookies. \n"
   ]
  },
  {
   "cell_type": "code",
   "execution_count": 3,
   "metadata": {
    "id": "DNWTdUj34kXX"
   },
   "outputs": [],
   "source": [
    "#Vamos a utilizar el dataset iris (https://www.kaggle.com/datasets/uciml/iris)\n",
    "# Vamos a leer el conjunto de datos en un dataframe de pandas.\n",
    "df = pd.read_csv('iris.csv') #Ruta completa a la ubicación del archivo de interés."
   ]
  },
  {
   "cell_type": "markdown",
   "metadata": {
    "id": "GgKSrY0ac_oG"
   },
   "source": [
    "# **EJERCICIOS PROPUESTOS TALLER 3.**"
   ]
  },
  {
   "cell_type": "markdown",
   "metadata": {
    "id": "wFUUjeih4kYK"
   },
   "source": [
    "## **Ejercicio 1.**\n",
    "\n",
    "Para el conjunto de datos iris, ¿cuál sería la exactitud (accuracy) de línea base (baseline)?"
   ]
  },
  {
   "cell_type": "markdown",
   "metadata": {
    "id": "IxHtyvuu4kYL"
   },
   "source": [
    "## **Ejercicio 2.**\n",
    "\n",
    "Para la función metrics.classification_report consulte qué representan los valores entregados."
   ]
  },
  {
   "cell_type": "markdown",
   "metadata": {
    "id": "ik4aYwV94kYL"
   },
   "source": [
    "## **Ejercicio 3.**\n",
    "\n",
    "Normalice los atributos, entrene un modelo con los atributos normalizados, pruebe este modelo tanto con los datos de entrenamiento y prueba, obtenga las métricas de desempeño por clase (matriz de confusión, exactitud, precisión, sensibilidad, especificidad y F1), obtenga la exactitud general y compare con los resultados obtenidos mediante el clasificador entrenado en la sesión de Taller."
   ]
  },
  {
   "cell_type": "markdown",
   "metadata": {},
   "source": [
    "### Separación atributo-target\n",
    "\n",
    "Se separan las columnas de nuestro dataframe para tener los atributos en una variable y nuestro target en otra"
   ]
  },
  {
   "cell_type": "code",
   "execution_count": 19,
   "metadata": {},
   "outputs": [],
   "source": [
    "#Separación de atributos y target\n",
    "nombre_de_la_variable_de_salida='Species'\n",
    "nombre_de_las_variables_de_entrada = ['SepalLengthCm','SepalWidthCm','PetalLengthCm','PetalWidthCm']\n",
    "\n",
    "\n",
    "df_y = pd.get_dummies(df[nombre_de_la_variable_de_salida])\n",
    "df_x = deepcopy(df[nombre_de_las_variables_de_entrada])"
   ]
  },
  {
   "cell_type": "markdown",
   "metadata": {},
   "source": [
    "### Normalización\n",
    "\n",
    "Ahora, se pasa al proceso de normalización de los diferentes atributos. Se empleará la técnica de: ***min - max scaling***\n",
    "\n",
    "Descripción del método: https://deepchecks.com/glossary/normalization-in-machine-learning/"
   ]
  },
  {
   "cell_type": "code",
   "execution_count": 5,
   "metadata": {
    "scrolled": false
   },
   "outputs": [
    {
     "data": {
      "text/html": [
       "<div>\n",
       "<style scoped>\n",
       "    .dataframe tbody tr th:only-of-type {\n",
       "        vertical-align: middle;\n",
       "    }\n",
       "\n",
       "    .dataframe tbody tr th {\n",
       "        vertical-align: top;\n",
       "    }\n",
       "\n",
       "    .dataframe thead th {\n",
       "        text-align: right;\n",
       "    }\n",
       "</style>\n",
       "<table border=\"1\" class=\"dataframe\">\n",
       "  <thead>\n",
       "    <tr style=\"text-align: right;\">\n",
       "      <th></th>\n",
       "      <th>SepalLengthCm</th>\n",
       "      <th>SepalWidthCm</th>\n",
       "      <th>PetalLengthCm</th>\n",
       "      <th>PetalWidthCm</th>\n",
       "    </tr>\n",
       "  </thead>\n",
       "  <tbody>\n",
       "    <tr>\n",
       "      <th>0</th>\n",
       "      <td>0.222222</td>\n",
       "      <td>0.625000</td>\n",
       "      <td>0.067797</td>\n",
       "      <td>0.041667</td>\n",
       "    </tr>\n",
       "    <tr>\n",
       "      <th>1</th>\n",
       "      <td>0.166667</td>\n",
       "      <td>0.416667</td>\n",
       "      <td>0.067797</td>\n",
       "      <td>0.041667</td>\n",
       "    </tr>\n",
       "    <tr>\n",
       "      <th>2</th>\n",
       "      <td>0.111111</td>\n",
       "      <td>0.500000</td>\n",
       "      <td>0.050847</td>\n",
       "      <td>0.041667</td>\n",
       "    </tr>\n",
       "    <tr>\n",
       "      <th>3</th>\n",
       "      <td>0.083333</td>\n",
       "      <td>0.458333</td>\n",
       "      <td>0.084746</td>\n",
       "      <td>0.041667</td>\n",
       "    </tr>\n",
       "    <tr>\n",
       "      <th>4</th>\n",
       "      <td>0.194444</td>\n",
       "      <td>0.666667</td>\n",
       "      <td>0.067797</td>\n",
       "      <td>0.041667</td>\n",
       "    </tr>\n",
       "    <tr>\n",
       "      <th>...</th>\n",
       "      <td>...</td>\n",
       "      <td>...</td>\n",
       "      <td>...</td>\n",
       "      <td>...</td>\n",
       "    </tr>\n",
       "    <tr>\n",
       "      <th>145</th>\n",
       "      <td>0.666667</td>\n",
       "      <td>0.416667</td>\n",
       "      <td>0.711864</td>\n",
       "      <td>0.916667</td>\n",
       "    </tr>\n",
       "    <tr>\n",
       "      <th>146</th>\n",
       "      <td>0.555556</td>\n",
       "      <td>0.208333</td>\n",
       "      <td>0.677966</td>\n",
       "      <td>0.750000</td>\n",
       "    </tr>\n",
       "    <tr>\n",
       "      <th>147</th>\n",
       "      <td>0.611111</td>\n",
       "      <td>0.416667</td>\n",
       "      <td>0.711864</td>\n",
       "      <td>0.791667</td>\n",
       "    </tr>\n",
       "    <tr>\n",
       "      <th>148</th>\n",
       "      <td>0.527778</td>\n",
       "      <td>0.583333</td>\n",
       "      <td>0.745763</td>\n",
       "      <td>0.916667</td>\n",
       "    </tr>\n",
       "    <tr>\n",
       "      <th>149</th>\n",
       "      <td>0.444444</td>\n",
       "      <td>0.416667</td>\n",
       "      <td>0.694915</td>\n",
       "      <td>0.708333</td>\n",
       "    </tr>\n",
       "  </tbody>\n",
       "</table>\n",
       "<p>150 rows × 4 columns</p>\n",
       "</div>"
      ],
      "text/plain": [
       "     SepalLengthCm  SepalWidthCm  PetalLengthCm  PetalWidthCm\n",
       "0         0.222222      0.625000       0.067797      0.041667\n",
       "1         0.166667      0.416667       0.067797      0.041667\n",
       "2         0.111111      0.500000       0.050847      0.041667\n",
       "3         0.083333      0.458333       0.084746      0.041667\n",
       "4         0.194444      0.666667       0.067797      0.041667\n",
       "..             ...           ...            ...           ...\n",
       "145       0.666667      0.416667       0.711864      0.916667\n",
       "146       0.555556      0.208333       0.677966      0.750000\n",
       "147       0.611111      0.416667       0.711864      0.791667\n",
       "148       0.527778      0.583333       0.745763      0.916667\n",
       "149       0.444444      0.416667       0.694915      0.708333\n",
       "\n",
       "[150 rows x 4 columns]"
      ]
     },
     "execution_count": 5,
     "metadata": {},
     "output_type": "execute_result"
    }
   ],
   "source": [
    "#Normalización de atributos\n",
    "df_x_normalized = (df_x-df_x.min())/(df_x.max()-df_x.min())\n",
    "df_x_normalized"
   ]
  },
  {
   "cell_type": "markdown",
   "metadata": {},
   "source": [
    "### División datos de prueba\n",
    "\n",
    "Con los atributos normalizados se pasa a dividir los mismos en datos de entrenamiento para el modelo y datos de prueba."
   ]
  },
  {
   "cell_type": "code",
   "execution_count": 8,
   "metadata": {},
   "outputs": [],
   "source": [
    "#División de datos en conjunto de entrenamiento y prueba\n",
    "mezclar_los_datos       = True \n",
    "valor_semilla_aleatoria = 5\n",
    "\n",
    "#Porcentajes de división de datos. \n",
    "particion_para_entrenamiento = 0.8  \n",
    "particion_para_pruebas       = 1.0-particion_para_entrenamiento \n",
    "\n",
    "df_x_normalized_train, df_x_normalized_test, df_y_train, df_y_test = train_test_split(df_x_normalized, \n",
    "                             df_y,\n",
    "                             test_size=particion_para_pruebas, \n",
    "                             random_state=valor_semilla_aleatoria, \n",
    "                             shuffle=mezclar_los_datos)"
   ]
  },
  {
   "cell_type": "markdown",
   "metadata": {},
   "source": [
    "### Entrenamiento con datos normalizados\n",
    "\n",
    "Se pasa a entrenar un modelo usando los datos recientemente normalizados"
   ]
  },
  {
   "cell_type": "code",
   "execution_count": 9,
   "metadata": {},
   "outputs": [
    {
     "data": {
      "text/plain": [
       "KNeighborsClassifier()"
      ]
     },
     "execution_count": 9,
     "metadata": {},
     "output_type": "execute_result"
    }
   ],
   "source": [
    "k   = 5\n",
    "knn = neighbors.KNeighborsClassifier(n_neighbors=k)\n",
    "knn.fit(df_x_normalized_train, df_y_train)"
   ]
  },
  {
   "cell_type": "code",
   "execution_count": 10,
   "metadata": {
    "scrolled": true
   },
   "outputs": [
    {
     "data": {
      "text/plain": [
       "array([[1, 0, 0],\n",
       "       [0, 1, 0],\n",
       "       [0, 1, 0],\n",
       "       [1, 0, 0],\n",
       "       [0, 1, 0],\n",
       "       [1, 0, 0],\n",
       "       [1, 0, 0],\n",
       "       [0, 0, 1],\n",
       "       [1, 0, 0],\n",
       "       [0, 0, 1],\n",
       "       [0, 0, 1],\n",
       "       [0, 1, 0],\n",
       "       [1, 0, 0],\n",
       "       [1, 0, 0],\n",
       "       [0, 1, 0],\n",
       "       [0, 0, 1],\n",
       "       [0, 1, 0],\n",
       "       [0, 0, 1],\n",
       "       [0, 0, 1],\n",
       "       [1, 0, 0],\n",
       "       [0, 0, 1],\n",
       "       [1, 0, 0],\n",
       "       [1, 0, 0],\n",
       "       [1, 0, 0],\n",
       "       [1, 0, 0],\n",
       "       [0, 1, 0],\n",
       "       [0, 1, 0],\n",
       "       [0, 1, 0],\n",
       "       [0, 1, 0],\n",
       "       [0, 0, 1],\n",
       "       [0, 1, 0],\n",
       "       [0, 0, 1],\n",
       "       [0, 0, 1],\n",
       "       [0, 1, 0],\n",
       "       [1, 0, 0],\n",
       "       [0, 1, 0],\n",
       "       [1, 0, 0],\n",
       "       [0, 1, 0],\n",
       "       [0, 0, 1],\n",
       "       [0, 1, 0],\n",
       "       [0, 0, 1],\n",
       "       [0, 1, 0],\n",
       "       [0, 0, 1],\n",
       "       [0, 1, 0],\n",
       "       [0, 1, 0],\n",
       "       [0, 1, 0],\n",
       "       [0, 0, 1],\n",
       "       [0, 1, 0],\n",
       "       [1, 0, 0],\n",
       "       [0, 0, 1],\n",
       "       [1, 0, 0],\n",
       "       [1, 0, 0],\n",
       "       [0, 1, 0],\n",
       "       [1, 0, 0],\n",
       "       [1, 0, 0],\n",
       "       [0, 0, 1],\n",
       "       [0, 1, 0],\n",
       "       [1, 0, 0],\n",
       "       [0, 0, 1],\n",
       "       [1, 0, 0],\n",
       "       [0, 1, 0],\n",
       "       [0, 1, 0],\n",
       "       [1, 0, 0],\n",
       "       [1, 0, 0],\n",
       "       [0, 0, 1],\n",
       "       [0, 1, 0],\n",
       "       [0, 1, 0],\n",
       "       [1, 0, 0],\n",
       "       [1, 0, 0],\n",
       "       [0, 0, 1],\n",
       "       [0, 1, 0],\n",
       "       [0, 1, 0],\n",
       "       [1, 0, 0],\n",
       "       [0, 1, 0],\n",
       "       [0, 0, 1],\n",
       "       [0, 1, 0],\n",
       "       [1, 0, 0],\n",
       "       [0, 1, 0],\n",
       "       [0, 0, 1],\n",
       "       [0, 0, 1],\n",
       "       [0, 0, 1],\n",
       "       [0, 0, 1],\n",
       "       [1, 0, 0],\n",
       "       [1, 0, 0],\n",
       "       [0, 0, 1],\n",
       "       [0, 0, 1],\n",
       "       [1, 0, 0],\n",
       "       [0, 1, 0],\n",
       "       [1, 0, 0],\n",
       "       [1, 0, 0],\n",
       "       [0, 0, 1],\n",
       "       [0, 1, 0],\n",
       "       [0, 0, 1],\n",
       "       [1, 0, 0],\n",
       "       [0, 0, 1],\n",
       "       [1, 0, 0],\n",
       "       [0, 0, 1],\n",
       "       [1, 0, 0],\n",
       "       [0, 1, 0],\n",
       "       [1, 0, 0],\n",
       "       [0, 0, 1],\n",
       "       [0, 0, 1],\n",
       "       [1, 0, 0],\n",
       "       [0, 1, 0],\n",
       "       [0, 0, 1],\n",
       "       [0, 0, 1],\n",
       "       [0, 1, 0],\n",
       "       [1, 0, 0],\n",
       "       [0, 1, 0],\n",
       "       [1, 0, 0],\n",
       "       [1, 0, 0],\n",
       "       [0, 1, 0],\n",
       "       [0, 0, 1],\n",
       "       [1, 0, 0],\n",
       "       [0, 0, 1],\n",
       "       [1, 0, 0],\n",
       "       [0, 1, 0],\n",
       "       [0, 0, 1],\n",
       "       [0, 0, 1],\n",
       "       [0, 1, 0]], dtype=uint8)"
      ]
     },
     "execution_count": 10,
     "metadata": {},
     "output_type": "execute_result"
    }
   ],
   "source": [
    "#Predicción para datos de entrenamiento\n",
    "y_pred_train = knn.predict(df_x_normalized_train)\n",
    "y_pred_train"
   ]
  },
  {
   "cell_type": "code",
   "execution_count": 11,
   "metadata": {
    "scrolled": true
   },
   "outputs": [
    {
     "data": {
      "text/plain": [
       "array([[0, 1, 0],\n",
       "       [0, 1, 0],\n",
       "       [0, 0, 1],\n",
       "       [1, 0, 0],\n",
       "       [0, 0, 1],\n",
       "       [0, 1, 0],\n",
       "       [1, 0, 0],\n",
       "       [0, 0, 1],\n",
       "       [1, 0, 0],\n",
       "       [0, 1, 0],\n",
       "       [0, 1, 0],\n",
       "       [0, 1, 0],\n",
       "       [0, 0, 1],\n",
       "       [0, 0, 1],\n",
       "       [1, 0, 0],\n",
       "       [1, 0, 0],\n",
       "       [0, 0, 1],\n",
       "       [0, 0, 1],\n",
       "       [1, 0, 0],\n",
       "       [1, 0, 0],\n",
       "       [0, 1, 0],\n",
       "       [0, 0, 1],\n",
       "       [1, 0, 0],\n",
       "       [0, 1, 0],\n",
       "       [0, 1, 0],\n",
       "       [0, 0, 1],\n",
       "       [0, 1, 0],\n",
       "       [0, 1, 0],\n",
       "       [0, 1, 0],\n",
       "       [0, 0, 1]], dtype=uint8)"
      ]
     },
     "execution_count": 11,
     "metadata": {},
     "output_type": "execute_result"
    }
   ],
   "source": [
    "#Predicción para datos de prueba\n",
    "y_pred_test = knn.predict(df_x_normalized_test)\n",
    "y_pred_test"
   ]
  },
  {
   "cell_type": "markdown",
   "metadata": {},
   "source": [
    "### Métricas\n",
    "\n",
    "A continuación se plantean métricas de desempeño por clase para el modelo entrenado con datos normalizados.\n",
    "\n",
    "Primero se definen una serie de funciones que nos permitirán general mas métricas con mayor facilidad."
   ]
  },
  {
   "cell_type": "code",
   "execution_count": 16,
   "metadata": {},
   "outputs": [],
   "source": [
    "y_train = df_y_train.values\n",
    "\n",
    "def cm_multi (y,y_pred):\n",
    "  cm_m = metrics.confusion_matrix(one_hot_to_label_encoding(y), one_hot_to_label_encoding(y_pred))\n",
    "  return cm_m\n",
    "\n",
    "def one_hot_to_label_encoding(y_one_hot):\n",
    "  \"\"\"\n",
    "  Esta función convierte un arreglo numpy y_one_hot, correspondiente a una matriz de \n",
    "  m observaciones por n clases de tipo binario, en un vector columna y_label_encoded\n",
    "  de m filas cuyos elementos pueden tomar valores entre 0 y n-1. En ese caso\n",
    "  0 corresponde a la primera categoría, 1 a la segunda categoría, y así\n",
    "  sucesivamente. \n",
    "  \"\"\"\n",
    "  rows,cols=y_one_hot.shape            #Obtengo las dimensiones del arreglo.\n",
    "  y_label_encoded = np.zeros((rows,1)) #Inicializo el arreglo de salida en ceros. \n",
    "  for i in range(cols): #Para todas las categorías (aunque estrictamente esto puede dejarse como range(1,cols,1), pues i=0 no hace nada. )\n",
    "    y_label_encoded += i*y_one_hot[:,i].reshape((-1,1))  #Esto presume que la primera categoría se codifica como 0, \n",
    "                                                         #la siguiente como 1, etc...\n",
    "  return y_label_encoded"
   ]
  },
  {
   "cell_type": "markdown",
   "metadata": {},
   "source": [
    "#### 1. Matriz de Confusión"
   ]
  },
  {
   "cell_type": "code",
   "execution_count": 22,
   "metadata": {
    "scrolled": false
   },
   "outputs": [
    {
     "name": "stdout",
     "output_type": "stream",
     "text": [
      "Clase 0:\n",
      "Iris-setosa\n",
      "Clase 1:\n",
      "Iris-versicolor\n",
      "Clase 2:\n",
      "Iris-virginica\n"
     ]
    },
    {
     "data": {
      "image/png": "[encoded data removed]",
      "text/plain": [
       "<Figure size 432x288 with 2 Axes>"
      ]
     },
     "metadata": {
      "needs_background": "light"
     },
     "output_type": "display_data"
    }
   ],
   "source": [
    "#Matriz de confusión para datos de entrenamiento\n",
    "cm_train = cm_multi(y_train, y_pred_train)\n",
    "disp_1 = metrics.ConfusionMatrixDisplay(confusion_matrix = cm_train)\n",
    "disp_1.plot()\n",
    "\n",
    "for i in range(len(df_y.columns)):\n",
    "    print('Clase %d:' % i)\n",
    "    print(df_y.columns[i])"
   ]
  },
  {
   "cell_type": "code",
   "execution_count": 26,
   "metadata": {},
   "outputs": [
    {
     "name": "stdout",
     "output_type": "stream",
     "text": [
      "Clase 0:\n",
      "Iris-setosa\n",
      "Clase 1:\n",
      "Iris-versicolor\n",
      "Clase 2:\n",
      "Iris-virginica\n"
     ]
    },
    {
     "data": {
      "image/png": "[encoded data removed]",
      "text/plain": [
       "<Figure size 432x288 with 2 Axes>"
      ]
     },
     "metadata": {
      "needs_background": "light"
     },
     "output_type": "display_data"
    }
   ],
   "source": [
    "#Matriz de confusión para datos de prueba\n",
    "y_test = df_y_test.values\n",
    "cm_test = cm_multi(y_test, y_pred_test)\n",
    "disp_1 = metrics.ConfusionMatrixDisplay(confusion_matrix = cm_test)\n",
    "disp_1.plot()\n",
    "\n",
    "for i in range(len(df_y.columns)):\n",
    "    print('Clase %d:' % i)\n",
    "    print(df_y.columns[i])"
   ]
  },
  {
   "cell_type": "markdown",
   "metadata": {},
   "source": [
    "#### 2. Métricas estadísticas"
   ]
  },
  {
   "cell_type": "code",
   "execution_count": 25,
   "metadata": {},
   "outputs": [
    {
     "name": "stdout",
     "output_type": "stream",
     "text": [
      "                 precision    recall  f1-score   support\n",
      "\n",
      "    Iris-setosa       1.00      1.00      1.00        42\n",
      "Iris-versicolor       0.95      0.97      0.96        39\n",
      " Iris-virginica       0.97      0.95      0.96        39\n",
      "\n",
      "       accuracy                           0.97       120\n",
      "      macro avg       0.97      0.97      0.97       120\n",
      "   weighted avg       0.98      0.97      0.97       120\n",
      "\n"
     ]
    }
   ],
   "source": [
    "#Métricas estadísticas para datos de entrenamiento\n",
    "print(metrics.classification_report(one_hot_to_label_encoding(y_train),\n",
    "                                    one_hot_to_label_encoding(y_pred_train),\n",
    "                                    target_names = df_y.columns))"
   ]
  },
  {
   "cell_type": "code",
   "execution_count": 27,
   "metadata": {},
   "outputs": [
    {
     "name": "stdout",
     "output_type": "stream",
     "text": [
      "                 precision    recall  f1-score   support\n",
      "\n",
      "    Iris-setosa       1.00      1.00      1.00         8\n",
      "Iris-versicolor       0.83      0.91      0.87        11\n",
      " Iris-virginica       0.90      0.82      0.86        11\n",
      "\n",
      "       accuracy                           0.90        30\n",
      "      macro avg       0.91      0.91      0.91        30\n",
      "   weighted avg       0.90      0.90      0.90        30\n",
      "\n"
     ]
    }
   ],
   "source": [
    "#Métricas estadísticas para datos de prueba\n",
    "print(metrics.classification_report(one_hot_to_label_encoding(y_test),\n",
    "                                    one_hot_to_label_encoding(y_pred_test),\n",
    "                                    target_names = df_y.columns))"
   ]
  },
  {
   "cell_type": "markdown",
   "metadata": {},
   "source": [
    "#### 3. Exactitud general"
   ]
  },
  {
   "cell_type": "code",
   "execution_count": 28,
   "metadata": {},
   "outputs": [
    {
     "name": "stdout",
     "output_type": "stream",
     "text": [
      "Accuaracy of model:  0.9733333333333334\n"
     ]
    }
   ],
   "source": [
    "y_complete = np.append(y_train, y_test)\n",
    "y_pred_complete = np.append(y_pred_train, y_pred_test)\n",
    "\n",
    "accuaracy = metrics.accuracy_score(y_complete, y_pred_complete)\n",
    "print('Accuaracy of model: ', accuaracy)"
   ]
  },
  {
   "cell_type": "markdown",
   "metadata": {},
   "source": [
    "#### 4. Comparación con modelo inicial"
   ]
  },
  {
   "cell_type": "markdown",
   "metadata": {},
   "source": [
    "Nuestro modelo inicial contaba con una precisión del 98.22%, mientras que este nuevo modelo entrenado con datos normalizados, tuvo una precisión menor: 97.33%"
   ]
  },
  {
   "cell_type": "markdown",
   "metadata": {
    "id": "tnCvSh2J4kYL"
   },
   "source": [
    "## **Ejercicio 4:**\n",
    "\n",
    "Entrene y evalúe clasificadores KNN usando los atributos no normalizados para valores de K={1,3,7,9,11,13,15}. De acuerdo con los resultados obtenidos, ¿qué valor de K recomendaría?. Tenga en cuenta evaluar tanto con los datos de entrenamiento como de prueba."
   ]
  },
  {
   "cell_type": "markdown",
   "metadata": {
    "id": "axrWTyMU4kYM"
   },
   "source": [
    "## **Ejercicio 5:**\n",
    "\n",
    "Entrene y evalúe clasificadores KNN usando los atributos normalizados para valores de K={1,3,7,9,11,13,15}. De acuerdo con los resultados obtenidos, ¿qué valor de K recomendaría?. Compare los resultados obtenidos en este punto con los obtenidos en el Ejercicio 4. Tenga en cuenta evaluar tanto con los datos de entrenamiento como de prueba."
   ]
  },
  {
   "cell_type": "markdown",
   "metadata": {
    "id": "4_zP49ES4kYM"
   },
   "source": [
    "## **Ejercicio 6.**\n",
    "\n",
    "Encuentre un modelo de clasificación KNN que utilice solo tres atributos y cuyo desempeño sea igual o mejor que el modelo que usa cuatro atributos. Decida si es conveniente normalizar o no los atributos. Utilice diferentes valores de K. Para comparar varios modelos genere diferentes métricas de desempeño.\n",
    "Al final indique, ¿por qué escogió esos atributos?, de los modelos entrenados ¿cuál escogería y por qué? ¿qué métricas de desempeño reportaría a un cliente y por qué?"
   ]
  },
  {
   "cell_type": "markdown",
   "metadata": {
    "id": "SosgqKIk4kYN"
   },
   "source": [
    "## **Ejercicio 7.**\n",
    "\n",
    "Encuentre un modelo de clasificación KNN que utilice solo dos atributos y cuyo desempeño sea comparable con el modelo que usa cuatro atributos. Decida si es conveniente normalizar o no los atributos. Utilice diferentes valores de K. Para comparar varios modelos genere diferentes métricas de desempeño.\n",
    "Al final indique, ¿por qué escogió esos atributos?, de los modelos entrenados ¿cuál escogería y por qué? ¿qué métricas de desempeño reportaría a un cliente y por qué?"
   ]
  },
  {
   "cell_type": "markdown",
   "metadata": {
    "id": "OSuBoHdP4kYN"
   },
   "source": [
    "## **Ejercicio 8.**\n",
    "\n",
    "¿Qué valores puede tomar el hiperparámetro metric? ¿Cuál es la distancia que utiliza por defecto el clasificador KNN?\n",
    "¿Qué valores puede tomar el hiperparámetro weight y cuál podría ser su utilidad?"
   ]
  },
  {
   "cell_type": "markdown",
   "metadata": {
    "id": "gBAjBA-w5wFn"
   },
   "source": [
    "# **FIN**"
   ]
  },
  {
   "cell_type": "markdown",
   "metadata": {
    "id": "ZY1omm624kYO"
   },
   "source": [
    "# **Metodología**\n",
    "\n",
    "1. Desarrolle las Preguntas propuestas en el Taller 3 de forma individual.\n",
    "\n",
    "2. Después de la sesión de Taller 3, suba a Intu el archivo con la solución a las preguntas con nombre en el siguiente formato:\n",
    "\n",
    "Taller_3_Apellido-Nombre.ipynb\n",
    "\n",
    "3. Resuelva los Ejercicios Propuestos (en grupos de máximo 2 personas) en un nuevo notebook de Jupyter y suba el archivo a Intu hasta el próximo miércoles 21 de septiembre a las 7:00 am (antes del inicio de la clase). Utilice el siguiente formato para el nombre del archivo.\n",
    "\n",
    "Ejercicios_Taller_2_Apellido-Nombre_Apellido-Nombre.ipynb\n",
    "\n",
    "4.\tRecuerde consignar los nombres de los integrantes dentro del notebook.\n",
    "\n",
    "5.\tAlgunos grupos serán llamados al azar durante la clase del miércoles 21 de septiembre para realizar la presentación de alguno (s) de los puntos.\n",
    "\n",
    "6. La nota del Taller 3 se asignará así:\n",
    "\n",
    "- Preguntas Taller 2 (20%)\n",
    "\n",
    "- Ejercicios Taller 2 (80%)\n"
   ]
  }
 ],
 "metadata": {
  "colab": {
   "collapsed_sections": [],
   "provenance": []
  },
  "kernelspec": {
   "display_name": "Python 3",
   "language": "python",
   "name": "python3"
  },
  "language_info": {
   "codemirror_mode": {
    "name": "ipython",
    "version": 3
   },
   "file_extension": ".py",
   "mimetype": "text/x-python",
   "name": "python",
   "nbconvert_exporter": "python",
   "pygments_lexer": "ipython3",
   "version": "3.8.3"
  }
 },
 "nbformat": 4,
 "nbformat_minor": 1
}
